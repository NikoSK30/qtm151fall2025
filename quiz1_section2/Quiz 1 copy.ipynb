{
 "cells": [
  {
   "attachments": {},
   "cell_type": "markdown",
   "metadata": {},
   "source": [
    "# <span style=\"color:red\"> QTM 151 - Quiz 1 </span>"
   ]
  },
  {
   "attachments": {},
   "cell_type": "markdown",
   "metadata": {},
   "source": [
    "## Submit as an HTML file\n",
    "## Quiz is open 1:00pm to 1:50pm"
   ]
  },
  {
   "attachments": {},
   "cell_type": "markdown",
   "metadata": {},
   "source": [
    "<font size=\"5\"> \n",
    "\n",
    "Print your name below"
   ]
  },
  {
   "cell_type": "code",
   "execution_count": 34,
   "metadata": {},
   "outputs": [
    {
     "name": "stdout",
     "output_type": "stream",
     "text": [
      "Niko Sample-Kietrys\n"
     ]
    }
   ],
   "source": [
    "# Write your answer here\n",
    "\n",
    "print(\"Niko Sample-Kietrys\")"
   ]
  },
  {
   "attachments": {},
   "cell_type": "markdown",
   "metadata": {},
   "source": [
    "<font size = \"5\" >\n",
    "This quiz is open book \n",
    "\n",
    "- You can use the lecture notes\n",
    "- You will get partial credit for attempting the questions\n",
    "- To get full credit, the code should work as intended\n",
    "- You should <span style=\"color:red\"> NOT </span> communicate with other students\n",
    "\n",
    "Print the following message: <br>\n",
    "\n",
    "\"I will abide by Emory's code of conduct\"\n"
   ]
  },
  {
   "cell_type": "code",
   "execution_count": 35,
   "metadata": {},
   "outputs": [
    {
     "name": "stdout",
     "output_type": "stream",
     "text": [
      "I will abide by Emory's code of conduct\n"
     ]
    }
   ],
   "source": [
    "# Write your answer here:\n",
    "print(\"I will abide by Emory's code of conduct\")\n"
   ]
  },
  {
   "attachments": {},
   "cell_type": "markdown",
   "metadata": {},
   "source": [
    "<font size = \"5\">\n",
    "\n",
    "Import the libraries \"numpy\", \"matplotlib.pyplot\", and \"pandas\""
   ]
  },
  {
   "cell_type": "code",
   "execution_count": 36,
   "metadata": {},
   "outputs": [],
   "source": [
    "import numpy as np \n",
    "import matplotlib.pyplot as plt \n",
    "import pandas as pd\n"
   ]
  },
  {
   "cell_type": "markdown",
   "metadata": {},
   "source": [
    "<font size = \"5\">\n",
    "\n",
    "1. IF/ELIF/ELSE statements\n",
    "\n",
    "<font size = \"3\">\n",
    "\n",
    "- In the beginning of the code cell below, two lists are created, where element 0 is one of two random choices: \n",
    "```python\n",
    "list_p = [\"Introduction\"/\"Intro\", \"to\", \"Python\"]\n",
    "list_r = [\"Introduction\"/\"Intro\", \"to\", \"R\"]\n",
    "```\n",
    "\n",
    "- Create a new variable ``` keyword = \"Introduction\" ```\n",
    "- Create an if/elif/else block that tests whether ``` keyword ``` is part of either <br>\n",
    "list.  Depending on the outcome (belongs to list_p, belongs to list_r, doesn't belong to either list) print an appropriate message to the screen.\n",
    "\n",
    "HINT: If the creation of list_p and list_r is confusing, add print statements to view the two lists and run the cell 3-4 times to see some of the possible situations\n",
    "\n",
    "\n"
   ]
  },
  {
   "cell_type": "code",
   "execution_count": 59,
   "metadata": {},
   "outputs": [
    {
     "name": "stdout",
     "output_type": "stream",
     "text": [
      "Keyword doesn't belong to either list\n"
     ]
    }
   ],
   "source": [
    "### create lists DO NOT CHANGE\n",
    "str_choices = [[\"Introduction\", \"Intro\"], [\"Intro\", \"Introduction\"], [\"Intro\", \"Intro\"]]\n",
    "str_indices = np.random.choice([0, 1, 2])\n",
    "start_str = str_choices[str_indices]\n",
    "\n",
    "list_p = [start_str[0], \"to\", \"Python\"]\n",
    "list_r = [start_str[1], \"to\", \"R\"]\n",
    "\n",
    "### Your solution below\n",
    "\n",
    "keyword = \"Introduction\"\n",
    "\n",
    "if keyword in list_p:\n",
    "    print(\"Keyword belongs to list_p\")\n",
    "elif keyword in list_r:\n",
    "    print(\"Keyword belongs to list_r\")\n",
    "else:\n",
    "    print(\"Keyword doesn't belong to either list\")\n"
   ]
  },
  {
   "attachments": {},
   "cell_type": "markdown",
   "metadata": {},
   "source": [
    "<font size = \"5\">\n",
    "\n",
    "2. Generate a vector of values and plot it\n",
    "\n",
    "<font size = \"3\">\n",
    "\n",
    "- Below, two lists are defined containing values of $x_k$ and $y_k$\n",
    "\n",
    "```python\n",
    "    coord_x = [1,4, 0, -1, 20, 40]\n",
    "    coord_y = [2,2, 0, 10, 0, 1]\n",
    "```\n",
    "\n",
    "- Create a vector (**vector always means numpy array**) ```hypotenuse_sqr``` with elements $h_k$ defined by the formula\n",
    "\n",
    "$\\qquad h_k = x_k^2 + y_k^2$\n",
    "\n",
    "- You **should not** define it manually: so \"hypoteneuse_sqr = np.array([5, 20, 0, 101, 400, 1601])\" is not an acceptable answer\n",
    "\n",
    "- Produce a **histogram** with the elements of ```hypotenuse_sqr``` on the horizontal axis\n",
    "- Label the axes and the title\n",
    "- Change the color to \"orange\", \"green\" or \"purple\" (you choose)\n",
    "- Make sure the plot appears in an output cell\n",
    "\n",
    "Hint: Most mathematical operations are defined for Numpy arrays, which allows you to avoid loops\n",
    "\n",
    "Hint: type \"help(plt.hist)\" to see which argument is used to change color"
   ]
  },
  {
   "cell_type": "code",
   "execution_count": 60,
   "metadata": {},
   "outputs": [
    {
     "data": {
      "text/plain": [
       "<function matplotlib.pyplot.show(close=None, block=None)>"
      ]
     },
     "execution_count": 60,
     "metadata": {},
     "output_type": "execute_result"
    },
    {
     "data": {
      "image/png": "[encoded data removed]",
      "text/plain": [
       "<Figure size 640x480 with 1 Axes>"
      ]
     },
     "metadata": {},
     "output_type": "display_data"
    }
   ],
   "source": [
    "coord_x = [1,4, 0, -1, 20, 40]\n",
    "coord_y = [2,2, 0, 10, 0, 1]\n",
    "\n",
    "### Your solution below\n",
    "x = np.array(coord_x)\n",
    "y = np.array(coord_y)\n",
    "hypotenuse_sqr = np.array(x**2 + y**2)\n",
    "\n",
    "plt.hist(x = hypotenuse_sqr, color = \"green\")\n",
    "plt.xlabel(\"Values\")\n",
    "plt.ylabel(\"Count\")\n",
    "plt.title(\"Elements of hypotenuse_sqr\")\n",
    "plt.show\n"
   ]
  },
  {
   "attachments": {},
   "cell_type": "markdown",
   "metadata": {},
   "source": [
    "<font size = \"5\">\n",
    "\n",
    "3. Histograms of random variables\n",
    "\n",
    "<font size = \"3\">\n",
    "\n",
    "- Let $n = 500$\n",
    "- Generate \"vec_x\" from a normal distribution with (loc = 0,scale = 1,size = n)\n",
    "- Generate \"vex_z\" from a normal distribution with (loc = 5,scale = 1,size = n)\n",
    "- Plot two **histograms** on a single row using the ```plt.subplots``` syntax\n",
    "    - Label the axes and title\n",
    "    - Each graph should have its axes labeled, and should have their own title\n",
    " \n",
    "Hint: If you can't remember how subplots works, generate two individual plots for partial credit"
   ]
  },
  {
   "cell_type": "code",
   "execution_count": 61,
   "metadata": {},
   "outputs": [
    {
     "data": {
      "image/png": "[encoded data removed]",
      "text/plain": [
       "<Figure size 900x300 with 2 Axes>"
      ]
     },
     "metadata": {},
     "output_type": "display_data"
    }
   ],
   "source": [
    "n = 500\n",
    "\n",
    "### Your solution below:\n",
    "\n",
    "vec_x = np.random.normal(loc = 0, scale = 1, size = n)\n",
    "vec_z = np.random.normal(loc = 5, scale = 1, size = n)\n",
    "\n",
    "fig, subfig_array = plt.subplots(1, 2, figsize = (9,3))\n",
    "\n",
    "# Plot vec_x\n",
    "subfig_array[0].hist(vec_x)\n",
    "subfig_array[0].set_title(\"Distribution of vec_x\")\n",
    "subfig_array[0].set_ylabel(\"Frequency\")\n",
    "subfig_array[0].set_xlabel(\"Values of vec_x\")\n",
    "\n",
    "# Plot vec_z\n",
    "subfig_array[1].hist(vec_z)\n",
    "subfig_array[1].set_title(\"Distribution of vec_z\")\n",
    "subfig_array[1].set_ylabel(\"Frequency\")\n",
    "subfig_array[1].set_xlabel(\"Values of vec_z\")\n",
    "\n",
    "plt.tight_layout()"
   ]
  },
  {
   "cell_type": "markdown",
   "metadata": {},
   "source": [
    "<font size = \"5\">\n",
    "\n",
    "4. Combine information across datasets\n",
    "\n",
    "<font size = \"3\">\n",
    "\n",
    "- Read the dataset \"/data_quiz_1/germany_co2_emissions.csv\" and store it as \"data_germany\"\n",
    "- View the dataset, and see what variables it contains\n",
    "- Create a **scatter plot** of CO2 emissions with the following characteristics\n",
    "    - The yearly variable on the x-axis.\n",
    "    - Germany's CO2 emissions on the y-axis.\n",
    "    - Label the axes\n"
   ]
  },
  {
   "cell_type": "code",
   "execution_count": 67,
   "metadata": {},
   "outputs": [
    {
     "data": {
      "image/png": "[encoded data removed]",
      "text/plain": [
       "<Figure size 640x480 with 1 Axes>"
      ]
     },
     "metadata": {},
     "output_type": "display_data"
    },
    {
     "data": {
      "application/vnd.microsoft.datawrangler.viewer.v0+json": {
       "columns": [
        {
         "name": "index",
         "rawType": "int64",
         "type": "integer"
        },
        {
         "name": "year",
         "rawType": "int64",
         "type": "integer"
        },
        {
         "name": "total_emissions",
         "rawType": "float64",
         "type": "float"
        }
       ],
       "ref": "0cb2dffb-e06b-4c66-9e88-e3a363b28e6c",
       "rows": [
        [
         "0",
         "1990",
         "955310.0"
        ],
        [
         "1",
         "1991",
         "932550.0"
        ],
        [
         "2",
         "1992",
         "892820.0"
        ],
        [
         "3",
         "1993",
         "887060.0"
        ],
        [
         "4",
         "1994",
         "875900.0"
        ],
        [
         "5",
         "1995",
         "874660.0"
        ],
        [
         "6",
         "1996",
         "904340.0"
        ],
        [
         "7",
         "1997",
         "872650.0"
        ],
        [
         "8",
         "1998",
         "865250.0"
        ],
        [
         "9",
         "1999",
         "833590.0"
        ],
        [
         "10",
         "2000",
         "830280.0"
        ],
        [
         "11",
         "2001",
         "847680.0"
        ],
        [
         "12",
         "2002",
         "833380.004882813"
        ],
        [
         "13",
         "2003",
         "836789.978027344"
        ],
        [
         "14",
         "2004",
         "821070.007324219"
        ],
        [
         "15",
         "2005",
         "802380.004882813"
        ],
        [
         "16",
         "2006",
         "814409.973144531"
        ],
        [
         "17",
         "2007",
         "783799.987792969"
        ],
        [
         "18",
         "2008",
         "789690.002441406"
        ],
        [
         "19",
         "2009",
         "734809.997558594"
        ],
        [
         "20",
         "2010",
         "773070.007324219"
        ],
        [
         "21",
         "2011",
         "746479.98046875"
        ],
        [
         "22",
         "2012",
         "760130.004882813"
        ],
        [
         "23",
         "2013",
         "776150.024414063"
        ],
        [
         "24",
         "2014",
         "736010.009765625"
        ],
        [
         "25",
         "2015",
         "742309.997558594"
        ],
        [
         "26",
         "2016",
         "747150.024414063"
        ],
        [
         "27",
         "2017",
         "732200.012207031"
        ],
        [
         "28",
         "2018",
         "707700.012207031"
        ],
        [
         "29",
         "2019",
         "657400.024414063"
        ]
       ],
       "shape": {
        "columns": 2,
        "rows": 30
       }
      },
      "text/html": [
       "<div>\n",
       "<style scoped>\n",
       "    .dataframe tbody tr th:only-of-type {\n",
       "        vertical-align: middle;\n",
       "    }\n",
       "\n",
       "    .dataframe tbody tr th {\n",
       "        vertical-align: top;\n",
       "    }\n",
       "\n",
       "    .dataframe thead th {\n",
       "        text-align: right;\n",
       "    }\n",
       "</style>\n",
       "<table border=\"1\" class=\"dataframe\">\n",
       "  <thead>\n",
       "    <tr style=\"text-align: right;\">\n",
       "      <th></th>\n",
       "      <th>year</th>\n",
       "      <th>total_emissions</th>\n",
       "    </tr>\n",
       "  </thead>\n",
       "  <tbody>\n",
       "    <tr>\n",
       "      <th>0</th>\n",
       "      <td>1990</td>\n",
       "      <td>955310.000000</td>\n",
       "    </tr>\n",
       "    <tr>\n",
       "      <th>1</th>\n",
       "      <td>1991</td>\n",
       "      <td>932550.000000</td>\n",
       "    </tr>\n",
       "    <tr>\n",
       "      <th>2</th>\n",
       "      <td>1992</td>\n",
       "      <td>892820.000000</td>\n",
       "    </tr>\n",
       "    <tr>\n",
       "      <th>3</th>\n",
       "      <td>1993</td>\n",
       "      <td>887060.000000</td>\n",
       "    </tr>\n",
       "    <tr>\n",
       "      <th>4</th>\n",
       "      <td>1994</td>\n",
       "      <td>875900.000000</td>\n",
       "    </tr>\n",
       "    <tr>\n",
       "      <th>5</th>\n",
       "      <td>1995</td>\n",
       "      <td>874660.000000</td>\n",
       "    </tr>\n",
       "    <tr>\n",
       "      <th>6</th>\n",
       "      <td>1996</td>\n",
       "      <td>904340.000000</td>\n",
       "    </tr>\n",
       "    <tr>\n",
       "      <th>7</th>\n",
       "      <td>1997</td>\n",
       "      <td>872650.000000</td>\n",
       "    </tr>\n",
       "    <tr>\n",
       "      <th>8</th>\n",
       "      <td>1998</td>\n",
       "      <td>865250.000000</td>\n",
       "    </tr>\n",
       "    <tr>\n",
       "      <th>9</th>\n",
       "      <td>1999</td>\n",
       "      <td>833590.000000</td>\n",
       "    </tr>\n",
       "    <tr>\n",
       "      <th>10</th>\n",
       "      <td>2000</td>\n",
       "      <td>830280.000000</td>\n",
       "    </tr>\n",
       "    <tr>\n",
       "      <th>11</th>\n",
       "      <td>2001</td>\n",
       "      <td>847680.000000</td>\n",
       "    </tr>\n",
       "    <tr>\n",
       "      <th>12</th>\n",
       "      <td>2002</td>\n",
       "      <td>833380.004883</td>\n",
       "    </tr>\n",
       "    <tr>\n",
       "      <th>13</th>\n",
       "      <td>2003</td>\n",
       "      <td>836789.978027</td>\n",
       "    </tr>\n",
       "    <tr>\n",
       "      <th>14</th>\n",
       "      <td>2004</td>\n",
       "      <td>821070.007324</td>\n",
       "    </tr>\n",
       "    <tr>\n",
       "      <th>15</th>\n",
       "      <td>2005</td>\n",
       "      <td>802380.004883</td>\n",
       "    </tr>\n",
       "    <tr>\n",
       "      <th>16</th>\n",
       "      <td>2006</td>\n",
       "      <td>814409.973145</td>\n",
       "    </tr>\n",
       "    <tr>\n",
       "      <th>17</th>\n",
       "      <td>2007</td>\n",
       "      <td>783799.987793</td>\n",
       "    </tr>\n",
       "    <tr>\n",
       "      <th>18</th>\n",
       "      <td>2008</td>\n",
       "      <td>789690.002441</td>\n",
       "    </tr>\n",
       "    <tr>\n",
       "      <th>19</th>\n",
       "      <td>2009</td>\n",
       "      <td>734809.997559</td>\n",
       "    </tr>\n",
       "    <tr>\n",
       "      <th>20</th>\n",
       "      <td>2010</td>\n",
       "      <td>773070.007324</td>\n",
       "    </tr>\n",
       "    <tr>\n",
       "      <th>21</th>\n",
       "      <td>2011</td>\n",
       "      <td>746479.980469</td>\n",
       "    </tr>\n",
       "    <tr>\n",
       "      <th>22</th>\n",
       "      <td>2012</td>\n",
       "      <td>760130.004883</td>\n",
       "    </tr>\n",
       "    <tr>\n",
       "      <th>23</th>\n",
       "      <td>2013</td>\n",
       "      <td>776150.024414</td>\n",
       "    </tr>\n",
       "    <tr>\n",
       "      <th>24</th>\n",
       "      <td>2014</td>\n",
       "      <td>736010.009766</td>\n",
       "    </tr>\n",
       "    <tr>\n",
       "      <th>25</th>\n",
       "      <td>2015</td>\n",
       "      <td>742309.997559</td>\n",
       "    </tr>\n",
       "    <tr>\n",
       "      <th>26</th>\n",
       "      <td>2016</td>\n",
       "      <td>747150.024414</td>\n",
       "    </tr>\n",
       "    <tr>\n",
       "      <th>27</th>\n",
       "      <td>2017</td>\n",
       "      <td>732200.012207</td>\n",
       "    </tr>\n",
       "    <tr>\n",
       "      <th>28</th>\n",
       "      <td>2018</td>\n",
       "      <td>707700.012207</td>\n",
       "    </tr>\n",
       "    <tr>\n",
       "      <th>29</th>\n",
       "      <td>2019</td>\n",
       "      <td>657400.024414</td>\n",
       "    </tr>\n",
       "  </tbody>\n",
       "</table>\n",
       "</div>"
      ],
      "text/plain": [
       "    year  total_emissions\n",
       "0   1990    955310.000000\n",
       "1   1991    932550.000000\n",
       "2   1992    892820.000000\n",
       "3   1993    887060.000000\n",
       "4   1994    875900.000000\n",
       "5   1995    874660.000000\n",
       "6   1996    904340.000000\n",
       "7   1997    872650.000000\n",
       "8   1998    865250.000000\n",
       "9   1999    833590.000000\n",
       "10  2000    830280.000000\n",
       "11  2001    847680.000000\n",
       "12  2002    833380.004883\n",
       "13  2003    836789.978027\n",
       "14  2004    821070.007324\n",
       "15  2005    802380.004883\n",
       "16  2006    814409.973145\n",
       "17  2007    783799.987793\n",
       "18  2008    789690.002441\n",
       "19  2009    734809.997559\n",
       "20  2010    773070.007324\n",
       "21  2011    746479.980469\n",
       "22  2012    760130.004883\n",
       "23  2013    776150.024414\n",
       "24  2014    736010.009766\n",
       "25  2015    742309.997559\n",
       "26  2016    747150.024414\n",
       "27  2017    732200.012207\n",
       "28  2018    707700.012207\n",
       "29  2019    657400.024414"
      ]
     },
     "execution_count": 67,
     "metadata": {},
     "output_type": "execute_result"
    }
   ],
   "source": [
    "### Your solution below:\n",
    "\n",
    "data_germany = pd.read_csv(\"data_quiz_1/germany_co2_emissions.csv\")\n",
    "\n",
    "plt.scatter(x = data_germany['year'], y = data_germany['total_emissions'], color = \"red\")\n",
    "plt.title(\"CO2 Emissions by Year in Germany\")\n",
    "plt.xlabel(\"Years\")\n",
    "plt.ylabel(\"Kilotons of CO2\")\n",
    "plt.show()\n",
    "\n",
    "data_germany"
   ]
  },
  {
   "attachments": {},
   "cell_type": "markdown",
   "metadata": {},
   "source": [
    "<font size = \"5\">\n",
    "\n",
    "5. Loop through dfferent variables and plot\n",
    "\n",
    "\n",
    "<font size = \"3\">\n",
    "\n",
    "- Read the dataset \"data_quiz_1/wdi_ageprop_2020.csv\"\n",
    "- Create a list of variable names with the following elements:\n",
    "\n",
    "```python\n",
    "    list_varnames = [\"percent_ages0to14\",\"percent_ages15to64\"]\n",
    "```\n",
    "\n",
    "- Run a for loop that computes the mean for each variable and print it on screen.\n",
    "\n",
    "Hint: Computing the mean of a column/variable from a Pandas dataset is just like computing the mean of a Numpy array\n"
   ]
  },
  {
   "cell_type": "code",
   "execution_count": 68,
   "metadata": {},
   "outputs": [
    {
     "name": "stdout",
     "output_type": "stream",
     "text": [
      "Mean for percent_ages0to14 is 26.90657125728302\n",
      "Mean for percent_ages15to64 is 63.68465159973585\n"
     ]
    }
   ],
   "source": [
    "### Your solution below:\n",
    "\n",
    "age_pop = pd.read_csv(\"data_quiz_1/wdi_ageprop_2020.csv\")\n",
    "\n",
    "list_varnames = [\"percent_ages0to14\",\"percent_ages15to64\"]\n",
    "\n",
    "for element in list_varnames:\n",
    "    print(\"Mean for\", element, \"is\", np.mean(age_pop[element]))\n"
   ]
  },
  {
   "cell_type": "markdown",
   "metadata": {},
   "source": [
    "<font size = \"5\">\n",
    "\n",
    "6. Run loop through different datasets and compute statistics\n",
    "\n",
    "<font size = \"3\">\n",
    "\n",
    "- Create a list with the \".csv\" dataset names of two countries of your choice. For example\n",
    "\n",
    "```python\n",
    "    [\"data_quiz_1/name1.csv\",\"data_quiz_1/name2.csv\"] \n",
    "```\n",
    "\n",
    "- Create an empty list called ``` list_emissions ```\n",
    "\n",
    "- Run a for-loop over the list of dataset names. Inside the loop:\n",
    "    - Read the corresponding \".csv\" dataset.\n",
    "    - Compute the mean of \"total_emissions\" for each respective country, <br>\n",
    "    and store it as an element of ```list_emissions```\n",
    "\n",
    "- After the loop, print ```list_emissions```\n",
    "\n",
    "HINT: Use ```.append()``` (See Lecture 5-supplement or Lecture 7)\n"
   ]
  },
  {
   "cell_type": "code",
   "execution_count": 69,
   "metadata": {},
   "outputs": [
    {
     "name": "stdout",
     "output_type": "stream",
     "text": [
      "[np.float64(3599957.523613542), np.float64(802812.5477612636)]\n"
     ]
    }
   ],
   "source": [
    "### Your solution below:\n",
    "\n",
    "csv_list = [\"data_quiz_1/china_co2_emissions.csv\", \"data_quiz_1/india_co2_emissions.csv\"]\n",
    "\n",
    "list_emissions = []\n",
    "\n",
    "for element in csv_list:\n",
    "    data = pd.read_csv(element)\n",
    "    mean_emissions = np.mean(data[\"total_emissions\"])\n",
    "    list_emissions.append(mean_emissions)\n",
    "\n",
    "print(list_emissions)\n"
   ]
  }
 ],
 "metadata": {
  "kernelspec": {
   "display_name": "base",
   "language": "python",
   "name": "python3"
  },
  "language_info": {
   "codemirror_mode": {
    "name": "ipython",
    "version": 3
   },
   "file_extension": ".py",
   "mimetype": "text/x-python",
   "name": "python",
   "nbconvert_exporter": "python",
   "pygments_lexer": "ipython3",
   "version": "3.13.5"
  },
  "orig_nbformat": 4
 },
 "nbformat": 4,
 "nbformat_minor": 2
}
