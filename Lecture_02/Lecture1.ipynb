{
 "cells": [
  {
   "attachments": {},
   "cell_type": "markdown",
   "metadata": {},
   "source": [
    "# <span style=\"color:darkblue\" fontsize = 500> Lecture 1: Introduction to Jupyter Notebooks </span>"
   ]
  },
  {
   "cell_type": "markdown",
   "metadata": {},
   "source": [
    "<font size=\"5\">\n",
    "\n",
    "The basic structure for running Python for data projects\n",
    "<img src=\"figures/project_flow.png\" alt=\"drawing\" width=\"650\"/>\n",
    "- Python is a general purpose language\n",
    "- Researchers and practitioners add new functionalities all the time\n",
    "- New features are included as libraries on top of the \"basic\" installation\n",
    "\n",
    "***"
   ]
  },
  {
   "cell_type": "markdown",
   "metadata": {},
   "source": [
    "### The basic structure for running Python for data projects\n",
    "<img src=\"figures/project_flow.png\" alt=\"drawing\" width=\"650\"/>\n",
    "\n",
    "- ### Python is a general purpose language\n",
    "- ### Researchers and practitioners add new functionalities all the time\n",
    "- ### New features are included as libraries on top of the \"basic\" installation"
   ]
  },
  {
   "cell_type": "markdown",
   "metadata": {},
   "source": [
    "# <span style=\"color:darkblue\"> STEP 0: Preliminaries </span>\n",
    "\n",
    "<font size=\"5\"> \n",
    "\n",
    "- A Virtual Environment is an isolated **directory/workspace** (folder in your computer) <br>\n",
    "that contains a specific **collection of packages**\n",
    "\n",
    "- A package is a folder containing a set of Python scripts or <br>\n",
    "modules which allow you to accomplish a defined task <br> \n",
    "(visualization, analysis, mathematical operations, etc.)"
   ]
  },
  {
   "cell_type": "markdown",
   "metadata": {},
   "source": [
    "<font size = \"5\">\n",
    "\n",
    "To manage packages open \"Anaconda Navigator\" on your <br>\n",
    "computer and go to the \"Environment\" Tab"
   ]
  },
  {
   "cell_type": "markdown",
   "metadata": {},
   "source": [
    "<img src=\"figures/anaconda_navigator_installed.png\" alt=\"drawing\" width=\"650\"/>"
   ]
  },
  {
   "cell_type": "markdown",
   "metadata": {},
   "source": [
    "<font size = \"5\">\n",
    "\n",
    "In the future, as your data analysis needs expand, <br>\n",
    "you way want to click on the \"Not installed\" packages <br>\n",
    "to download cool new packages!"
   ]
  },
  {
   "cell_type": "markdown",
   "metadata": {},
   "source": [
    "<img src=\"figures/anaconda_navigator_notinstalled.png\" alt=\"drawing\" width=\"650\"/>"
   ]
  },
  {
   "cell_type": "markdown",
   "metadata": {},
   "source": [
    "<font size = \"5\">\n",
    "\n",
    "Note: Anaconda does not list the default packages in <br>\n",
    "Python's **standard** library.  You have access to these too!<br>\n",
    "See [The Python Standard Library](https://docs.python.org/3/library/index.html) to see what's included. "
   ]
  },
  {
   "cell_type": "markdown",
   "metadata": {},
   "source": [
    "# <span style=\"color:darkblue\"> STEP 1: Setup Working Environment </span>\n",
    "\n",
    "<font size=\"5\"> \n",
    "\n",
    "(a) Double Check that Python is linked to VS Code\n",
    "\n",
    "<img src=\"figures/python_kernel.png\" alt=\"drawing\" width=\"650\"/>\n",
    "\n",
    "- If not already linked, it will say \"Select Kernel\"\n",
    "- Click button, choose \"Python Environments\", then select <br>\n",
    "the version of Python that contains the word \"anaconda\"\n"
   ]
  },
  {
   "cell_type": "markdown",
   "metadata": {},
   "source": [
    "<font size=\"5\"> \n",
    "\n",
    "(b) Try some basic Python commands\n",
    "- use \"print\" to display a message and some basic calculations"
   ]
  },
  {
   "cell_type": "code",
   "execution_count": 1,
   "metadata": {},
   "outputs": [
    {
     "name": "stdout",
     "output_type": "stream",
     "text": [
      "Hello World!\n",
      "5\n",
      "12\n",
      "8\n"
     ]
    }
   ],
   "source": [
    "print(\"Hello World!\")\n",
    "print(2 + 3)\n",
    "print(3*4)\n",
    "print(2**3) # 2 raised to the third power"
   ]
  },
  {
   "cell_type": "markdown",
   "metadata": {},
   "source": [
    "### Let's try and compute $\\log_2(8)$ (which equals 3). \n",
    "### We will get our first error message!"
   ]
  },
  {
   "cell_type": "code",
   "execution_count": 2,
   "metadata": {},
   "outputs": [
    {
     "ename": "NameError",
     "evalue": "name 'log2' is not defined",
     "output_type": "error",
     "traceback": [
      "\u001b[0;31m---------------------------------------------------------------------------\u001b[0m",
      "\u001b[0;31mNameError\u001b[0m                                 Traceback (most recent call last)",
      "Cell \u001b[0;32mIn[2], line 1\u001b[0m\n\u001b[0;32m----> 1\u001b[0m \u001b[38;5;28mprint\u001b[39m(log2(\u001b[38;5;241m8\u001b[39m))\n",
      "\u001b[0;31mNameError\u001b[0m: name 'log2' is not defined"
     ]
    }
   ],
   "source": [
    "print(log2(8))"
   ]
  },
  {
   "cell_type": "markdown",
   "metadata": {},
   "source": [
    "<font size = \"5\">\n",
    "\n",
    "(c) Import Packages (a.k.a. libraries):\n",
    "\n",
    "- Jupyter notebooks launches with very basic options\n",
    "- The \"import\" command adds libraries to the working enviroment. \n",
    "- Once imported, use \".\" to run subcommands contained in the library"
   ]
  },
  {
   "cell_type": "code",
   "execution_count": 3,
   "metadata": {},
   "outputs": [
    {
     "name": "stdout",
     "output_type": "stream",
     "text": [
      "3.0\n"
     ]
    }
   ],
   "source": [
    "import math\n",
    "print(math.log2(8))"
   ]
  },
  {
   "cell_type": "markdown",
   "metadata": {},
   "source": [
    "### Let's import the \"statistics\" library"
   ]
  },
  {
   "cell_type": "code",
<<<<<<< HEAD
   "execution_count": 2,
=======
   "execution_count": 4,
>>>>>>> upstream/main
   "metadata": {},
   "outputs": [
    {
     "name": "stdout",
     "output_type": "stream",
     "text": [
      "5.428571428571429\n",
      "5\n",
      "3.795163026589841\n"
     ]
    }
   ],
   "source": [
    "import statistics\n",
    "\n",
    "print(statistics.mean([1, 7, 3, 5, 9, 1, 12]))\n",
    "print(statistics.median([1, 7, 3, 5, 9, 1, 12]))\n",
    "print(statistics.geometric_mean([1, 7, 3, 5, 9, 1, 12]))"
   ]
  },
  {
   "cell_type": "code",
   "execution_count": 5,
   "metadata": {},
   "outputs": [
    {
     "data": {
      "text/plain": [
       "4.0"
      ]
     },
     "execution_count": 5,
     "metadata": {},
     "output_type": "execute_result"
    }
   ],
   "source": [
    "math.log2(16)"
   ]
  },
  {
   "cell_type": "markdown",
   "metadata": {},
   "source": [
    "<font size = \"5\">\n",
    "\n",
    "(d) Import Packages with nicknames:\n",
    "\n",
    "- Typing \"statistics\" every single time you use that package can be a pain\n",
    "- To create nice plots, we will be using `matplotlib.pyplot` - long name!\n",
    "- Luckily, we can give the libraries a nickname with \"as\"\n",
    "- We will also use `pandas` - library for working with datasets"
   ]
  },
  {
   "cell_type": "code",
<<<<<<< HEAD
   "execution_count": 7,
   "metadata": {},
   "outputs": [
    {
     "ename": "NameError",
     "evalue": "name 'stats' is not defined",
     "output_type": "error",
     "traceback": [
      "\u001b[0;31m---------------------------------------------------------------------------\u001b[0m",
      "\u001b[0;31mNameError\u001b[0m                                 Traceback (most recent call last)",
      "Cell \u001b[0;32mIn[7], line 1\u001b[0m\n\u001b[0;32m----> 1\u001b[0m stats\u001b[38;5;241m.\u001b[39mmean([\u001b[38;5;241m1\u001b[39m, \u001b[38;5;241m2\u001b[39m, \u001b[38;5;241m3\u001b[39m])\n",
      "\u001b[0;31mNameError\u001b[0m: name 'stats' is not defined"
     ]
    }
   ],
   "source": [
    "stats.mean([1, 2, 3])"
   ]
  },
  {
   "cell_type": "code",
   "execution_count": 5,
=======
   "execution_count": 6,
>>>>>>> upstream/main
   "metadata": {},
   "outputs": [
    {
     "name": "stdout",
     "output_type": "stream",
     "text": [
      "5.428571428571429\n"
     ]
    }
   ],
   "source": [
    "# This cell is a code cell. But adding \"#\" at the start of a line makes it a comment.\n",
    "# Comments are ignored by Python, but are useful for humans to understand the code.\n",
    "\n",
    "# Notes about nicknames:\n",
    "# - Import \"statistics\", but give it the nickname \"stats\"\n",
    "# - \"matplotlib.pyplot\" is a long name. Let's call it \"plt\"\n",
    "# - Similarly, let's call \"pandas\" as \"pd\"\n",
    "# - Try adding your own nickname!\n",
    "# - To avoid errors, be consistent with your nicknames\n",
    "\n",
    "import statistics as stats\n",
    "import matplotlib.pyplot as plt\n",
    "import pandas as pd\n",
    "\n",
    "\n",
    "print(stats.mean([1, 7, 3, 5, 9, 1, 12]))"
   ]
  },
  {
   "attachments": {},
   "cell_type": "markdown",
   "metadata": {},
   "source": [
    "<font size=\"5\"> \n",
    "\n",
    "(e) Open datasets\n",
    "\n",
    "Run the command \"read_csv\" from the library <br>\n",
    "\"pandas\" (nicknamed \"pd\"). \n"
   ]
  },
  {
   "cell_type": "code",
<<<<<<< HEAD
   "execution_count": 6,
=======
   "execution_count": null,
>>>>>>> upstream/main
   "metadata": {},
   "outputs": [],
   "source": [
    "\n",
    "# The subcommand \"read_csv()\" opens the file in parenthesis.\n",
    "# We use the \"=\" symbol to store the dataset in the working environment under the name \"carfeatures\"\n",
    "\n",
    "carfeatures = pd.read_csv(\"data/features.csv\") # \"carfeatures\" is a good choice of name for this variable\n",
    "\n",
    "zoo_animals = pd.read_csv(\"data/features.csv\") # but \"zoo_animals\" is not."
   ]
  },
  {
   "attachments": {},
   "cell_type": "markdown",
   "metadata": {},
   "source": [
    "<font size=\"5\"> \n",
    "\n",
    "You can open the datasets in the current environment\n",
    "- Click on the \"Jupyter Variables\" button in the top bar to open a panel\n",
    "\n",
    "<img src=\"figures/topbar.png\" alt=\"drawing\" width=\"650\"/>\n",
    "\n",
    "- Click on the icon to the left of \"carfeatures\" in the \"Jupyter: Variables\" tab\n",
    "\n",
    "<img src=\"figures/jupyter_var.png\" alt=\"drawing\" width=\"700\"/>\n",
    "\n",
    "DataWrangler will open a window showing the data\n",
    "- Each row is an observation (a car)\n",
    "- Each column is the value of a variable (a feature of that car)"
   ]
  },
  {
   "attachments": {},
   "cell_type": "markdown",
   "metadata": {},
   "source": [
    "***"
   ]
  },
  {
   "attachments": {},
   "cell_type": "markdown",
   "metadata": {},
   "source": [
    "\n",
    "# <span style=\"color:darkblue\"> STEP 2: Run Analyses </span>\n",
    "\n",
    "<font size=\"5\"> \n",
    "\n",
    "Output data for all the columns"
   ]
  },
  {
   "cell_type": "code",
<<<<<<< HEAD
   "execution_count": 7,
=======
   "execution_count": 8,
>>>>>>> upstream/main
   "metadata": {},
   "outputs": [
    {
     "data": {
      "application/vnd.microsoft.datawrangler.viewer.v0+json": {
       "columns": [
        {
         "name": "index",
         "rawType": "int64",
         "type": "integer"
        },
        {
         "name": "mpg",
         "rawType": "float64",
         "type": "float"
        },
        {
         "name": "cylinders",
         "rawType": "int64",
         "type": "integer"
        },
        {
         "name": "displacement",
         "rawType": "int64",
         "type": "integer"
        },
        {
         "name": "horsepower",
         "rawType": "object",
         "type": "unknown"
        },
        {
         "name": "weight",
         "rawType": "int64",
         "type": "integer"
        },
        {
         "name": "acceleration",
         "rawType": "float64",
         "type": "float"
        },
        {
         "name": "vehicle id",
         "rawType": "object",
         "type": "string"
        }
       ],
<<<<<<< HEAD
       "ref": "3a58a002-aa39-4cdb-8803-d5cdb60db685",
=======
       "ref": "02a155f3-a63f-439b-9bfc-535b1b66c066",
>>>>>>> upstream/main
       "rows": [
        [
         "0",
         "18.0",
         "8",
         "307",
         "130",
         "3504",
         "12.0",
         "C-1689780"
        ],
        [
         "1",
         "15.0",
         "8",
         "350",
         "165",
         "3693",
         "11.5",
         "B-1689791"
        ],
        [
         "2",
         "18.0",
         "8",
         "318",
         "150",
         "3436",
         "11.0",
         "P-1689802"
        ],
        [
         "3",
         "16.0",
         "8",
         "304",
         "150",
         "3433",
         "12.0",
         "A-1689813"
        ],
        [
         "4",
         "17.0",
         "8",
         "302",
         "140",
         "3449",
         "10.5",
         "F-1689824"
        ],
        [
         "5",
         "15.0",
         "8",
         "429",
         "198",
         "4341",
         "10.0",
         "F-1689835"
        ],
        [
         "6",
         "14.0",
         "8",
         "454",
         "220",
         "4354",
         "9.0",
         "C-1689846"
        ],
        [
         "7",
         "14.0",
         "8",
         "440",
         "215",
         "4312",
         "8.5",
         "P-1689857"
        ],
        [
         "8",
         "14.0",
         "8",
         "455",
         "225",
         "4425",
         "10.0",
         "P-1689868"
        ],
        [
         "9",
         "15.0",
         "8",
         "390",
         "190",
         "3850",
         "8.5",
         "A-1689879"
        ],
        [
         "10",
         "15.0",
         "8",
         "383",
         "170",
         "3563",
         "10.0",
         "D-1689890"
        ],
        [
         "11",
         "14.0",
         "8",
         "340",
         "160",
         "3609",
         "8.0",
         "P-1689901"
        ],
        [
         "12",
         "15.0",
         "8",
         "400",
         "150",
         "3761",
         "9.5",
         "C-1689912"
        ],
        [
         "13",
         "14.0",
         "8",
         "455",
         "225",
         "3086",
         "10.0",
         "B-1689923"
        ],
        [
         "14",
         "24.0",
         "4",
         "113",
         "95",
         "2372",
         "15.0",
         "T-1689934"
        ],
        [
         "15",
         "22.0",
         "6",
         "198",
         "95",
         "2833",
         "15.5",
         "P-1689945"
        ],
        [
         "16",
         "18.0",
         "6",
         "199",
         "97",
         "2774",
         "15.5",
         "A-1689956"
        ],
        [
         "17",
         "21.0",
         "6",
         "200",
         "85",
         "2587",
         "16.0",
         "F-1689967"
        ],
        [
         "18",
         "27.0",
         "4",
         "97",
         "88",
         "2130",
         "14.5",
         "D-1689978"
        ],
        [
         "19",
         "26.0",
         "4",
         "97",
         "46",
         "1835",
         "20.5",
         "V-1689989"
        ],
        [
         "20",
         "25.0",
         "4",
         "110",
         "87",
         "2672",
         "17.5",
         "P-1690000"
        ],
        [
         "21",
         "24.0",
         "4",
         "107",
         "90",
         "2430",
         "14.5",
         "A-1690011"
        ],
        [
         "22",
         "25.0",
         "4",
         "104",
         "95",
         "2375",
         "17.5",
         "S-1690022"
        ],
        [
         "23",
         "26.0",
         "4",
         "121",
         "113",
         "2234",
         "12.5",
         "B-1690033"
        ],
        [
         "24",
         "21.0",
         "6",
         "199",
         "90",
         "2648",
         "15.0",
         "A-1690044"
        ],
        [
         "25",
         "10.0",
         "8",
         "360",
         "215",
         "4615",
         "14.0",
         "F-1690055"
        ],
        [
         "26",
         "10.0",
         "8",
         "307",
         "200",
         "4376",
         "15.0",
         "C-1690066"
        ],
        [
         "27",
         "11.0",
         "8",
         "318",
         "210",
         "4382",
         "13.5",
         "D-1690077"
        ],
        [
         "28",
         "9.0",
         "8",
         "304",
         "193",
         "4732",
         "18.5",
         "H-1690088"
        ],
        [
         "29",
         "27.0",
         "4",
         "97",
         "88",
         "2130",
         "14.5",
         "D-1690099"
        ],
        [
         "30",
         "28.0",
         "4",
         "140",
         "90",
         "2264",
         "15.5",
         "C-1690110"
        ],
        [
         "31",
         "25.0",
         "4",
         "113",
         "95",
         "2228",
         "14.0",
         "T-1690121"
        ],
        [
         "32",
         "25.0",
         "4",
         "98",
         null,
         "2046",
         "19.0",
         "F-1690132"
        ],
        [
         "33",
         "19.0",
         "6",
         "232",
         "100",
         "2634",
         "13.0",
         "A-1690143"
        ],
        [
         "34",
         "16.0",
         "6",
         "225",
         "105",
         "3439",
         "15.5",
         "P-1690154"
        ],
        [
         "35",
         "17.0",
         "6",
         "250",
         "100",
         "3329",
         "15.5",
         "C-1690165"
        ],
        [
         "36",
         "19.0",
         "6",
         "250",
         "88",
         "3302",
         "15.5",
         "F-1690176"
        ],
        [
         "37",
         "18.0",
         "6",
         "232",
         "100",
         "3288",
         "15.5",
         "A-1690187"
        ],
        [
         "38",
         "14.0",
         "8",
         "350",
         "165",
         "4209",
         "12.0",
         "C-1690198"
        ],
        [
         "39",
         "14.0",
         "8",
         "400",
         "175",
         "4464",
         "11.5",
         "P-1690209"
        ],
        [
         "40",
         "14.0",
         "8",
         "351",
         "153",
         "4154",
         "13.5",
         "F-1690220"
        ],
        [
         "41",
         "14.0",
         "8",
         "318",
         "150",
         "4096",
         "13.0",
         "P-1690231"
        ],
        [
         "42",
         "12.0",
         "8",
         "383",
         "180",
         "4955",
         "11.5",
         "D-1690242"
        ],
        [
         "43",
         "13.0",
         "8",
         "400",
         "170",
         "4746",
         "12.0",
         "F-1690253"
        ],
        [
         "44",
         "13.0",
         "8",
         "400",
         "175",
         "5140",
         "12.0",
         "P-1690264"
        ],
        [
         "45",
         "18.0",
         "6",
         "258",
         "110",
         "2962",
         "13.5",
         "A-1690275"
        ],
        [
         "46",
         "22.0",
         "4",
         "140",
         "72",
         "2408",
         "19.0",
         "C-1690286"
        ],
        [
         "47",
         "19.0",
         "6",
         "250",
         "100",
         "3282",
         "15.0",
         "P-1690297"
        ],
        [
         "48",
         "18.0",
         "6",
         "250",
         "88",
         "3139",
         "14.5",
         "F-1690308"
        ],
        [
         "49",
         "23.0",
         "4",
         "122",
         "86",
         "2220",
         "14.0",
         "M-1690319"
        ]
       ],
       "shape": {
        "columns": 7,
        "rows": 398
       }
      },
      "text/html": [
       "<div>\n",
       "<style scoped>\n",
       "    .dataframe tbody tr th:only-of-type {\n",
       "        vertical-align: middle;\n",
       "    }\n",
       "\n",
       "    .dataframe tbody tr th {\n",
       "        vertical-align: top;\n",
       "    }\n",
       "\n",
       "    .dataframe thead th {\n",
       "        text-align: right;\n",
       "    }\n",
       "</style>\n",
       "<table border=\"1\" class=\"dataframe\">\n",
       "  <thead>\n",
       "    <tr style=\"text-align: right;\">\n",
       "      <th></th>\n",
       "      <th>mpg</th>\n",
       "      <th>cylinders</th>\n",
       "      <th>displacement</th>\n",
       "      <th>horsepower</th>\n",
       "      <th>weight</th>\n",
       "      <th>acceleration</th>\n",
       "      <th>vehicle id</th>\n",
       "    </tr>\n",
       "  </thead>\n",
       "  <tbody>\n",
       "    <tr>\n",
       "      <th>0</th>\n",
       "      <td>18.0</td>\n",
       "      <td>8</td>\n",
       "      <td>307</td>\n",
       "      <td>130</td>\n",
       "      <td>3504</td>\n",
       "      <td>12.0</td>\n",
       "      <td>C-1689780</td>\n",
       "    </tr>\n",
       "    <tr>\n",
       "      <th>1</th>\n",
       "      <td>15.0</td>\n",
       "      <td>8</td>\n",
       "      <td>350</td>\n",
       "      <td>165</td>\n",
       "      <td>3693</td>\n",
       "      <td>11.5</td>\n",
       "      <td>B-1689791</td>\n",
       "    </tr>\n",
       "    <tr>\n",
       "      <th>2</th>\n",
       "      <td>18.0</td>\n",
       "      <td>8</td>\n",
       "      <td>318</td>\n",
       "      <td>150</td>\n",
       "      <td>3436</td>\n",
       "      <td>11.0</td>\n",
       "      <td>P-1689802</td>\n",
       "    </tr>\n",
       "    <tr>\n",
       "      <th>3</th>\n",
       "      <td>16.0</td>\n",
       "      <td>8</td>\n",
       "      <td>304</td>\n",
       "      <td>150</td>\n",
       "      <td>3433</td>\n",
       "      <td>12.0</td>\n",
       "      <td>A-1689813</td>\n",
       "    </tr>\n",
       "    <tr>\n",
       "      <th>4</th>\n",
       "      <td>17.0</td>\n",
       "      <td>8</td>\n",
       "      <td>302</td>\n",
       "      <td>140</td>\n",
       "      <td>3449</td>\n",
       "      <td>10.5</td>\n",
       "      <td>F-1689824</td>\n",
       "    </tr>\n",
       "    <tr>\n",
       "      <th>...</th>\n",
       "      <td>...</td>\n",
       "      <td>...</td>\n",
       "      <td>...</td>\n",
       "      <td>...</td>\n",
       "      <td>...</td>\n",
       "      <td>...</td>\n",
       "      <td>...</td>\n",
       "    </tr>\n",
       "    <tr>\n",
       "      <th>393</th>\n",
       "      <td>27.0</td>\n",
       "      <td>4</td>\n",
       "      <td>140</td>\n",
       "      <td>86</td>\n",
       "      <td>2790</td>\n",
       "      <td>15.6</td>\n",
       "      <td>F-1694103</td>\n",
       "    </tr>\n",
       "    <tr>\n",
       "      <th>394</th>\n",
       "      <td>44.0</td>\n",
       "      <td>4</td>\n",
       "      <td>97</td>\n",
       "      <td>52</td>\n",
       "      <td>2130</td>\n",
       "      <td>24.6</td>\n",
       "      <td>V-1694114</td>\n",
       "    </tr>\n",
       "    <tr>\n",
       "      <th>395</th>\n",
       "      <td>32.0</td>\n",
       "      <td>4</td>\n",
       "      <td>135</td>\n",
       "      <td>84</td>\n",
       "      <td>2295</td>\n",
       "      <td>11.6</td>\n",
       "      <td>D-1694125</td>\n",
       "    </tr>\n",
       "    <tr>\n",
       "      <th>396</th>\n",
       "      <td>28.0</td>\n",
       "      <td>4</td>\n",
       "      <td>120</td>\n",
       "      <td>79</td>\n",
       "      <td>2625</td>\n",
       "      <td>18.6</td>\n",
       "      <td>F-1694136</td>\n",
       "    </tr>\n",
       "    <tr>\n",
       "      <th>397</th>\n",
       "      <td>31.0</td>\n",
       "      <td>4</td>\n",
       "      <td>119</td>\n",
       "      <td>82</td>\n",
       "      <td>2720</td>\n",
       "      <td>19.4</td>\n",
       "      <td>C-1694147</td>\n",
       "    </tr>\n",
       "  </tbody>\n",
       "</table>\n",
       "<p>398 rows × 7 columns</p>\n",
       "</div>"
      ],
      "text/plain": [
       "      mpg  cylinders  displacement horsepower  weight  acceleration vehicle id\n",
       "0    18.0          8           307        130    3504          12.0  C-1689780\n",
       "1    15.0          8           350        165    3693          11.5  B-1689791\n",
       "2    18.0          8           318        150    3436          11.0  P-1689802\n",
       "3    16.0          8           304        150    3433          12.0  A-1689813\n",
       "4    17.0          8           302        140    3449          10.5  F-1689824\n",
       "..    ...        ...           ...        ...     ...           ...        ...\n",
       "393  27.0          4           140         86    2790          15.6  F-1694103\n",
       "394  44.0          4            97         52    2130          24.6  V-1694114\n",
       "395  32.0          4           135         84    2295          11.6  D-1694125\n",
       "396  28.0          4           120         79    2625          18.6  F-1694136\n",
       "397  31.0          4           119         82    2720          19.4  C-1694147\n",
       "\n",
       "[398 rows x 7 columns]"
      ]
     },
<<<<<<< HEAD
     "execution_count": 7,
=======
     "execution_count": 8,
>>>>>>> upstream/main
     "metadata": {},
     "output_type": "execute_result"
    }
   ],
   "source": [
    "# Entering the name of a dataframe produces an output with some rows\n",
    "\n",
    "carfeatures"
   ]
  },
  {
   "attachments": {},
   "cell_type": "markdown",
   "metadata": {},
   "source": [
    "<font size=\"5\"> \n",
    "\n",
    "Output data for a single column 'cylinders'"
   ]
  },
  {
   "cell_type": "code",
<<<<<<< HEAD
   "execution_count": 8,
=======
   "execution_count": 9,
>>>>>>> upstream/main
   "metadata": {},
   "outputs": [
    {
     "data": {
      "application/vnd.microsoft.datawrangler.viewer.v0+json": {
       "columns": [
        {
         "name": "index",
         "rawType": "int64",
         "type": "integer"
        },
        {
         "name": "cylinders",
         "rawType": "int64",
         "type": "integer"
        }
       ],
<<<<<<< HEAD
       "ref": "01b2dcee-a4b4-4dc2-88e2-5e8fb71c961e",
=======
       "ref": "b76ef200-b972-4e83-b42f-fc49bb91660e",
>>>>>>> upstream/main
       "rows": [
        [
         "0",
         "8"
        ],
        [
         "1",
         "8"
        ],
        [
         "2",
         "8"
        ],
        [
         "3",
         "8"
        ],
        [
         "4",
         "8"
        ],
        [
         "5",
         "8"
        ],
        [
         "6",
         "8"
        ],
        [
         "7",
         "8"
        ],
        [
         "8",
         "8"
        ],
        [
         "9",
         "8"
        ],
        [
         "10",
         "8"
        ],
        [
         "11",
         "8"
        ],
        [
         "12",
         "8"
        ],
        [
         "13",
         "8"
        ],
        [
         "14",
         "4"
        ],
        [
         "15",
         "6"
        ],
        [
         "16",
         "6"
        ],
        [
         "17",
         "6"
        ],
        [
         "18",
         "4"
        ],
        [
         "19",
         "4"
        ],
        [
         "20",
         "4"
        ],
        [
         "21",
         "4"
        ],
        [
         "22",
         "4"
        ],
        [
         "23",
         "4"
        ],
        [
         "24",
         "6"
        ],
        [
         "25",
         "8"
        ],
        [
         "26",
         "8"
        ],
        [
         "27",
         "8"
        ],
        [
         "28",
         "8"
        ],
        [
         "29",
         "4"
        ],
        [
         "30",
         "4"
        ],
        [
         "31",
         "4"
        ],
        [
         "32",
         "4"
        ],
        [
         "33",
         "6"
        ],
        [
         "34",
         "6"
        ],
        [
         "35",
         "6"
        ],
        [
         "36",
         "6"
        ],
        [
         "37",
         "6"
        ],
        [
         "38",
         "8"
        ],
        [
         "39",
         "8"
        ],
        [
         "40",
         "8"
        ],
        [
         "41",
         "8"
        ],
        [
         "42",
         "8"
        ],
        [
         "43",
         "8"
        ],
        [
         "44",
         "8"
        ],
        [
         "45",
         "6"
        ],
        [
         "46",
         "4"
        ],
        [
         "47",
         "6"
        ],
        [
         "48",
         "6"
        ],
        [
         "49",
         "4"
        ]
       ],
       "shape": {
        "columns": 1,
        "rows": 398
       }
      },
      "text/plain": [
       "0      8\n",
       "1      8\n",
       "2      8\n",
       "3      8\n",
       "4      8\n",
       "      ..\n",
       "393    4\n",
       "394    4\n",
       "395    4\n",
       "396    4\n",
       "397    4\n",
       "Name: cylinders, Length: 398, dtype: int64"
      ]
     },
<<<<<<< HEAD
     "execution_count": 8,
=======
     "execution_count": 9,
>>>>>>> upstream/main
     "metadata": {},
     "output_type": "execute_result"
    }
   ],
   "source": [
    "# We use square brackets [...] to subset information from data \n",
    "# Text/strings have to be written in quotation marks\n",
    "# This command extracts the column 'cylinders'\n",
    "\n",
    "carfeatures['cylinders']\n",
    "\n",
    "# double quotes would also have been fine\n",
    "# carfeatures[\"cylinders\"]\n"
   ]
  },
  {
   "attachments": {},
   "cell_type": "markdown",
   "metadata": {},
   "source": [
    "<font size=\"5\"> \n",
    "\n",
    "Example: Compute a frequency table"
   ]
  },
  {
   "cell_type": "code",
<<<<<<< HEAD
   "execution_count": 9,
=======
   "execution_count": 10,
>>>>>>> upstream/main
   "metadata": {},
   "outputs": [
    {
     "data": {
      "application/vnd.microsoft.datawrangler.viewer.v0+json": {
       "columns": [
        {
         "name": "cylinders",
         "rawType": "int64",
         "type": "integer"
        },
        {
         "name": "count",
         "rawType": "int64",
         "type": "integer"
        }
       ],
<<<<<<< HEAD
       "ref": "5f1eeb1f-6ccb-4612-9b18-45bf4ab297a2",
=======
       "ref": "3b41eaf4-9e43-4672-a94d-545698969dd0",
>>>>>>> upstream/main
       "rows": [
        [
         "3",
         "4"
        ],
        [
         "4",
         "204"
        ],
        [
         "5",
         "3"
        ],
        [
         "6",
         "84"
        ],
        [
         "8",
         "103"
        ]
       ],
       "shape": {
        "columns": 1,
        "rows": 5
       }
      },
      "text/html": [
       "<div>\n",
       "<style scoped>\n",
       "    .dataframe tbody tr th:only-of-type {\n",
       "        vertical-align: middle;\n",
       "    }\n",
       "\n",
       "    .dataframe tbody tr th {\n",
       "        vertical-align: top;\n",
       "    }\n",
       "\n",
       "    .dataframe thead th {\n",
       "        text-align: right;\n",
       "    }\n",
       "</style>\n",
       "<table border=\"1\" class=\"dataframe\">\n",
       "  <thead>\n",
       "    <tr style=\"text-align: right;\">\n",
       "      <th>col_0</th>\n",
       "      <th>count</th>\n",
       "    </tr>\n",
       "    <tr>\n",
       "      <th>cylinders</th>\n",
       "      <th></th>\n",
       "    </tr>\n",
       "  </thead>\n",
       "  <tbody>\n",
       "    <tr>\n",
       "      <th>3</th>\n",
       "      <td>4</td>\n",
       "    </tr>\n",
       "    <tr>\n",
       "      <th>4</th>\n",
       "      <td>204</td>\n",
       "    </tr>\n",
       "    <tr>\n",
       "      <th>5</th>\n",
       "      <td>3</td>\n",
       "    </tr>\n",
       "    <tr>\n",
       "      <th>6</th>\n",
       "      <td>84</td>\n",
       "    </tr>\n",
       "    <tr>\n",
       "      <th>8</th>\n",
       "      <td>103</td>\n",
       "    </tr>\n",
       "  </tbody>\n",
       "</table>\n",
       "</div>"
      ],
      "text/plain": [
       "col_0      count\n",
       "cylinders       \n",
       "3              4\n",
       "4            204\n",
       "5              3\n",
       "6             84\n",
       "8            103"
      ]
     },
<<<<<<< HEAD
     "execution_count": 9,
=======
     "execution_count": 10,
>>>>>>> upstream/main
     "metadata": {},
     "output_type": "execute_result"
    }
   ],
   "source": [
    "# crosstab counts how many rows fall into categories\n",
    "# \"index\" is the category\n",
    "# \"columns\" is a custom title\n",
    "\n",
    "table = pd.crosstab(index = carfeatures['cylinders'],columns = \"count\")\n",
    "table\n"
   ]
  },
  {
   "cell_type": "markdown",
   "metadata": {},
   "source": [
    "### The \"help\" keyword can be used to learn more about a command"
   ]
  },
  {
   "cell_type": "code",
<<<<<<< HEAD
   "execution_count": 10,
=======
   "execution_count": 11,
>>>>>>> upstream/main
   "metadata": {},
   "outputs": [
    {
     "name": "stdout",
     "output_type": "stream",
     "text": [
      "Help on function crosstab in module pandas.core.reshape.pivot:\n",
      "\n",
      "crosstab(\n",
      "    index,\n",
      "    columns,\n",
      "    values=None,\n",
      "    rownames=None,\n",
      "    colnames=None,\n",
      "    aggfunc=None,\n",
      "    margins: 'bool' = False,\n",
      "    margins_name: 'Hashable' = 'All',\n",
      "    dropna: 'bool' = True,\n",
      "    normalize: \"bool | Literal[0, 1, 'all', 'index', 'columns']\" = False\n",
      ") -> 'DataFrame'\n",
      "    Compute a simple cross tabulation of two (or more) factors.\n",
      "\n",
      "    By default, computes a frequency table of the factors unless an\n",
      "    array of values and an aggregation function are passed.\n",
      "\n",
      "    Parameters\n",
      "    ----------\n",
      "    index : array-like, Series, or list of arrays/Series\n",
      "        Values to group by in the rows.\n",
      "    columns : array-like, Series, or list of arrays/Series\n",
      "        Values to group by in the columns.\n",
      "    values : array-like, optional\n",
      "        Array of values to aggregate according to the factors.\n",
      "        Requires `aggfunc` be specified.\n",
      "    rownames : sequence, default None\n",
      "        If passed, must match number of row arrays passed.\n",
      "    colnames : sequence, default None\n",
      "        If passed, must match number of column arrays passed.\n",
      "    aggfunc : function, optional\n",
      "        If specified, requires `values` be specified as well.\n",
      "    margins : bool, default False\n",
      "        Add row/column margins (subtotals).\n",
      "    margins_name : str, default 'All'\n",
      "        Name of the row/column that will contain the totals\n",
      "        when margins is True.\n",
      "    dropna : bool, default True\n",
      "        Do not include columns whose entries are all NaN.\n",
      "    normalize : bool, {'all', 'index', 'columns'}, or {0,1}, default False\n",
      "        Normalize by dividing all values by the sum of values.\n",
      "\n",
      "        - If passed 'all' or `True`, will normalize over all values.\n",
      "        - If passed 'index' will normalize over each row.\n",
      "        - If passed 'columns' will normalize over each column.\n",
      "        - If margins is `True`, will also normalize margin values.\n",
      "\n",
      "    Returns\n",
      "    -------\n",
      "    DataFrame\n",
      "        Cross tabulation of the data.\n",
      "\n",
      "    See Also\n",
      "    --------\n",
      "    DataFrame.pivot : Reshape data based on column values.\n",
      "    pivot_table : Create a pivot table as a DataFrame.\n",
      "\n",
      "    Notes\n",
      "    -----\n",
      "    Any Series passed will have their name attributes used unless row or column\n",
      "    names for the cross-tabulation are specified.\n",
      "\n",
      "    Any input passed containing Categorical data will have **all** of its\n",
      "    categories included in the cross-tabulation, even if the actual data does\n",
      "    not contain any instances of a particular category.\n",
      "\n",
      "    In the event that there aren't overlapping indexes an empty DataFrame will\n",
      "    be returned.\n",
      "\n",
      "    Reference :ref:`the user guide <reshaping.crosstabulations>` for more examples.\n",
      "\n",
      "    Examples\n",
      "    --------\n",
      "    >>> a = np.array([\"foo\", \"foo\", \"foo\", \"foo\", \"bar\", \"bar\",\n",
      "    ...               \"bar\", \"bar\", \"foo\", \"foo\", \"foo\"], dtype=object)\n",
      "    >>> b = np.array([\"one\", \"one\", \"one\", \"two\", \"one\", \"one\",\n",
      "    ...               \"one\", \"two\", \"two\", \"two\", \"one\"], dtype=object)\n",
      "    >>> c = np.array([\"dull\", \"dull\", \"shiny\", \"dull\", \"dull\", \"shiny\",\n",
      "    ...               \"shiny\", \"dull\", \"shiny\", \"shiny\", \"shiny\"],\n",
      "    ...              dtype=object)\n",
      "    >>> pd.crosstab(a, [b, c], rownames=['a'], colnames=['b', 'c'])\n",
      "    b   one        two\n",
      "    c   dull shiny dull shiny\n",
      "    a\n",
      "    bar    1     2    1     0\n",
      "    foo    2     2    1     2\n",
      "\n",
      "    Here 'c' and 'f' are not represented in the data and will not be\n",
      "    shown in the output because dropna is True by default. Set\n",
      "    dropna=False to preserve categories with no data.\n",
      "\n",
      "    >>> foo = pd.Categorical(['a', 'b'], categories=['a', 'b', 'c'])\n",
      "    >>> bar = pd.Categorical(['d', 'e'], categories=['d', 'e', 'f'])\n",
      "    >>> pd.crosstab(foo, bar)\n",
      "    col_0  d  e\n",
      "    row_0\n",
      "    a      1  0\n",
      "    b      0  1\n",
      "    >>> pd.crosstab(foo, bar, dropna=False)\n",
      "    col_0  d  e  f\n",
      "    row_0\n",
      "    a      1  0  0\n",
      "    b      0  1  0\n",
      "    c      0  0  0\n",
      "\n"
     ]
    }
   ],
   "source": [
    "help (pd.crosstab)"
   ]
  },
  {
   "cell_type": "code",
<<<<<<< HEAD
   "execution_count": 11,
=======
   "execution_count": 12,
>>>>>>> upstream/main
   "metadata": {},
   "outputs": [
    {
     "data": {
      "application/vnd.microsoft.datawrangler.viewer.v0+json": {
       "columns": [
        {
         "name": "cylinders",
         "rawType": "int64",
         "type": "integer"
        },
        {
         "name": "count",
         "rawType": "int64",
         "type": "integer"
        }
       ],
<<<<<<< HEAD
       "ref": "d8f315dd-f769-4322-a95b-bae5b5ec13bb",
=======
       "ref": "789704e2-9e87-44ef-beb1-c387037e0ddd",
>>>>>>> upstream/main
       "rows": [
        [
         "3",
         "4"
        ],
        [
         "4",
         "204"
        ],
        [
         "5",
         "3"
        ],
        [
         "6",
         "84"
        ],
        [
         "8",
         "103"
        ]
       ],
       "shape": {
        "columns": 1,
        "rows": 5
       }
      },
      "text/html": [
       "<div>\n",
       "<style scoped>\n",
       "    .dataframe tbody tr th:only-of-type {\n",
       "        vertical-align: middle;\n",
       "    }\n",
       "\n",
       "    .dataframe tbody tr th {\n",
       "        vertical-align: top;\n",
       "    }\n",
       "\n",
       "    .dataframe thead th {\n",
       "        text-align: right;\n",
       "    }\n",
       "</style>\n",
       "<table border=\"1\" class=\"dataframe\">\n",
       "  <thead>\n",
       "    <tr style=\"text-align: right;\">\n",
       "      <th>col_0</th>\n",
       "      <th>count</th>\n",
       "    </tr>\n",
       "    <tr>\n",
       "      <th>cylinders</th>\n",
       "      <th></th>\n",
       "    </tr>\n",
       "  </thead>\n",
       "  <tbody>\n",
       "    <tr>\n",
       "      <th>3</th>\n",
       "      <td>4</td>\n",
       "    </tr>\n",
       "    <tr>\n",
       "      <th>4</th>\n",
       "      <td>204</td>\n",
       "    </tr>\n",
       "    <tr>\n",
       "      <th>5</th>\n",
       "      <td>3</td>\n",
       "    </tr>\n",
       "    <tr>\n",
       "      <th>6</th>\n",
       "      <td>84</td>\n",
       "    </tr>\n",
       "    <tr>\n",
       "      <th>8</th>\n",
       "      <td>103</td>\n",
       "    </tr>\n",
       "  </tbody>\n",
       "</table>\n",
       "</div>"
      ],
      "text/plain": [
       "col_0      count\n",
       "cylinders       \n",
       "3              4\n",
       "4            204\n",
       "5              3\n",
       "6             84\n",
       "8            103"
      ]
     },
<<<<<<< HEAD
     "execution_count": 11,
=======
     "execution_count": 12,
>>>>>>> upstream/main
     "metadata": {},
     "output_type": "execute_result"
    }
   ],
   "source": [
    "# It looks like the first two arguments are \"index\" and \"columns\", which are required. The rest are optional.\n",
    "# So we can also write the command like this:\n",
    "\n",
    "table = pd.crosstab(carfeatures['cylinders'], \"count\")\n",
    "table\n",
    "\n"
   ]
  },
  {
   "cell_type": "markdown",
   "metadata": {},
   "source": [
    "### We can also cross-tabulate between two columns of carfeatures:"
   ]
  },
  {
   "cell_type": "code",
<<<<<<< HEAD
   "execution_count": 12,
=======
   "execution_count": 13,
>>>>>>> upstream/main
   "metadata": {},
   "outputs": [
    {
     "data": {
      "application/vnd.microsoft.datawrangler.viewer.v0+json": {
       "columns": [
        {
         "name": "cylinders",
         "rawType": "int64",
         "type": "integer"
        },
        {
         "name": "9.0",
         "rawType": "int64",
         "type": "integer"
        },
        {
         "name": "10.0",
         "rawType": "int64",
         "type": "integer"
        },
        {
         "name": "11.0",
         "rawType": "int64",
         "type": "integer"
        },
        {
         "name": "12.0",
         "rawType": "int64",
         "type": "integer"
        },
        {
         "name": "13.0",
         "rawType": "int64",
         "type": "integer"
        },
        {
         "name": "14.0",
         "rawType": "int64",
         "type": "integer"
        },
        {
         "name": "14.5",
         "rawType": "int64",
         "type": "integer"
        },
        {
         "name": "15.0",
         "rawType": "int64",
         "type": "integer"
        },
        {
         "name": "15.5",
         "rawType": "int64",
         "type": "integer"
        },
        {
         "name": "16.0",
         "rawType": "int64",
         "type": "integer"
        },
        {
         "name": "16.2",
         "rawType": "int64",
         "type": "integer"
        },
        {
         "name": "16.5",
         "rawType": "int64",
         "type": "integer"
        },
        {
         "name": "16.9",
         "rawType": "int64",
         "type": "integer"
        },
        {
         "name": "17.0",
         "rawType": "int64",
         "type": "integer"
        },
        {
         "name": "17.5",
         "rawType": "int64",
         "type": "integer"
        },
        {
         "name": "17.6",
         "rawType": "int64",
         "type": "integer"
        },
        {
         "name": "17.7",
         "rawType": "int64",
         "type": "integer"
        },
        {
         "name": "18.0",
         "rawType": "int64",
         "type": "integer"
        },
        {
         "name": "18.1",
         "rawType": "int64",
         "type": "integer"
        },
        {
         "name": "18.2",
         "rawType": "int64",
         "type": "integer"
        },
        {
         "name": "18.5",
         "rawType": "int64",
         "type": "integer"
        },
        {
         "name": "18.6",
         "rawType": "int64",
         "type": "integer"
        },
        {
         "name": "19.0",
         "rawType": "int64",
         "type": "integer"
        },
        {
         "name": "19.1",
         "rawType": "int64",
         "type": "integer"
        },
        {
         "name": "19.2",
         "rawType": "int64",
         "type": "integer"
        },
        {
         "name": "19.4",
         "rawType": "int64",
         "type": "integer"
        },
        {
         "name": "19.8",
         "rawType": "int64",
         "type": "integer"
        },
        {
         "name": "19.9",
         "rawType": "int64",
         "type": "integer"
        },
        {
         "name": "20.0",
         "rawType": "int64",
         "type": "integer"
        },
        {
         "name": "20.2",
         "rawType": "int64",
         "type": "integer"
        },
        {
         "name": "20.3",
         "rawType": "int64",
         "type": "integer"
        },
        {
         "name": "20.5",
         "rawType": "int64",
         "type": "integer"
        },
        {
         "name": "20.6",
         "rawType": "int64",
         "type": "integer"
        },
        {
         "name": "20.8",
         "rawType": "int64",
         "type": "integer"
        },
        {
         "name": "21.0",
         "rawType": "int64",
         "type": "integer"
        },
        {
         "name": "21.1",
         "rawType": "int64",
         "type": "integer"
        },
        {
         "name": "21.5",
         "rawType": "int64",
         "type": "integer"
        },
        {
         "name": "21.6",
         "rawType": "int64",
         "type": "integer"
        },
        {
         "name": "22.0",
         "rawType": "int64",
         "type": "integer"
        },
        {
         "name": "22.3",
         "rawType": "int64",
         "type": "integer"
        },
        {
         "name": "22.4",
         "rawType": "int64",
         "type": "integer"
        },
        {
         "name": "22.5",
         "rawType": "int64",
         "type": "integer"
        },
        {
         "name": "23.0",
         "rawType": "int64",
         "type": "integer"
        },
        {
         "name": "23.2",
         "rawType": "int64",
         "type": "integer"
        },
        {
         "name": "23.5",
         "rawType": "int64",
         "type": "integer"
        },
        {
         "name": "23.6",
         "rawType": "int64",
         "type": "integer"
        },
        {
         "name": "23.7",
         "rawType": "int64",
         "type": "integer"
        },
        {
         "name": "23.8",
         "rawType": "int64",
         "type": "integer"
        },
        {
         "name": "23.9",
         "rawType": "int64",
         "type": "integer"
        },
        {
         "name": "24.0",
         "rawType": "int64",
         "type": "integer"
        },
        {
         "name": "24.2",
         "rawType": "int64",
         "type": "integer"
        },
        {
         "name": "24.3",
         "rawType": "int64",
         "type": "integer"
        },
        {
         "name": "24.5",
         "rawType": "int64",
         "type": "integer"
        },
        {
         "name": "25.0",
         "rawType": "int64",
         "type": "integer"
        },
        {
         "name": "25.1",
         "rawType": "int64",
         "type": "integer"
        },
        {
         "name": "25.4",
         "rawType": "int64",
         "type": "integer"
        },
        {
         "name": "25.5",
         "rawType": "int64",
         "type": "integer"
        },
        {
         "name": "25.8",
         "rawType": "int64",
         "type": "integer"
        },
        {
         "name": "26.0",
         "rawType": "int64",
         "type": "integer"
        },
        {
         "name": "26.4",
         "rawType": "int64",
         "type": "integer"
        },
        {
         "name": "26.5",
         "rawType": "int64",
         "type": "integer"
        },
        {
         "name": "26.6",
         "rawType": "int64",
         "type": "integer"
        },
        {
         "name": "26.8",
         "rawType": "int64",
         "type": "integer"
        },
        {
         "name": "27.0",
         "rawType": "int64",
         "type": "integer"
        },
        {
         "name": "27.2",
         "rawType": "int64",
         "type": "integer"
        },
        {
         "name": "27.4",
         "rawType": "int64",
         "type": "integer"
        },
        {
         "name": "27.5",
         "rawType": "int64",
         "type": "integer"
        },
        {
         "name": "27.9",
         "rawType": "int64",
         "type": "integer"
        },
        {
         "name": "28.0",
         "rawType": "int64",
         "type": "integer"
        },
        {
         "name": "28.1",
         "rawType": "int64",
         "type": "integer"
        },
        {
         "name": "28.4",
         "rawType": "int64",
         "type": "integer"
        },
        {
         "name": "28.8",
         "rawType": "int64",
         "type": "integer"
        },
        {
         "name": "29.0",
         "rawType": "int64",
         "type": "integer"
        },
        {
         "name": "29.5",
         "rawType": "int64",
         "type": "integer"
        },
        {
         "name": "29.8",
         "rawType": "int64",
         "type": "integer"
        },
        {
         "name": "29.9",
         "rawType": "int64",
         "type": "integer"
        },
        {
         "name": "30.0",
         "rawType": "int64",
         "type": "integer"
        },
        {
         "name": "30.5",
         "rawType": "int64",
         "type": "integer"
        },
        {
         "name": "30.7",
         "rawType": "int64",
         "type": "integer"
        },
        {
         "name": "30.9",
         "rawType": "int64",
         "type": "integer"
        },
        {
         "name": "31.0",
         "rawType": "int64",
         "type": "integer"
        },
        {
         "name": "31.3",
         "rawType": "int64",
         "type": "integer"
        },
        {
         "name": "31.5",
         "rawType": "int64",
         "type": "integer"
        },
        {
         "name": "31.6",
         "rawType": "int64",
         "type": "integer"
        },
        {
         "name": "31.8",
         "rawType": "int64",
         "type": "integer"
        },
        {
         "name": "31.9",
         "rawType": "int64",
         "type": "integer"
        },
        {
         "name": "32.0",
         "rawType": "int64",
         "type": "integer"
        },
        {
         "name": "32.1",
         "rawType": "int64",
         "type": "integer"
        },
        {
         "name": "32.2",
         "rawType": "int64",
         "type": "integer"
        },
        {
         "name": "32.3",
         "rawType": "int64",
         "type": "integer"
        },
        {
         "name": "32.4",
         "rawType": "int64",
         "type": "integer"
        },
        {
         "name": "32.7",
         "rawType": "int64",
         "type": "integer"
        },
        {
         "name": "32.8",
         "rawType": "int64",
         "type": "integer"
        },
        {
         "name": "32.9",
         "rawType": "int64",
         "type": "integer"
        },
        {
         "name": "33.0",
         "rawType": "int64",
         "type": "integer"
        },
        {
         "name": "33.5",
         "rawType": "int64",
         "type": "integer"
        },
        {
         "name": "33.7",
         "rawType": "int64",
         "type": "integer"
        },
        {
         "name": "33.8",
         "rawType": "int64",
         "type": "integer"
        },
        {
         "name": "34.0",
         "rawType": "int64",
         "type": "integer"
        },
        {
         "name": "34.1",
         "rawType": "int64",
         "type": "integer"
        },
        {
         "name": "34.2",
         "rawType": "int64",
         "type": "integer"
        },
        {
         "name": "34.3",
         "rawType": "int64",
         "type": "integer"
        },
        {
         "name": "34.4",
         "rawType": "int64",
         "type": "integer"
        },
        {
         "name": "34.5",
         "rawType": "int64",
         "type": "integer"
        },
        {
         "name": "34.7",
         "rawType": "int64",
         "type": "integer"
        },
        {
         "name": "35.0",
         "rawType": "int64",
         "type": "integer"
        },
        {
         "name": "35.1",
         "rawType": "int64",
         "type": "integer"
        },
        {
         "name": "35.7",
         "rawType": "int64",
         "type": "integer"
        },
        {
         "name": "36.0",
         "rawType": "int64",
         "type": "integer"
        },
        {
         "name": "36.1",
         "rawType": "int64",
         "type": "integer"
        },
        {
         "name": "36.4",
         "rawType": "int64",
         "type": "integer"
        },
        {
         "name": "37.0",
         "rawType": "int64",
         "type": "integer"
        },
        {
         "name": "37.2",
         "rawType": "int64",
         "type": "integer"
        },
        {
         "name": "37.3",
         "rawType": "int64",
         "type": "integer"
        },
        {
         "name": "37.7",
         "rawType": "int64",
         "type": "integer"
        },
        {
         "name": "38.0",
         "rawType": "int64",
         "type": "integer"
        },
        {
         "name": "38.1",
         "rawType": "int64",
         "type": "integer"
        },
        {
         "name": "39.0",
         "rawType": "int64",
         "type": "integer"
        },
        {
         "name": "39.1",
         "rawType": "int64",
         "type": "integer"
        },
        {
         "name": "39.4",
         "rawType": "int64",
         "type": "integer"
        },
        {
         "name": "40.8",
         "rawType": "int64",
         "type": "integer"
        },
        {
         "name": "40.9",
         "rawType": "int64",
         "type": "integer"
        },
        {
         "name": "41.5",
         "rawType": "int64",
         "type": "integer"
        },
        {
         "name": "43.1",
         "rawType": "int64",
         "type": "integer"
        },
        {
         "name": "43.4",
         "rawType": "int64",
         "type": "integer"
        },
        {
         "name": "44.0",
         "rawType": "int64",
         "type": "integer"
        },
        {
         "name": "44.3",
         "rawType": "int64",
         "type": "integer"
        },
        {
         "name": "44.6",
         "rawType": "int64",
         "type": "integer"
        },
        {
         "name": "46.6",
         "rawType": "int64",
         "type": "integer"
        }
       ],
<<<<<<< HEAD
       "ref": "9d74819e-4366-48b7-bc4b-6ed56f09bbdc",
=======
       "ref": "729aad9d-9c01-43c1-9e0e-b877e5224d6b",
>>>>>>> upstream/main
       "rows": [
        [
         "3",
         "0",
         "0",
         "0",
         "0",
         "0",
         "0",
         "0",
         "0",
         "0",
         "0",
         "0",
         "0",
         "0",
         "0",
         "0",
         "0",
         "0",
         "1",
         "0",
         "0",
         "0",
         "0",
         "1",
         "0",
         "0",
         "0",
         "0",
         "0",
         "0",
         "0",
         "0",
         "0",
         "0",
         "0",
         "0",
         "0",
         "1",
         "0",
         "0",
         "0",
         "0",
         "0",
         "0",
         "0",
         "0",
         "0",
         "1",
         "0",
         "0",
         "0",
         "0",
         "0",
         "0",
         "0",
         "0",
         "0",
         "0",
         "0",
         "0",
         "0",
         "0",
         "0",
         "0",
         "0",
         "0",
         "0",
         "0",
         "0",
         "0",
         "0",
         "0",
         "0",
         "0",
         "0",
         "0",
         "0",
         "0",
         "0",
         "0",
         "0",
         "0",
         "0",
         "0",
         "0",
         "0",
         "0",
         "0",
         "0",
         "0",
         "0",
         "0",
         "0",
         "0",
         "0",
         "0",
         "0",
         "0",
         "0",
         "0",
         "0",
         "0",
         "0",
         "0",
         "0",
         "0",
         "0",
         "0",
         "0",
         "0",
         "0",
         "0",
         "0",
         "0",
         "0",
         "0",
         "0",
         "0",
         "0",
         "0",
         "0",
         "0",
         "0",
         "0",
         "0",
         "0",
         "0",
         "0",
         "0",
         "0"
        ],
        [
         "4",
         "0",
         "0",
         "0",
         "0",
         "0",
         "0",
         "0",
         "0",
         "0",
         "0",
         "0",
         "0",
         "0",
         "0",
         "0",
         "0",
         "0",
         "1",
         "0",
         "0",
         "0",
         "0",
         "3",
         "0",
         "0",
         "0",
         "0",
         "0",
         "4",
         "0",
         "0",
         "0",
         "0",
         "0",
         "3",
         "1",
         "1",
         "1",
         "5",
         "1",
         "0",
         "0",
         "8",
         "1",
         "0",
         "1",
         "0",
         "1",
         "1",
         "10",
         "0",
         "1",
         "2",
         "10",
         "1",
         "0",
         "2",
         "1",
         "14",
         "1",
         "1",
         "1",
         "0",
         "9",
         "3",
         "1",
         "1",
         "1",
         "10",
         "1",
         "1",
         "0",
         "8",
         "2",
         "2",
         "1",
         "7",
         "2",
         "0",
         "1",
         "7",
         "1",
         "2",
         "1",
         "1",
         "1",
         "6",
         "1",
         "1",
         "1",
         "2",
         "0",
         "1",
         "1",
         "3",
         "3",
         "1",
         "1",
         "2",
         "2",
         "1",
         "1",
         "1",
         "2",
         "1",
         "2",
         "1",
         "1",
         "6",
         "2",
         "0",
         "3",
         "1",
         "1",
         "1",
         "3",
         "1",
         "1",
         "1",
         "1",
         "1",
         "1",
         "1",
         "1",
         "1",
         "1",
         "1",
         "1",
         "1"
        ],
        [
         "5",
         "0",
         "0",
         "0",
         "0",
         "0",
         "0",
         "0",
         "0",
         "0",
         "0",
         "0",
         "0",
         "0",
         "0",
         "0",
         "0",
         "0",
         "0",
         "0",
         "0",
         "0",
         "0",
         "0",
         "0",
         "0",
         "0",
         "0",
         "0",
         "0",
         "0",
         "1",
         "0",
         "0",
         "0",
         "0",
         "0",
         "0",
         "0",
         "0",
         "0",
         "0",
         "0",
         "0",
         "0",
         "0",
         "0",
         "0",
         "0",
         "0",
         "0",
         "0",
         "0",
         "0",
         "0",
         "0",
         "1",
         "0",
         "0",
         "0",
         "0",
         "0",
         "0",
         "0",
         "0",
         "0",
         "0",
         "0",
         "0",
         "0",
         "0",
         "0",
         "0",
         "0",
         "0",
         "0",
         "0",
         "0",
         "0",
         "0",
         "0",
         "0",
         "0",
         "0",
         "0",
         "0",
         "0",
         "0",
         "0",
         "0",
         "0",
         "0",
         "0",
         "0",
         "0",
         "0",
         "0",
         "0",
         "0",
         "0",
         "0",
         "0",
         "0",
         "0",
         "0",
         "0",
         "0",
         "0",
         "0",
         "0",
         "0",
         "1",
         "0",
         "0",
         "0",
         "0",
         "0",
         "0",
         "0",
         "0",
         "0",
         "0",
         "0",
         "0",
         "0",
         "0",
         "0",
         "0",
         "0",
         "0"
        ],
        [
         "6",
         "0",
         "0",
         "0",
         "0",
         "0",
         "0",
         "0",
         "4",
         "0",
         "5",
         "1",
         "1",
         "0",
         "3",
         "2",
         "1",
         "1",
         "13",
         "1",
         "0",
         "2",
         "1",
         "8",
         "1",
         "1",
         "1",
         "1",
         "0",
         "4",
         "3",
         "0",
         "3",
         "2",
         "1",
         "5",
         "0",
         "1",
         "0",
         "5",
         "0",
         "1",
         "1",
         "1",
         "0",
         "1",
         "0",
         "0",
         "0",
         "0",
         "1",
         "1",
         "0",
         "0",
         "1",
         "0",
         "1",
         "0",
         "0",
         "0",
         "0",
         "0",
         "0",
         "1",
         "0",
         "0",
         "0",
         "0",
         "0",
         "0",
         "0",
         "0",
         "1",
         "0",
         "0",
         "0",
         "0",
         "0",
         "0",
         "1",
         "0",
         "0",
         "0",
         "0",
         "0",
         "0",
         "0",
         "0",
         "0",
         "0",
         "0",
         "0",
         "1",
         "0",
         "0",
         "0",
         "0",
         "0",
         "0",
         "0",
         "0",
         "0",
         "0",
         "0",
         "0",
         "0",
         "0",
         "0",
         "0",
         "0",
         "0",
         "0",
         "0",
         "0",
         "0",
         "0",
         "1",
         "0",
         "0",
         "0",
         "0",
         "0",
         "0",
         "0",
         "0",
         "0",
         "0",
         "0",
         "0",
         "0"
        ],
        [
         "8",
         "1",
         "2",
         "4",
         "6",
         "20",
         "19",
         "1",
         "12",
         "5",
         "8",
         "0",
         "2",
         "1",
         "4",
         "3",
         "1",
         "0",
         "2",
         "1",
         "1",
         "1",
         "0",
         "0",
         "0",
         "2",
         "1",
         "0",
         "1",
         "1",
         "1",
         "0",
         "0",
         "0",
         "0",
         "0",
         "0",
         "0",
         "0",
         "0",
         "0",
         "0",
         "0",
         "1",
         "0",
         "0",
         "0",
         "0",
         "0",
         "1",
         "0",
         "0",
         "0",
         "0",
         "0",
         "0",
         "0",
         "0",
         "0",
         "0",
         "0",
         "0",
         "1",
         "0",
         "0",
         "0",
         "0",
         "0",
         "0",
         "0",
         "0",
         "0",
         "0",
         "0",
         "0",
         "0",
         "0",
         "0",
         "0",
         "0",
         "0",
         "0",
         "0",
         "0",
         "0",
         "0",
         "0",
         "0",
         "0",
         "0",
         "0",
         "0",
         "0",
         "0",
         "0",
         "0",
         "0",
         "0",
         "0",
         "0",
         "0",
         "0",
         "0",
         "0",
         "0",
         "0",
         "0",
         "0",
         "0",
         "0",
         "0",
         "0",
         "0",
         "0",
         "0",
         "0",
         "0",
         "0",
         "0",
         "0",
         "0",
         "0",
         "0",
         "0",
         "0",
         "0",
         "0",
         "0",
         "0",
         "0"
        ]
       ],
       "shape": {
        "columns": 129,
        "rows": 5
       }
      },
      "text/html": [
       "<div>\n",
       "<style scoped>\n",
       "    .dataframe tbody tr th:only-of-type {\n",
       "        vertical-align: middle;\n",
       "    }\n",
       "\n",
       "    .dataframe tbody tr th {\n",
       "        vertical-align: top;\n",
       "    }\n",
       "\n",
       "    .dataframe thead th {\n",
       "        text-align: right;\n",
       "    }\n",
       "</style>\n",
       "<table border=\"1\" class=\"dataframe\">\n",
       "  <thead>\n",
       "    <tr style=\"text-align: right;\">\n",
       "      <th>mpg</th>\n",
       "      <th>9.0</th>\n",
       "      <th>10.0</th>\n",
       "      <th>11.0</th>\n",
       "      <th>12.0</th>\n",
       "      <th>13.0</th>\n",
       "      <th>14.0</th>\n",
       "      <th>14.5</th>\n",
       "      <th>15.0</th>\n",
       "      <th>15.5</th>\n",
       "      <th>16.0</th>\n",
       "      <th>...</th>\n",
       "      <th>39.4</th>\n",
       "      <th>40.8</th>\n",
       "      <th>40.9</th>\n",
       "      <th>41.5</th>\n",
       "      <th>43.1</th>\n",
       "      <th>43.4</th>\n",
       "      <th>44.0</th>\n",
       "      <th>44.3</th>\n",
       "      <th>44.6</th>\n",
       "      <th>46.6</th>\n",
       "    </tr>\n",
       "    <tr>\n",
       "      <th>cylinders</th>\n",
       "      <th></th>\n",
       "      <th></th>\n",
       "      <th></th>\n",
       "      <th></th>\n",
       "      <th></th>\n",
       "      <th></th>\n",
       "      <th></th>\n",
       "      <th></th>\n",
       "      <th></th>\n",
       "      <th></th>\n",
       "      <th></th>\n",
       "      <th></th>\n",
       "      <th></th>\n",
       "      <th></th>\n",
       "      <th></th>\n",
       "      <th></th>\n",
       "      <th></th>\n",
       "      <th></th>\n",
       "      <th></th>\n",
       "      <th></th>\n",
       "      <th></th>\n",
       "    </tr>\n",
       "  </thead>\n",
       "  <tbody>\n",
       "    <tr>\n",
       "      <th>3</th>\n",
       "      <td>0</td>\n",
       "      <td>0</td>\n",
       "      <td>0</td>\n",
       "      <td>0</td>\n",
       "      <td>0</td>\n",
       "      <td>0</td>\n",
       "      <td>0</td>\n",
       "      <td>0</td>\n",
       "      <td>0</td>\n",
       "      <td>0</td>\n",
       "      <td>...</td>\n",
       "      <td>0</td>\n",
       "      <td>0</td>\n",
       "      <td>0</td>\n",
       "      <td>0</td>\n",
       "      <td>0</td>\n",
       "      <td>0</td>\n",
       "      <td>0</td>\n",
       "      <td>0</td>\n",
       "      <td>0</td>\n",
       "      <td>0</td>\n",
       "    </tr>\n",
       "    <tr>\n",
       "      <th>4</th>\n",
       "      <td>0</td>\n",
       "      <td>0</td>\n",
       "      <td>0</td>\n",
       "      <td>0</td>\n",
       "      <td>0</td>\n",
       "      <td>0</td>\n",
       "      <td>0</td>\n",
       "      <td>0</td>\n",
       "      <td>0</td>\n",
       "      <td>0</td>\n",
       "      <td>...</td>\n",
       "      <td>1</td>\n",
       "      <td>1</td>\n",
       "      <td>1</td>\n",
       "      <td>1</td>\n",
       "      <td>1</td>\n",
       "      <td>1</td>\n",
       "      <td>1</td>\n",
       "      <td>1</td>\n",
       "      <td>1</td>\n",
       "      <td>1</td>\n",
       "    </tr>\n",
       "    <tr>\n",
       "      <th>5</th>\n",
       "      <td>0</td>\n",
       "      <td>0</td>\n",
       "      <td>0</td>\n",
       "      <td>0</td>\n",
       "      <td>0</td>\n",
       "      <td>0</td>\n",
       "      <td>0</td>\n",
       "      <td>0</td>\n",
       "      <td>0</td>\n",
       "      <td>0</td>\n",
       "      <td>...</td>\n",
       "      <td>0</td>\n",
       "      <td>0</td>\n",
       "      <td>0</td>\n",
       "      <td>0</td>\n",
       "      <td>0</td>\n",
       "      <td>0</td>\n",
       "      <td>0</td>\n",
       "      <td>0</td>\n",
       "      <td>0</td>\n",
       "      <td>0</td>\n",
       "    </tr>\n",
       "    <tr>\n",
       "      <th>6</th>\n",
       "      <td>0</td>\n",
       "      <td>0</td>\n",
       "      <td>0</td>\n",
       "      <td>0</td>\n",
       "      <td>0</td>\n",
       "      <td>0</td>\n",
       "      <td>0</td>\n",
       "      <td>4</td>\n",
       "      <td>0</td>\n",
       "      <td>5</td>\n",
       "      <td>...</td>\n",
       "      <td>0</td>\n",
       "      <td>0</td>\n",
       "      <td>0</td>\n",
       "      <td>0</td>\n",
       "      <td>0</td>\n",
       "      <td>0</td>\n",
       "      <td>0</td>\n",
       "      <td>0</td>\n",
       "      <td>0</td>\n",
       "      <td>0</td>\n",
       "    </tr>\n",
       "    <tr>\n",
       "      <th>8</th>\n",
       "      <td>1</td>\n",
       "      <td>2</td>\n",
       "      <td>4</td>\n",
       "      <td>6</td>\n",
       "      <td>20</td>\n",
       "      <td>19</td>\n",
       "      <td>1</td>\n",
       "      <td>12</td>\n",
       "      <td>5</td>\n",
       "      <td>8</td>\n",
       "      <td>...</td>\n",
       "      <td>0</td>\n",
       "      <td>0</td>\n",
       "      <td>0</td>\n",
       "      <td>0</td>\n",
       "      <td>0</td>\n",
       "      <td>0</td>\n",
       "      <td>0</td>\n",
       "      <td>0</td>\n",
       "      <td>0</td>\n",
       "      <td>0</td>\n",
       "    </tr>\n",
       "  </tbody>\n",
       "</table>\n",
       "<p>5 rows × 129 columns</p>\n",
       "</div>"
      ],
      "text/plain": [
       "mpg        9.0   10.0  11.0  12.0  13.0  14.0  14.5  15.0  15.5  16.0  ...  \\\n",
       "cylinders                                                              ...   \n",
       "3             0     0     0     0     0     0     0     0     0     0  ...   \n",
       "4             0     0     0     0     0     0     0     0     0     0  ...   \n",
       "5             0     0     0     0     0     0     0     0     0     0  ...   \n",
       "6             0     0     0     0     0     0     0     4     0     5  ...   \n",
       "8             1     2     4     6    20    19     1    12     5     8  ...   \n",
       "\n",
       "mpg        39.4  40.8  40.9  41.5  43.1  43.4  44.0  44.3  44.6  46.6  \n",
       "cylinders                                                              \n",
       "3             0     0     0     0     0     0     0     0     0     0  \n",
       "4             1     1     1     1     1     1     1     1     1     1  \n",
       "5             0     0     0     0     0     0     0     0     0     0  \n",
       "6             0     0     0     0     0     0     0     0     0     0  \n",
       "8             0     0     0     0     0     0     0     0     0     0  \n",
       "\n",
       "[5 rows x 129 columns]"
      ]
     },
<<<<<<< HEAD
     "execution_count": 12,
=======
     "execution_count": 13,
>>>>>>> upstream/main
     "metadata": {},
     "output_type": "execute_result"
    }
   ],
   "source": [
    "table_2 = pd.crosstab(index = carfeatures['cylinders'],columns = carfeatures['mpg'])\n",
    "table_2"
   ]
  },
  {
   "attachments": {},
   "cell_type": "markdown",
   "metadata": {},
   "source": [
    "<font size=\"5\"> \n",
    "\n",
    "Example: Compute basic summary statistics for all variables"
   ]
  },
  {
   "cell_type": "code",
<<<<<<< HEAD
   "execution_count": 13,
=======
   "execution_count": 14,
>>>>>>> upstream/main
   "metadata": {},
   "outputs": [
    {
     "data": {
      "application/vnd.microsoft.datawrangler.viewer.v0+json": {
       "columns": [
        {
         "name": "index",
         "rawType": "object",
         "type": "string"
        },
        {
         "name": "mpg",
         "rawType": "float64",
         "type": "float"
        },
        {
         "name": "cylinders",
         "rawType": "float64",
         "type": "float"
        },
        {
         "name": "displacement",
         "rawType": "float64",
         "type": "float"
        },
        {
         "name": "weight",
         "rawType": "float64",
         "type": "float"
        },
        {
         "name": "acceleration",
         "rawType": "float64",
         "type": "float"
        }
       ],
<<<<<<< HEAD
       "ref": "6403fed1-9ba0-4a77-93ed-d617caabbd09",
=======
       "ref": "770736be-ed4c-468f-a38d-91d28c9596ed",
>>>>>>> upstream/main
       "rows": [
        [
         "count",
         "398.0",
         "398.0",
         "398.0",
         "398.0",
         "398.0"
        ],
        [
         "mean",
         "23.514572864321607",
         "5.454773869346734",
         "193.42713567839195",
         "2970.424623115578",
         "15.568090452261307"
        ],
        [
         "std",
         "7.815984312565782",
         "1.7010042445332094",
         "104.26868251535464",
         "846.8417741973271",
         "2.7576889298126765"
        ],
        [
         "min",
         "9.0",
         "3.0",
         "68.0",
         "1613.0",
         "8.0"
        ],
        [
         "25%",
         "17.5",
         "4.0",
         "104.25",
         "2223.75",
         "13.825000000000001"
        ],
        [
         "50%",
         "23.0",
         "4.0",
         "148.5",
         "2803.5",
         "15.5"
        ],
        [
         "75%",
         "29.0",
         "8.0",
         "262.0",
         "3608.0",
         "17.175"
        ],
        [
         "max",
         "46.6",
         "8.0",
         "455.0",
         "5140.0",
         "24.8"
        ]
       ],
       "shape": {
        "columns": 5,
        "rows": 8
       }
      },
      "text/html": [
       "<div>\n",
       "<style scoped>\n",
       "    .dataframe tbody tr th:only-of-type {\n",
       "        vertical-align: middle;\n",
       "    }\n",
       "\n",
       "    .dataframe tbody tr th {\n",
       "        vertical-align: top;\n",
       "    }\n",
       "\n",
       "    .dataframe thead th {\n",
       "        text-align: right;\n",
       "    }\n",
       "</style>\n",
       "<table border=\"1\" class=\"dataframe\">\n",
       "  <thead>\n",
       "    <tr style=\"text-align: right;\">\n",
       "      <th></th>\n",
       "      <th>mpg</th>\n",
       "      <th>cylinders</th>\n",
       "      <th>displacement</th>\n",
       "      <th>weight</th>\n",
       "      <th>acceleration</th>\n",
       "    </tr>\n",
       "  </thead>\n",
       "  <tbody>\n",
       "    <tr>\n",
       "      <th>count</th>\n",
       "      <td>398.000000</td>\n",
       "      <td>398.000000</td>\n",
       "      <td>398.000000</td>\n",
       "      <td>398.000000</td>\n",
       "      <td>398.000000</td>\n",
       "    </tr>\n",
       "    <tr>\n",
       "      <th>mean</th>\n",
       "      <td>23.514573</td>\n",
       "      <td>5.454774</td>\n",
       "      <td>193.427136</td>\n",
       "      <td>2970.424623</td>\n",
       "      <td>15.568090</td>\n",
       "    </tr>\n",
       "    <tr>\n",
       "      <th>std</th>\n",
       "      <td>7.815984</td>\n",
       "      <td>1.701004</td>\n",
       "      <td>104.268683</td>\n",
       "      <td>846.841774</td>\n",
       "      <td>2.757689</td>\n",
       "    </tr>\n",
       "    <tr>\n",
       "      <th>min</th>\n",
       "      <td>9.000000</td>\n",
       "      <td>3.000000</td>\n",
       "      <td>68.000000</td>\n",
       "      <td>1613.000000</td>\n",
       "      <td>8.000000</td>\n",
       "    </tr>\n",
       "    <tr>\n",
       "      <th>25%</th>\n",
       "      <td>17.500000</td>\n",
       "      <td>4.000000</td>\n",
       "      <td>104.250000</td>\n",
       "      <td>2223.750000</td>\n",
       "      <td>13.825000</td>\n",
       "    </tr>\n",
       "    <tr>\n",
       "      <th>50%</th>\n",
       "      <td>23.000000</td>\n",
       "      <td>4.000000</td>\n",
       "      <td>148.500000</td>\n",
       "      <td>2803.500000</td>\n",
       "      <td>15.500000</td>\n",
       "    </tr>\n",
       "    <tr>\n",
       "      <th>75%</th>\n",
       "      <td>29.000000</td>\n",
       "      <td>8.000000</td>\n",
       "      <td>262.000000</td>\n",
       "      <td>3608.000000</td>\n",
       "      <td>17.175000</td>\n",
       "    </tr>\n",
       "    <tr>\n",
       "      <th>max</th>\n",
       "      <td>46.600000</td>\n",
       "      <td>8.000000</td>\n",
       "      <td>455.000000</td>\n",
       "      <td>5140.000000</td>\n",
       "      <td>24.800000</td>\n",
       "    </tr>\n",
       "  </tbody>\n",
       "</table>\n",
       "</div>"
      ],
      "text/plain": [
       "              mpg   cylinders  displacement       weight  acceleration\n",
       "count  398.000000  398.000000    398.000000   398.000000    398.000000\n",
       "mean    23.514573    5.454774    193.427136  2970.424623     15.568090\n",
       "std      7.815984    1.701004    104.268683   846.841774      2.757689\n",
       "min      9.000000    3.000000     68.000000  1613.000000      8.000000\n",
       "25%     17.500000    4.000000    104.250000  2223.750000     13.825000\n",
       "50%     23.000000    4.000000    148.500000  2803.500000     15.500000\n",
       "75%     29.000000    8.000000    262.000000  3608.000000     17.175000\n",
       "max     46.600000    8.000000    455.000000  5140.000000     24.800000"
      ]
     },
<<<<<<< HEAD
     "execution_count": 13,
=======
     "execution_count": 14,
>>>>>>> upstream/main
     "metadata": {},
     "output_type": "execute_result"
    }
   ],
   "source": [
    "# \"describe\" computes the count, mean, std, min, 25% quantile, 50%, 75%, max\n",
    "# automatically excludes variables with text values\n",
    "# otherwise includes all numeric variables\n",
    "\n",
    "carfeatures.describe()"
   ]
  },
  {
   "cell_type": "code",
   "execution_count": 15,
   "metadata": {},
   "outputs": [
    {
     "name": "stdout",
     "output_type": "stream",
     "text": [
      "Help on method describe in module pandas.core.generic:\n",
      "\n",
      "describe(percentiles=None, include=None, exclude=None) -> 'Self' method of pandas.core.frame.DataFrame instance\n",
      "    Generate descriptive statistics.\n",
      "\n",
      "    Descriptive statistics include those that summarize the central\n",
      "    tendency, dispersion and shape of a\n",
      "    dataset's distribution, excluding ``NaN`` values.\n",
      "\n",
      "    Analyzes both numeric and object series, as well\n",
      "    as ``DataFrame`` column sets of mixed data types. The output\n",
      "    will vary depending on what is provided. Refer to the notes\n",
      "    below for more detail.\n",
      "\n",
      "    Parameters\n",
      "    ----------\n",
      "    percentiles : list-like of numbers, optional\n",
      "        The percentiles to include in the output. All should\n",
      "        fall between 0 and 1. The default is\n",
      "        ``[.25, .5, .75]``, which returns the 25th, 50th, and\n",
      "        75th percentiles.\n",
      "    include : 'all', list-like of dtypes or None (default), optional\n",
      "        A white list of data types to include in the result. Ignored\n",
      "        for ``Series``. Here are the options:\n",
      "\n",
      "        - 'all' : All columns of the input will be included in the output.\n",
      "        - A list-like of dtypes : Limits the results to the\n",
      "          provided data types.\n",
      "          To limit the result to numeric types submit\n",
      "          ``numpy.number``. To limit it instead to object columns submit\n",
      "          the ``numpy.object`` data type. Strings\n",
      "          can also be used in the style of\n",
      "          ``select_dtypes`` (e.g. ``df.describe(include=['O'])``). To\n",
      "          select pandas categorical columns, use ``'category'``\n",
      "        - None (default) : The result will include all numeric columns.\n",
      "    exclude : list-like of dtypes or None (default), optional,\n",
      "        A black list of data types to omit from the result. Ignored\n",
      "        for ``Series``. Here are the options:\n",
      "\n",
      "        - A list-like of dtypes : Excludes the provided data types\n",
      "          from the result. To exclude numeric types submit\n",
      "          ``numpy.number``. To exclude object columns submit the data\n",
      "          type ``numpy.object``. Strings can also be used in the style of\n",
      "          ``select_dtypes`` (e.g. ``df.describe(exclude=['O'])``). To\n",
      "          exclude pandas categorical columns, use ``'category'``\n",
      "        - None (default) : The result will exclude nothing.\n",
      "\n",
      "    Returns\n",
      "    -------\n",
      "    Series or DataFrame\n",
      "        Summary statistics of the Series or Dataframe provided.\n",
      "\n",
      "    See Also\n",
      "    --------\n",
      "    DataFrame.count: Count number of non-NA/null observations.\n",
      "    DataFrame.max: Maximum of the values in the object.\n",
      "    DataFrame.min: Minimum of the values in the object.\n",
      "    DataFrame.mean: Mean of the values.\n",
      "    DataFrame.std: Standard deviation of the observations.\n",
      "    DataFrame.select_dtypes: Subset of a DataFrame including/excluding\n",
      "        columns based on their dtype.\n",
      "\n",
      "    Notes\n",
      "    -----\n",
      "    For numeric data, the result's index will include ``count``,\n",
      "    ``mean``, ``std``, ``min``, ``max`` as well as lower, ``50`` and\n",
      "    upper percentiles. By default the lower percentile is ``25`` and the\n",
      "    upper percentile is ``75``. The ``50`` percentile is the\n",
      "    same as the median.\n",
      "\n",
      "    For object data (e.g. strings or timestamps), the result's index\n",
      "    will include ``count``, ``unique``, ``top``, and ``freq``. The ``top``\n",
      "    is the most common value. The ``freq`` is the most common value's\n",
      "    frequency. Timestamps also include the ``first`` and ``last`` items.\n",
      "\n",
      "    If multiple object values have the highest count, then the\n",
      "    ``count`` and ``top`` results will be arbitrarily chosen from\n",
      "    among those with the highest count.\n",
      "\n",
      "    For mixed data types provided via a ``DataFrame``, the default is to\n",
      "    return only an analysis of numeric columns. If the dataframe consists\n",
      "    only of object and categorical data without any numeric columns, the\n",
      "    default is to return an analysis of both the object and categorical\n",
      "    columns. If ``include='all'`` is provided as an option, the result\n",
      "    will include a union of attributes of each type.\n",
      "\n",
      "    The `include` and `exclude` parameters can be used to limit\n",
      "    which columns in a ``DataFrame`` are analyzed for the output.\n",
      "    The parameters are ignored when analyzing a ``Series``.\n",
      "\n",
      "    Examples\n",
      "    --------\n",
      "    Describing a numeric ``Series``.\n",
      "\n",
      "    >>> s = pd.Series([1, 2, 3])\n",
      "    >>> s.describe()\n",
      "    count    3.0\n",
      "    mean     2.0\n",
      "    std      1.0\n",
      "    min      1.0\n",
      "    25%      1.5\n",
      "    50%      2.0\n",
      "    75%      2.5\n",
      "    max      3.0\n",
      "    dtype: float64\n",
      "\n",
      "    Describing a categorical ``Series``.\n",
      "\n",
      "    >>> s = pd.Series(['a', 'a', 'b', 'c'])\n",
      "    >>> s.describe()\n",
      "    count     4\n",
      "    unique    3\n",
      "    top       a\n",
      "    freq      2\n",
      "    dtype: object\n",
      "\n",
      "    Describing a timestamp ``Series``.\n",
      "\n",
      "    >>> s = pd.Series([\n",
      "    ...     np.datetime64(\"2000-01-01\"),\n",
      "    ...     np.datetime64(\"2010-01-01\"),\n",
      "    ...     np.datetime64(\"2010-01-01\")\n",
      "    ... ])\n",
      "    >>> s.describe()\n",
      "    count                      3\n",
      "    mean     2006-09-01 08:00:00\n",
      "    min      2000-01-01 00:00:00\n",
      "    25%      2004-12-31 12:00:00\n",
      "    50%      2010-01-01 00:00:00\n",
      "    75%      2010-01-01 00:00:00\n",
      "    max      2010-01-01 00:00:00\n",
      "    dtype: object\n",
      "\n",
      "    Describing a ``DataFrame``. By default only numeric fields\n",
      "    are returned.\n",
      "\n",
      "    >>> df = pd.DataFrame({'categorical': pd.Categorical(['d', 'e', 'f']),\n",
      "    ...                    'numeric': [1, 2, 3],\n",
      "    ...                    'object': ['a', 'b', 'c']\n",
      "    ...                    })\n",
      "    >>> df.describe()\n",
      "           numeric\n",
      "    count      3.0\n",
      "    mean       2.0\n",
      "    std        1.0\n",
      "    min        1.0\n",
      "    25%        1.5\n",
      "    50%        2.0\n",
      "    75%        2.5\n",
      "    max        3.0\n",
      "\n",
      "    Describing all columns of a ``DataFrame`` regardless of data type.\n",
      "\n",
      "    >>> df.describe(include='all')  # doctest: +SKIP\n",
      "           categorical  numeric object\n",
      "    count            3      3.0      3\n",
      "    unique           3      NaN      3\n",
      "    top              f      NaN      a\n",
      "    freq             1      NaN      1\n",
      "    mean           NaN      2.0    NaN\n",
      "    std            NaN      1.0    NaN\n",
      "    min            NaN      1.0    NaN\n",
      "    25%            NaN      1.5    NaN\n",
      "    50%            NaN      2.0    NaN\n",
      "    75%            NaN      2.5    NaN\n",
      "    max            NaN      3.0    NaN\n",
      "\n",
      "    Describing a column from a ``DataFrame`` by accessing it as\n",
      "    an attribute.\n",
      "\n",
      "    >>> df.numeric.describe()\n",
      "    count    3.0\n",
      "    mean     2.0\n",
      "    std      1.0\n",
      "    min      1.0\n",
      "    25%      1.5\n",
      "    50%      2.0\n",
      "    75%      2.5\n",
      "    max      3.0\n",
      "    Name: numeric, dtype: float64\n",
      "\n",
      "    Including only numeric columns in a ``DataFrame`` description.\n",
      "\n",
      "    >>> df.describe(include=[np.number])\n",
      "           numeric\n",
      "    count      3.0\n",
      "    mean       2.0\n",
      "    std        1.0\n",
      "    min        1.0\n",
      "    25%        1.5\n",
      "    50%        2.0\n",
      "    75%        2.5\n",
      "    max        3.0\n",
      "\n",
      "    Including only string columns in a ``DataFrame`` description.\n",
      "\n",
      "    >>> df.describe(include=[object])  # doctest: +SKIP\n",
      "           object\n",
      "    count       3\n",
      "    unique      3\n",
      "    top         a\n",
      "    freq        1\n",
      "\n",
      "    Including only categorical columns from a ``DataFrame`` description.\n",
      "\n",
      "    >>> df.describe(include=['category'])\n",
      "           categorical\n",
      "    count            3\n",
      "    unique           3\n",
      "    top              d\n",
      "    freq             1\n",
      "\n",
      "    Excluding numeric columns from a ``DataFrame`` description.\n",
      "\n",
      "    >>> df.describe(exclude=[np.number])  # doctest: +SKIP\n",
      "           categorical object\n",
      "    count            3      3\n",
      "    unique           3      3\n",
      "    top              f      a\n",
      "    freq             1      1\n",
      "\n",
      "    Excluding object columns from a ``DataFrame`` description.\n",
      "\n",
      "    >>> df.describe(exclude=[object])  # doctest: +SKIP\n",
      "           categorical  numeric\n",
      "    count            3      3.0\n",
      "    unique           3      NaN\n",
      "    top              f      NaN\n",
      "    freq             1      NaN\n",
      "    mean           NaN      2.0\n",
      "    std            NaN      1.0\n",
      "    min            NaN      1.0\n",
      "    25%            NaN      1.5\n",
      "    50%            NaN      2.0\n",
      "    75%            NaN      2.5\n",
      "    max            NaN      3.0\n",
      "\n"
     ]
    }
   ],
   "source": [
    "#### In class, I typed the command:\n",
    "\n",
    "# help(carfeatures.describe())\n",
    "\n",
    "# but I shouldn't have included the empty parentheses next to describe.\n",
    "\n",
    "# Just like we did help(pd.crosstab) without a pair of \n",
    "# parentheses after the function name, we should do:\n",
    "\n",
    "help(carfeatures.describe)"
   ]
  },
  {
   "attachments": {},
   "cell_type": "markdown",
   "metadata": {},
   "source": [
    "<font size=\"5\"> \n",
    "\n",
    "Example: Display a scatter plot "
   ]
  },
  {
   "cell_type": "code",
<<<<<<< HEAD
   "execution_count": 14,
=======
   "execution_count": 16,
>>>>>>> upstream/main
   "metadata": {},
   "outputs": [
    {
     "data": {
<<<<<<< HEAD
      "image/png": "iVBORw0KGgoAAAANSUhEUgAAAh8AAAGdCAYAAACyzRGfAAAAOnRFWHRTb2Z0d2FyZQBNYXRwbG90bGliIHZlcnNpb24zLjEwLjAsIGh0dHBzOi8vbWF0cGxvdGxpYi5vcmcvlHJYcgAAAAlwSFlzAAAPYQAAD2EBqD+naQAAZbpJREFUeJzt3X94FOW9N/73JiSbHyQLIZJdFJPID2uIgIhCAEWQeEBEFE8fQeWIPYdaK16i7SkHLQUu1Eh92up59GClPai1Sr/nUSoWyhEOAgKh8AApxCClmCDFhJQACQSSSDLfP+Is+2N+3PNjd2d336/ryqVkZ2fumVmYz87c9/t2SZIkgYiIiChKUmLdACIiIkouLD6IiIgoqlh8EBERUVSx+CAiIqKoYvFBREREUcXig4iIiKKKxQcRERFFFYsPIiIiiqoesW5AqK6uLnz11VfIycmBy+WKdXOIiIhIgCRJOHfuHPr164eUFO17G44rPr766iv0798/1s0gIiIiE44fP46rrrpKcxnHFR85OTkAuhufm5sb49YQERGRiJaWFvTv399/HdfiuOJDftSSm5vL4oOIiCjOiHSZYIdTIiIiiioWH0RERBRVLD6IiIgoqlh8EBERUVSx+CAiIqKoYvFBREREUcXig4iIiKKKxQcRERFFleNCxigyOrsk7K49jcZzbeibk4Gbi/OQmsK5c4iIKPpYfCSBDdX1WPpRDeqb2/y/83kysHhaCSaX+mLYMiIiSkZ87JLgNlTX47F39gUVHgDQ0NyGx97Zhw3V9TFqGRERJSsWHwmss0vC0o9qICm8Jv9u6Uc16OxSWoKIiCgyWHwksN21p8PueASSANQ3t2F37enoNYqIiJIei48E1nhOvfAwsxwREZEdWHwksL45GbYuR0REZAcWHwns5uI8+DwZUBtQ60L3qJebi/Oi2SwiIkpyLD4SWGqKC4unlQBAWAEi/3nxtBLmfRARUVSx+Ehwk0t9WPHQCHg9wY9WvJ4MrHhoBHM+iIgo6hgylgQml/pQXuJlwikRETkCi48kkZriQtmAPrFuBhERER+7EBERUXSx+CAiIqKoYvFBREREUcXig4iIiKLKUvFRUVEBl8uF+fPn+383Z84cuFyuoJ/Ro0dbbScRERElCNOjXfbs2YM33ngDQ4cODXtt8uTJWLVqlf/P6enpZjdDRERECcbUnY/z58/jwQcfxMqVK9G7d++w191uN7xer/8nLy9547s7uyRUHm3Ch1UnUHm0idPXExFR0jN15+Pxxx/H1KlTMWnSJDz33HNhr2/ZsgV9+/ZFr169MH78eDz//PPo27ev4rra29vR3t7u/3NLS4uZJjnShup6LP2oJmhae58nA4unlTBZlIiIkpbhOx+rV6/Gvn37UFFRofj6lClT8Nvf/habN2/Gz372M+zZswcTJ04MKjACVVRUwOPx+H/69+9vtEmOtKG6Ho+9sy+o8ACAhuY2PPbOPmyoro9Ry4iIiGLLJUmS8HOA48ePY+TIkfj4448xbNgwAMBtt92G4cOH4+WXX1Z8T319PQoLC7F69WrMmDEj7HWlOx/9+/dHc3MzcnNzDe6OM3R2SRi3fHNY4SFzoXtule0LJkYs4ryzS2KcOhERRU1LSws8Ho/Q9dvQY5e9e/eisbERN954o/93nZ2d2LZtG1599VW0t7cjNTU16D0+nw+FhYU4cuSI4jrdbjfcbreRZjje7trTqoUHAEgA6pvbsLv2dEQiz/m4h4iInMxQ8XH77bfj4MGDQb975JFH8K1vfQsLFiwIKzwAoKmpCcePH4fPlzwXvcZz6oWHmeWMkB/3hN7Okh/3cCZbIiKKNUPFR05ODkpLS4N+l52djT59+qC0tBTnz5/HkiVLcN9998Hn86Gurg7PPPMM8vPzce+999racCfrm5Ohv5CB5UR1dklY+lFNWOEBdN9tcQFYsvYz5GSk4dT5dj6OISKimLB1VtvU1FQcPHgQb7/9Ns6ePQufz4cJEybgd7/7HXJycuzclKPdXJwHnycDDc1tioWA3Ofj5mJ7hyCLPO5paGnHg7/6k/93fBxDRETRZrn42LJli///MzMz8d///d9WVxn3UlNcWDytBI+9sw8uIKgAke8xLJ5WYvsdBzOPcfg4hoiIoo1zu0TI5FIfVjw0Al5P8KMVrycjYhd6M49x5MJo6Uc1DEAjIqKosPWxCwWbXOpDeYk3akNe9R73qIn06BsiIqJALD4iLDXFFbULutbjHhF2jr5hzggREalh8ZFg5Mc9oTkfIuwafcOcESIi0mIo4TQajCSkkbrAOw/52W784L/+jJMt2qNv7EhcVcsZkdfKjq1ERInJyPWbHU7jhNHZceXHPdOHX4mxg/Kx5O4SAJeLAJmdo2/0ckYAdmwlIiI+dokLdjzGUHsc47XxcUisY+WJiCg+sPhwODvj0iM9+iaWsfJERBQ/WHw4mEhc+tKPalBe4hUuICI5+iZWsfJERBRf2OfDwYw8xnACOWdErQxyoftxkd2x8kREFF9YfDhYvD3GkHNGgMh2bCUiovjG4sPB4vExRixi5YmIKL6wz4eDxWp2XKuiHStPRETxhcWHg8Vqdlw7RDNWnoiI4gsfuzgcH2MQEVGi4Z2POMDHGERElEhYfMQJPsYgIqJEwccuREREFFUsPoiIiCiq+NglSXV2SexDQkREMcHiIwnZMUsuERGRWXzskmTkWXJD54yRZ8ndUF0fo5YREVGyYPGRRPRmyQW6Z8nt7FJagoiIyB4sPpJIvM2SS0REiYl9PiLEiR06422WXCIiSkwsPiLAiR06O7sknDrXLrSsk2bJJSKixMPHLjZzYofODdX1GLd8M5atO6S5nAvdRZLTZsklIqLEwuLDRk7s0KlWDIVy+iy5RESUOFh82MhpHTq1iqFQnCWXiIiihX0+bOS0Dp16xZBs0dTrMGdsMe94EBFRVPDOh41EO2pGq0OnaJGTn+Nm4UFERFHD4sNGNxfnwefJgNplPNodOp1WDBEREQEsPmyVmuLC4mklABBWgMSiQ6fTiiEiIiLAYvFRUVEBl8uF+fPn+38nSRKWLFmCfv36ITMzE7fddhs+++wzq+2MG5NLfVjx0Ah4PcF3E2LRodNpxRARERFgocPpnj178MYbb2Do0KFBv//pT3+Kn//853jzzTcxePBgPPfccygvL8fhw4eRk5NjucHxYHKpD+UlXkcknMrFUGjomZez2BIRUYy4JEkyHDpx/vx5jBgxAv/xH/+B5557DsOHD8fLL78MSZLQr18/zJ8/HwsWLAAAtLe3o6CgAMuXL8ejjz6qu+6WlhZ4PB40NzcjNzfX+B6RIifGvRMRUeIwcv029djl8ccfx9SpUzFp0qSg39fW1qKhoQF33HGH/3dutxvjx4/Hzp07FdfV3t6OlpaWoB+yX2qKC2UD+mD68CtRNqAPCw8iIooZw49dVq9ejX379mHPnj1hrzU0NAAACgoKgn5fUFCAY8eOKa6voqICS5cuNdoMIiIiilOG7nwcP34cTz75JN555x1kZKgPz3S5gr9VS5IU9jvZwoUL0dzc7P85fvy4kSZRiM4uCZVHm/Bh1QlUHm2KapQ7ERGRCEN3Pvbu3YvGxkbceOON/t91dnZi27ZtePXVV3H48GEA3XdAfL7LHRkbGxvD7obI3G433G63mbZTCCfOpktERBTK0J2P22+/HQcPHkRVVZX/Z+TIkXjwwQdRVVWFa665Bl6vFxs3bvS/p6OjA1u3bsWYMWNsb3wsOPXOghNn0yUiIlJi6M5HTk4OSktLg36XnZ2NPn36+H8/f/58vPDCCxg0aBAGDRqEF154AVlZWXjggQfsa3WM2HFnIRKjTvRm03Whezbd8hIvO5oSEVHM2T6x3I9+9CNcvHgR3//+93HmzBmMGjUKH3/8cdxnfMh3FkIv8PKdBZEAsUg9FjEym27ZgD6mt0NERGQHUzkfkeTEnI/OLgnjlm9WvcC70B3atX3BRNU7C2rFi7y0lfTTD6tO4MnVVbrLvTJzOKYPv9LUNoiIiLREPOcj2Ri5s6BE77EI0P1YxGz/EU4gR0RE8YTFhwDRqenVlrNavOjhBHJERBRPWHwIsHpnwWrxoocTyBERUTxh8SHA6p2FaDwWcdJsukRERFpsH+2SiOQ7C4+9sw8uIKjvhsidBbl4aWhuU+z3IXdYtfpYxEmz6RIREanhnQ9BVu4smH0sYibQjBPIERGR03GorUFWQsKM5HxsqK7HkrWfoaGl3f+7gpx0PDCqEEX52abuakQi4Iyij+eRiJzIyPWbxUeUiVw4NlTX43vv7NNdl5GAMs77khh4HonIqVh8xLHOLgk3PrcRZy98rbusaEBZJAPOKHp4HonIyRgyFsd2HW0SKjyA4ICyjktdiv1DIh1wRtHB80hEiYSjXRym8otThpaXA8pGV2zC6dbLRYt8K96Tmc55XxIA5+8hokTCOx+OY67jYGDhAVye8G5TTYPQ+80GnFF0RDqojogomlh8OIxd31rlm+9rqk4ILc95X5yN8/cQUSJh8eEwo6/pg15ZabasS0L3HZG87HTO+xLnOH8PESUSFh8Ok5riwoszrrd1nfcM76f6mgTg7mE+5kQ4HOfvIaJEwuLDgSaX+vD6QyPgzQ2+he4yeV0pL/Hiu7cWq77+xrZabKiuN7dyG5lJdE0mnL+HiBIFR7s41ORSH7q6JPz4w2p/Z1JJQtjcMlrkOWNuLOyNp/+/Ks1ll35Ug/ISb8y+OTM8Swzn7yGiRMA7Hw61oboej7+7P2wUi5HCA+i+Fb/32BnhYZqxIIdnhbZRHrHjhLsyTsL5e4go3rH4cCCtQClRBblu/614Jw/TZHgWEVHyYfHhQHqBUiJ+9r+G+x9XOHmYppHwLCIiSgwsPhzIjjsQp85fng3XycM0nXxXhoiIIoPFhwPZcQcicB1OHqbp5LsyscJRP0SU6DjaxYHkOxUNzW2G+33II1xC72LIwzRDR5R4YzyiRG9f1fYnUXHUDxElA5ckSY76WmVkSl4n6bjUhd9U1uHY6QsozMvC7LIipPcwf2NJHgECBI9w0RpqKzK1emeX5Lhhmlr7CiTPVPHycQg9v8l2HIgoPhm5frP4sEHF+hqs/LQWgXfHXS5gwrVXYO4tA0xf4JW+Bedlp+G56aVISXEZ/oasVHgAUCxGIlGkaK0z2b/xd3ZJGLd8s2rnW/kO0PYFE2NeLBIRKWHxEUUV62vwy221mstYuYiuP1D/TdBYR9j6jIRNKV3c5Tlkzl64nCXi82Tg7mE+rP1zva2FgEhx4cS7MtFSebQJs1bu0l3uvbmjbZt8kIjITiw+oqTjUhe+teiPEOkP6ILx2+Z23YZXW48RVm7983GCvg+rTuDJ1VW6y70yczimD78y8g0iIjLIyPWbo10s+E1lnVDhIVMLy1Ia3WBX+JYdgWVGtym6fYaIXcZRP0SUTDjaxYJjpy8ILxsYlhV421ztccTMm/oLh29p3Ya3I7DM6DaNbN/MOhMRR/0QUTLhnQ8LCvOyDL8nMCxLa06TX2w6Ynh9Zl43w8g6GSImxslZLEREdmPxYcHssiIYvRbIt81FHkcYWZ/Z180wsk4+ThAnZ7F4PcHHwuvJYL8YIkoofOxiQXqPFMy9pVh3tAsQftvc6uMQ0dvwVgLLzG7TyPb5OCHY5FKfoVFMRETxiHc+TAjsIHrbtQWYe4v2HRCl2+ZGHjNYuQ2vdTvfCLO3/vk4wbjUFBfKBvTB9OFXomxAHx4bIko4SXPnw64MCbUOoq/MvAGNLW349MjfsffLMzjX1ul/XSnCXPQxw1OTBmP1ni8tRaKrRasbyfmwEsNuV7R7MueAEBElEkM5HytWrMCKFStQV1cHABgyZAh+8pOfYMqUKQCAOXPm4K233gp6z6hRo7Brl354kiwSOR92pWeK5lWIXCTlREu9xxHbF0wEoJxCapSTE071JHsCKhGR00UsZOyjjz5CamoqBg4cCAB466238NJLL2H//v0YMmQI5syZg5MnT2LVqlX+96SnpyMvT/x5vt3Fh10BV5GIv+acJmIYUkZE5HwRCxmbNm0a7rzzTgwePBiDBw/G888/j549ewbd2XC73fB6vf4fI4WH3ewMuDKSVyHK6aMbnDC1O0PKiIgSj+k+H52dnfiv//ovtLa2oqyszP/7LVu2oG/fvujVqxfGjx+P559/Hn379lVdT3t7O9rb2/1/bmlpMdukMHYGXEUqr8Kpoxuc8piDIWVERInHcPFx8OBBlJWVoa2tDT179sSaNWtQUtI9mmHKlCn49re/jcLCQtTW1mLRokWYOHEi9u7dC7fbrbi+iooKLF261NpeqLCzYIhkXoU8usEss30p1N6n9pijobkNj72zT/OujN19RRhSRkSUeAwXH9deey2qqqpw9uxZvP/++3j44YexdetWlJSU4P777/cvV1paipEjR6KwsBDr1q3DjBkzFNe3cOFCPP300/4/t7S0oH///iZ2JZydBYNT8yrM3qFQe9+zU76Fn2g85nCh+zFHeYk3rKiIxN0ShpQRESUewzkf6enpGDhwIEaOHImKigoMGzYMr7zyiuKyPp8PhYWFOHJEPSrc7XYjNzc36McucsGg9r3bhe6Lo0jB4MS8Cq149sfe2YcN1fWG3lff3IZ5q6twurVDdZtqfVvMtkWPneeQiIicwXLImCRJQX02AjU1NeH48ePw+WLTcdLugiEWHUTlTp9r9v0Nv/70C6zZ3935s+NSl6mOmHbNchv4mCOSnUKdWPQREZE1hh67PPPMM5gyZQr69++Pc+fOYfXq1diyZQs2bNiA8+fPY8mSJbjvvvvg8/lQV1eHZ555Bvn5+bj33nsj1X5ddgVcBa4vWh1ElR5jyPKy03C69WuFd3VT64hp1yy3p861o7NLQmqKy1SnUCN9Q+w+h0REFFuGio+TJ09i9uzZqK+vh8fjwdChQ7FhwwaUl5fj4sWLOHjwIN5++22cPXsWPp8PEyZMwO9+9zvk5OREqv1C7C4YrHYQFaHW6VOmVXgECu2IaVfHzGXrDuFX22uxeFoJ2i91GWqLmb4hTh0VRERExhkKGYuGSCScxhu9QDMj3ps7OqhQqjzahFkrxRNntciX/fmTBuMXm/4i1Jbmix0MDCMiSkARCxmj6LDj0YhaR8ybi/P8c7pYJRcQq/d8CW+uW7dT6I2FvRkYRkRELD6cyOqjEa2OmBtrGoImkrNK7s8x6+arg7at1Ja9x87YnhJLRETxh8WHw3R2STh1Tnn0kJq87PSgP3s9GZg/aTDaL3UFxaLLo1IioSg/W3ckUKQDw5wQB09ERPpMx6uT/bRGtyiRg822/usE7D12Bo3n2lB3qhXv7f4yqA+G3JnTk5luSz8SJX1zMlA2oI9mp9BIBoY5JQ6eiIj08c6HQ6iFdOlZPK0E6T1SUDagD9w9UvDypiNoaAm+cyIHfW2qabCzyQDC+5bII4GmD78SZQP6BD32iVRgWKQCzoiIKDJYfDiAmeAvX0iwmUjQ15qqE1abGsRoyFckAsM46y0RUfzhYxcbdFzqwm8q63Ds9AUU5mVhdlkR0nuI13Wio1tmj74aIwrz4M0Nz7gQCfo63fo18rLTcaa1w3LCKWAu5MvuwDDOektEFH9YfFhUsb4GKz+tReAX6+fXH8LcW4qx8M4SoXWIdrAcWZSH6cOvtLSOe4b3w6oddXABQQWI/GeXC9BKfsnLTsOiu4YoFkCi7AwME93vhuaLqDzaxIAyIiIHYPFhQcX6GvxyW23Y77sk+H8vUoCIdrA8da4dH1adULx4iq6jvMSLm4vzwu48eLLScPbC15qFhwvAC/deb0sHTrtSYkX3e9m6Q0ET5rEzKhFR7LD4MKnjUhdWfhpeeARa+WktfnDHt3QfwcgdMRua21Qfh6S4ui+gstCLp9465JExctESeOchP9uNH/zXnwGo53+kuIBXZzkvfVTk2AEIm6lX7owa60RVI3PcEBElCnY4Nek3lXXQ68PYJXUvp0erI2bgugKFjuQw2pkzcFRKSooLDS3ajy+6JKB3SJ6IE4gcOyVO6Iy6oboe45ZvxqyVu/Dk6irMWrkL45Zv5ugcIkp4LD5MOnb6gq3LyR0xQ0O61L4EK1081dbhDRkZE8pq+JdWuFc0gr/U9jsvWztGPpaJqhweTETJjI9dTCrMy7J1OSC8I+apc+1Bj1pCKY3kKC/xIicjDZVHmwBIKLsmH6ND8jZCWQn/0gr3AhC14C+lTqwNLW146ndVuu+1a6ZfUXrDg13oPm7lJV4+giGihMTiw6TZZUV4fv0hzUcvKa7u5YwI7Ij5oWAuh9ZU9e/vO6F7sTfSXwS43E9hY00D/nNHXdjyDc1t+N47+xS3Fcm+FqGdWLsLMH1mElWt4PBgIkp2fOxiUnqPFMy9pVhzmbm3FBvK+whl5I6EyG18tUcgRvqLBPZTUCo8AGh2/IxmX4tIJapaFek5boiInI53PiyQh9GG5nykuLoLjx9Nvs5StsSNhb2Rl52G063qo1DkqerHv/SJ5m38hR8cxJK1nwVFrwc+AhEJ/5ILHKslQ7S+2ctF1WPv7FPMNQHgL7qimQESyTluiIjigUuStJIdoq+lpQUejwfNzc3Izc2NdXOEKCWcbv78pKH+DqFDLs+0dmDZOv1J5nplpeGRMUX4xaYjhtstX15DY9qVhn52dkkYt3yzrRPTvTJzuGpomp2c0i9FJh9Lvcdc2xdMZJ8PIoobRq7fLD4iQO0OgdLFXl7eyGy2dhK90FUebcKslbts3fZ7c0dHrU+DUlG1sabB0Hmyk/wZAZTvyMQ6f4SIyCgj12/2+bCZ0YnOzM5maxfR4aZ29j+IRV+L0Nl2AcR0Qjqzw6KJiBIB+3zYzMhIBjnm3Am3nvSKC7v6H5idvdZOnV0S3txRG/MRJ3bOcUNEFE9YfNjMyEgG0dlso0GvuBCNMQ/VKzMNZy9e7jBrdvZauxh9xBXpESd2zXFDRBRPWHzYzMhIhmgMpfR5MnDx6040X/haKMNDjdbIES2vPTgCKS5XRL/Zi86PYma0DkecEBHZj8WHzYwEdkU61jsvOw1b/3UCNn9+Une4qUhBoDYcV4m8n6Ov0U5XtUprJEvg3RWtvjhKRIsyIiIyjh1ObWYksEsvBMuq061fY++xM7Z2bpxc6sP2BRPx3tzR+M7YIgBiE9lFgpH5UYw84nJCvxQiokSW1Hc+rExnrvVekcAuwPyjDCPkRzt2dm6U+ymUDejj7zSrtZ+RIDKq6N/eP4icjDSMvqaPoUdcge3nlPdERPZL2pwP0dv1Vt5rpC9CpHI+7MjS0NuPWFygjeSO+DwZmHnT1fjFpr/oLrto6nWYM7bYHyUf7QAyIqJ4xZAxHUZDwOx6r5bOLgmvbj5iKqlUiV0pmU69AH9YdQJPrq4SWlbee09Wmm7HW/l4Reo8ExElKoaMaTAaAmbXe0Ws3nPc1PtC2dVnwUifimgzMgpFPhvyoy29PiqRPs9OojbZIBFRJCVdnw8r05lHcip0OzM/emen4bnppabvwOyuPY2G5otYtu6Q5mR1Sz+qQXmJNyZ9IIzmjkgAzlz4Gk9NGoTVe45r9lFJlinvnXpXi4gSX9IVH1amM4/kVOhWMz96ulNxvr0TQPcol2XrDiElxWXoImKk70msL8BmO+sW5Wdj+4KJmn1UkmHKe7XHSvJdLT5WIqJISrrHLlamM4/kVOhWw6zkwkNm9NGI2TlmYnkBVhtCrKVvTkbYPC+hd24Sfcr7ZHqsRETOlHTFh162htakZ1bea7VdRhm5iBgN4AoU6wuwnDvy238ehV6ZaarLGTk3kTzPTmDksRIRUSQkXfFhJATMzvdaaZdZohcRM/1NnHQBTk1xYeygfLx43/Vwwfq5ieR5doJkeKxERM6WdMUHYG0680hOhW70MYLWN/1ADS3KF5GOS1349adf4D+2/FW4jYD1C3CkRljYneSaqFPem32sxJExRGQXQzkfK1aswIoVK1BXVwcAGDJkCH7yk59gypQpAABJkrB06VK88cYbOHPmDEaNGoXXXnsNQ4YMEW5QtELGgMglnNrZrvxsN/bUncabO+uCZofNy07HP40uxMv/o58Lku1Oxc++PSzoglmxvgYrP62FmeuHlRER6w98hR9/WI3TrZf3xe4RFnaem0RMOO3skjBu+Wbd+YcCM2I4MoaI9EQsZOyjjz5CamoqBg4cCAB466238NJLL2H//v0YMmQIli9fjueffx5vvvkmBg8ejOeeew7btm3D4cOHkZOTY3vj44HVi5de2JVWcFao17/5xl6xvga/3FYr3Aage5K6RXcNgTfX/AVYa7suOCu4KxGLjkDy5wpQnmww8FwwcI2IREQ14TQvLw8vvfQSvvOd76Bfv36YP38+FixYAABob29HQUEBli9fjkcffdT2xjud1W+L8jdUtf4YLgC9stJw5sLXiq+H8ua68ckPJ2DI4g3CdzzsusCsP1CP77+7T3MZnw2JrHZIlm/5Ivsp8hm0I0mXiOJfVBJOOzs7sXr1arS2tqKsrAy1tbVoaGjAHXfc4V/G7XZj/Pjx2Llzp+p62tvb0dLSEvQT7zq7JLyy6Qi+ZzEdVGRUwpkLX+MfR1wl1K6Glna8sL7G0KMWO/o4dHZJ+PGH1brLOWGEhZNTXe0WOEPxKzOH4725o7F9wcSgc82RMUQUCYZDxg4ePIiysjK0tbWhZ8+eWLNmDUpKSvwFRkFBQdDyBQUFOHbsmOr6KioqsHTpUqPNcKwN1fVYsvYzNLS0K75uJB1UdLRBljtVuH3/79gZoeVuGZSP79820JbHDbtrT+N0a4fQsrEcYaGXfxHrVNdIkDNP1HBkDBFFguE7H9deey2qqqqwa9cuPPbYY3j44YdRU1Pjf93lCv5HWZKksN8FWrhwIZqbm/0/x4/bM79JLMjfmtUKD5not0XRUQmFeVmiTcSh+nNCy902+ArFAC4zjFyYYpkbwm/54RI9cI2IYsNw8ZGeno6BAwdi5MiRqKiowLBhw/DKK6/A6/UCABoaGoKWb2xsDLsbEsjtdiM3NzfoJx6ZCerSuyiLhl3NLiuCN1f/H3/ROiLFBcwuKxJbWIDohSkvOy2muSH8lh8u0QPXiCg2LOd8SJKE9vZ2FBcXw+v1YuPGjf7XOjo6sHXrVowZM8bqZhzPTFCX3kVZNOwqvUcKltxdors90b4ec28pRnoP+yJg5AuYnueml8b0cQa/5YdL9MA1IooNQ1eYZ555Bp9++inq6upw8OBBPPvss9iyZQsefPBBuFwuzJ8/Hy+88ALWrFmD6upqzJkzB1lZWXjggQci1X7HMPptWOnbYselLqzcdhTfffv/4anV+/HpX/6O8hKvZthVeYkXlUeb0H6pC09NGgRPZng3nl5ZafjnsUVC7bqhfy/8aPJ1AOwLlZIvYFqXp0dvLcadQ/sZWq/doVf8lq8skQPXiCg2DHU4PXnyJGbPno36+np4PB4MHToUGzZsQHl5OQDgRz/6ES5evIjvf//7/pCxjz/+WDjjI54Z/TZ88etObKxp8P/DXbG+Bm9sqw16bLOm6itkp6fiZ/9rmOJMrBtrGsKGQXpzM/DImGJc6pIASCi7Jh+jB/TB7trT+PWOOt127T9+FuOWb8bdw3xY++d624abyhew0KGdfbLTsWx6Ke4camydkRgOqzVTbrJ/y59c6kN5iTehs0+IKHos53zYLV5zPvRSI0MF5mfs//KMbujX6yHfMI0GPxltn16bzV7g7QjvMrLvZraXLDkfRER2imrImN3itfgA1FMj1bgA9M1JR+O5Dt3lAwO4zAY/GW2fkXVHi5F931jTYLqISPSEUyIiu0UlZIzCGZ0YTgJwUqDwAIKHeJodEmq0fUbWHS2i+/7q5iOWwsLk/Ivpw6+0bcgxERF1Y/Fhs8DUyH8qK7R13XKnVitDQuX2zZswwJa2RJvodlftqFMNCwO6w8LkDqqcrZWIKLoMJ5ySvsDUyLcr1dNdjZI7tVodEpqa4sLYgVfg1U+OWm5LtIluN3AG4FCBd2+aL3awfwcRUZTxzkcEiQzdLMhJ1xyCKgsc4mnHkFC9daiJ9XBTkX3vlZUmtK5NNQ1JM48LEZGTsPiIIJGApqXTS/HdW4t11xU4xNOO4CetdahxwnBTkX1/ZIz+8QSANVUnhB/NJDM+liIiu3G0SxSIDN1UyvkAgGx3Kn727WGKjwCMDgntuNSF31TW4djpCyjMy8IDowrxy61HsXL7F2ht7wxah1bOR2DeQ362G3ABp8632z4qRGvEida+l5d4dYcV52b0QEvbJd02vDd3tObEa4mOw46JSBSH2jqQyNDNjktdeGtnLfbUnUF2eipmjLgKYwbma17MRYeEVqyvwcpPa3Uj1nu6U/HT+4bizqH9FNetNHw1kF0XJpGLnl5xopQFYtQrM4dj+vArdZdLxKG5RrNkiCi5sfigIBXra3RDzEKFhpoBYhd0Oy5Mdl30zOx3qKcmDcaTkwZpLpOIdwfMZskQUfJizgf5dVzqwspPjV+Al6z9LOjZvuisvVb7S2htx8i6O7skrP2z9Q6jq/d8qbktuVBKtE6rZrNkiIhEsPhIcL+prBOezTZQQ0t70IXFyKy9Vi5MVi56gR0j39xRa3iWYSVa+2FXoeREVrJkiIj0MOcjwR07fcH0ewMvLGYuMpF8T+hySo8+7KLWJiOFUrx1WrWaJUNEpIXFR4IrzMsy/d7AC4uZi0wk3xO4nF2dS422KZHvDsh5KmojhuQ+H7HKeyGi+MbHLgludlkRzPQH9Oa6gy4sRkPJQt8vSmQ7edlpuLGwNwDxvihmaQWqJeLdAfnR1R8OfIWZN10NwHyWDBGRGhYfCS69Rwrm3iIWuhVoyd1Dgi4sRkPJ2i51YWNNg+HtimzndOvXGP/SJ9hQXW+oL4oZi6aqX2DtSJp1kg3V9Ri3fDNmrdyFJ1dX4Reb/gJPVho8IYmxXk8Gh9kSkSUcahshTsl9kNvxq0+PYvPhv0PvbPfKSsML95Sid7ZbONxLidUht3rb8aeZji3Cf+6oM7x+Ue/NHY2bi/NUz+X6A1/h++/uV22fmf2PxWdHa3izBOCpSYNQlJ+dMBkmRGQ/5nzEmFNyH0QLhRH9PRgzMB9l1+Sj+eLXWLZOLNyrofkilq07hNOtHYrrtZoF0XGpC6Mr/kdz/XnZ6WhSeT3QoqnXIS87HTv+2oSNh06iWWPiuUBTSguw/8tmNLSEHw8AqsfX7PmOxWeHmR5EZAfmfMSQU3If1NqhZN/xZnzd2YVz7V/j8Xf12y7P2uv1ZKoWBoD1LIi9x87orr+ptQN52Wm6jz7mjC1GZnoq3t/3N+HCAwD+WH0yqPAAuo/H997Zh+9pHN9FU80VHrH47DDTg4iijcWHjZyS+2CmE+Yb22qxZK2xtkd6tIfo++79Jv5cq2MkANs6puqtwwVg2Tpj5zmWn51EHrVjFSfVI4oMDrW1kVNyH8x0wpSAsG/4oa+Htj3Soz1E3zepxIubivPCHlfkZadj2fRSTC71ofJoU0Q7pgYyc55j+dlJxFE7dnDK41OiRMTiw0ZO+QYZyfUHrjvSWRBG1p+a4kJXl4Qff1iN063dj1WaWjuwbF0NUlKA9ktdptpgReh50OpIGsvPDjM9wql1wJUfgXG0D5E1fOxiI6d8g4zk+gPXrTUs1o4sCCPr31Bdj8ff3e8vPGTyxaL27+dNtcGK0CC0wGGss1buwrjlm/39OGL52Yn0eYw3Tnl8SpTIWHzYyCm5D0YDwYBvvt3mGm/75FIfVjw0Al5P8EXRriwIkfWLXCzeqqyz1A4jQo+VSEfSWH92In0e4wk74BJFHh+72Ej+BvnYO/v8+QiyaH6D1GqHmu/eWowbru5tqu2TS30oL/FGLJtCb/0iF4szFy7Z0hYAQcdH71jpFUYudH+LLi/xxvyzE+nzGC+c8viUKJGx+LCZ/A1yydqaoA6cXgMd1Tq7JOz6ogk7/noKX529iCt7ZWLMwHyMvqaP8IVAbodezkeKC5h7SzEW3tl92/21B0Z802/i8hBXrycDM2+6Ghc7OrFy21E0ne9A9YlmZKan4ubiPnh4TJGhC5ReiJba62odLe2+COgVbF6NnI/Q82zkW7TaOTPy2bFK6zgnC6c8PiVKZCw+Iib48iWa5bahuh7/9sFBnL0Q3HfhtS1H0SsrDS/OuF74IqT0TXZ4/15490/HcOz0BRTmZWF2WRHSe6T4t71sXU1Q4ZHtTsWFjkv4xaa/KG5j46FGvLD+EDLTU3Gho9P/e7VRAXojCMyMMBC9CGSnp6I1oI2B5E6Vi6Zeh2XrDgVf/HPdmHXz1YoJn3p3Cox+i+bdh9hjB1yiyGPCqc20YqoB7bjtDdX1+N47+3S38XoEnsHbPTOs0v7qHZvv3lqMN7bVGj52ckKn2sXCaFvtjDevPNqEWSt36S733tzRSX/HwUnkzyqg/Ags2frBEIlgwmmMWOkl39klYcnaGqHt2N3TPhIzw4bur8ixWflpeOGhtK5Qch8Xs+33ZKUFXUzkRw/Th1+JsgHij7qUxLojKZnDDrhEkcXHLjayEhS1u/a0ZshXILvDpiI1M2zoqAC9Y6N1D04vZGtyqQ9PTRqEX2w6YridmWmpKC/xCi1r9K6IUzohk3F8BEYUOSw+bGSll7zRTpN2drKMp9AzrXUV5WebWqdoMWc28VKtI2nBN31J2i91ofJoEy9sBkVj9l92wCWKDBYfNrLSS95oz3k7e9rHU+iZ1rqsbEevQLKaeBn6Lbru1AW8t/vLoDs1jO4Wx+hzovjGPh82svJ8/+biPHhzxS6edvcRMBNKJirFBdxY2Fvo2Gh9aRXpG2FlP7QKF7sSL+Vv0e4eKXh5018UZ8uN5szH8copM0cTkXksPmxkJaY6NcWFJXeXCG0ndB1GZt5UWlar3VZ1ScDeY2eQmuLCoqnKnULlbc69pRguhTboHTt5n/5w4CvMvOlqQ+2Ti5rqE2fxkw+r8etPv0BHwDwwnV0S3txRa1vipV4hIwF4Zs1BrNnPWVSVMPqcKDEYGmpbUVGBDz74AJ9//jkyMzMxZswYLF++HNdee61/mTlz5uCtt94Ket+oUaOwa5f+cEMg/ofaAtZuCavlfABA76w0VITkfBjZlpmMDTu8MnM43D1SVNdtJedDaXnRVFd5udDl5eC1G67ubeh4vDJzOKYPv1JzGdGhtzI+SgjGoctEzmXk+m2o+Jg8eTJmzpyJm266CZcuXcKzzz6LgwcPoqamBtnZ3Z395syZg5MnT2LVqlX+96WnpyMvT+wxQSIUH4C1znCiCadGMkVEl5XbvfLTo9j8+d8123lNfja+ONWquz9PTRqElzcdUS0I/uOBG3Dn0H7+P4seO6PZJL2y0oKKumx3KlrblUPHzBC54H1YdQJPrq4SXidzJYKJHj+RQpCI7GXk+m2ow+mGDRuC/rxq1Sr07dsXe/fuxa233ur/vdvthtcrNnQxUVnpJZ+a4sLYgfkYOzBfdRkjc4bgm/8XWTY1xYUbC3vjwV9pFx4AcL6tA97cDJxs0U6CfG/3l6oFggvAsnWH8A+lPn+BIXLsjGaTuABk9EjBb/9lFE6db0deVjr+6T93C75bf92iiZdGO8UqnZ9kxuhzosRgqc9Hc3MzAITd1diyZQv69u2LwYMHY+7cuWhsbFRdR3t7O1paWoJ+SJ+RTBGjs3T+prIOIo/MG89/jVk3d/exUOunMfOmq9HQ0i68bVFGs0kkAA0t7UhxuTB9+JX4y8lztoSqGc3qMNMplrOoXsbQNqLEYLr4kCQJTz/9NMaNG4fS0lL/76dMmYLf/va32Lx5M372s59hz549mDhxItrblS9AFRUV8Hg8/p/+/fubbVJSMZIpIrrsjr/+HZ1dEo6dviDcjqL8LM0kyKL8LOF2GmE2O0R+n5F91GI08dJK517OomqtUzcROYfpnI958+bhwIED2L59e9Dv77//fv//l5aWYuTIkSgsLMS6deswY8aMsPUsXLgQTz/9tP/PLS0tLEAEROL286ufHMX7+05grIHHRX1zMlA2oI9qEmTl0Sbb22lm+dD3FeaJFUVa/nHElVj+j8MMX+hEZxwOxUcJ3Zww+y8RWWOq+HjiiSewdu1abNu2DVdddZXmsj6fD4WFhThyRDn22u12w+12m2lGUjM686bWsoEamtvw/r4TQiNGCnLS/etX66cRqRlC9dart53ZZUV4fv0hocdLav7vvhOYVFJg6mIXGDrW0HwRy9YdwpnWDt1jFI1Uz3jA6HOi+GbosYskSZg3bx4++OADbN68GcXFxbrvaWpqwvHjx+Hz8duInYzcfjZyq1+++GW5U3XbsHR6qe4/9pG6TW5kn5S2k94jBXNv0f/86q3XSqaEXLDdO+IqPDe9VDMDZfG0EmysacC45Zsxa+UuPLm6CrNW7sK45ZuTNlTLzgkAiSi6DBUfjz/+ON555x28++67yMnJQUNDAxoaGnDx4kUAwPnz5/HDH/4QlZWVqKurw5YtWzBt2jTk5+fj3nvvjcgOJDPRmTc7uyR4MtPxnbFF6J2dprteCUBreyemDfXCpfDveVZ6Kl5/aATKS7xC4WZyOwty1dupF5Sm9Prl9QbfOQu9Bqn1y1h4Z0l3sFnI8iku4K6hPkwpLVA/SDAeLqa2fxuq67FsnfKMxnLbASimetYz1ZOI4pChxy4rVqwAANx2221Bv1+1ahXmzJmD1NRUHDx4EG+//TbOnj0Ln8+HCRMm4He/+x1ycnJsazRdpnf7WSmESzTfYlKJFz/7XzfgrZ112FN3GlnpqbjvhqswZlC+/1u4sSC14IKiq6sLhxvOYU/taaypOoHTrZczOESDx7oFVw9X9HTjgVFXoyg/Wzcn5A8H6oNm081IS4G7Rwr+cED8Yi4yL4xW+7WyShZNvQ7lJV6MW75ZdRkJwMIPDsbtUFw+SiJKPoZCxqIhUULGnMBoCFcotdAsI+FmZtshr+u7txbjjW21itvSyg5Rakcgq8cmkFa4mN6x8oQEn4Uu4/Vk4H//4zA8+Os/6bbjqUmD8OSkweINdwBOEEeUOIxcvzm3S4IyGsIVSp4Qzsh6lebWMNsOeZ6TlZ+GFx6B21J7b2g7Alk9NjK9TInOLgn/9sFBzXlc1AoPeZn65jZUfnFKqD2rdtTF1ZwmnCCOKHmx+EhQRkO4QskTwhldb2g/CDvaYYZWfwyrbQLEOsu+uvmIZnFhfGvazl78Om6CyDhBHFFyY/GRoOwIpFJah5FwM7vaYYWVfdCiFy7W2SVh1Y46y9sBgLIBfdArU7+jMBD74y3KaBFLRImFxUeCsiOQSmkdRsPNYh2MZWUflPR0p+KpSYOxfcFEzT4Ju2tP4+xFa3c95Mc6o6/pg0fGig0LjvXxFmW0iCWixMLiI0GZmUNEptWXwejcGlbaIa8v2vugpbW9Ey9v+gs21jRoLmf1ohn6WGfexIHolaV+9yPe5jThBHFEyY3FR4ISCffSek2tL4PR0DArc5kAwMRvXaG5LdF2BLLSJrmj6LNrqtFxqUt1OasXzbzs9KDHOqkpLrw443rFZeNxThNOEEeU3Fh8JDCtELLXHxqB1wUDygLDsToudakGlqn1g1Brh4h/uWWA4ns9WWl4atJg/McD6vugFoKmFbrmyeyBjDT9vxZNrR0YXbFJdUSG1Ts+z9x5HTyZ6WGhaq8/NAK+kP3tnZ2G74wtgiczPW46aCb7BHF6oXpEiY45H0lAK8RJ6zWlDIYUV/AIlLzsdNwzvB/KS7y64VCB2/ri7634P5uPqI5mkTMuti+YiNQUFzq7JLy6+QhW7agL6kvh82Rg0dTr0DvbHbQPG2saFPMj7h7mw9o/1wf9Xt4HT2Y63tv9JRpaxB+ZuKCeJyIPJQX058kJlZedphq6Jh/HjTUN+H3VVzjd2qG4XDxIxpyPZNxnSg5Grt8sPkiRaAiXSKCXmvUH6vH9d/cJrdNIsJnRADGRSfS03htYJIVSutC4XIDRv3Wh+2k06M3JkinhNJHOG1EoFh9kSWeXFBadrkXvAqxF5FugXnsCtw/AUNvtopVyGnhxze/pxuO/3YuzFy8Z3oa8n1v/dQLGv/SJ0PFI1It4PDLyOeZ5o3hk5PptaG4XSg5GQ7gCMxnULsBqRKZGN5oJEe3CA9Ae3SLPvgoAlUebTBUewOX9/E1lnfDxMHo+KHKMfI553ijRsfigMGaHiZp9X+DF2cp6Y5kJITq6xY42Hjt9QWi5HX89lRSPMuJFPHyOiaKFxQeFMTtMNFKZDE7OhJBvlYsOCbWjjYV5WULLvfrJX/3/79QOjcnU38PJn2OiaGPxQWHkYaINzW1CHTGNXoDtbk/o9o203YjQjqlmhoTeXJwHb64bDS3tprbv9WRgdlkRfrW91tA+ypO1OalDY7KN+jD6OSZKZMz5oDBGQriikclgJBPCTICYXmCZC8CjtxbrZqKI2FjTgDaVcDLR4LT0HimG99Fpk7Ul44y2yZ5tQhSIo11IlUjOh9FvqvJt9oaWNpw+345eWek4e6EDednp8HoyNW+7K7WnT3Y6lk0vxZ1DfbrLquV8yPsAQPObuMgjAnmZr85eRNXx7lmBi/pkY3ZZETZ/flJzCHCvrDS8cE8pjjSeV8wzCT3OSvsoQmtkjhIrj0aU3gtoj0hK9FEfyXbHh5IHh9qSbUIvHjcW9sbeY2dMXYhELpZ6/wivP/AVfvxhtWoAl1bb5baaDV2zsn8pLiAjLRUXOjpV3987Kw3uHilBj2R6ZabhkbHFmDdxoGI7Att75OQ5vPrJUd12vjJzOKYPv9L0PoleKNXeO/Om/vjFpiO62zZaJMWTZOrrQsmDxQc5jpHgL7XUUCcHNBkNNhNlZN8qjzZh1spduusUvahbOd5a7xU9RkaKJCKKPSPXb/b5oIjr7JKw9KMa4YuOhPC+CVrriHV/BqP7Z4SRfbNzsjYrx1vkvSI46oMocbH4oIgzGloGBIeGiawjNGgsmnYdbYposJnovtnZodHK8TZzvgNxRluixMfigyLOjtAyswFNVmcP1Xv/hup6PK4wP00kiBwDrZmMjTyWshKIZeR8c9QHUXJizgdFnB2hZWYCmqyOKtB7f6T6eagRPQYikfV2bavuVHjaquh7n5o0GKv3fBl0fL0c9UGUFFh8UMQZDS0Dwm+7Gw1oUisMRMO29N7/2gM3YNm6Q4YLD5cL6NvTjZPnLo9o8XkycPHrTjRf+Nq28Cm9yHo9oufs5U1/wbXenkHHUvRczZs4EPMmDuSoD6IkxMcuFHGBfRFEuBB+211kHfJ7rHZOFXn/jz+sNtWv4bu3FGPnwtvx3tzReGXmcLw3dzS2L5iIF2dcD8A5jyHk4y1SXIUeS6OhcGUD+mD68CtRNqAPCw+iJMHigzRZ7TMhk/si+Dzat+R9IX0TArfvyUzHv9xSjNDrU4oL+O6txf73iHaWfHNHreJ+ibw/MGdERIoLmHtLMW67tgB/OPAVAOCuof38F1ytvhqvPTACnsx0xbbadX6UTC714alJgzSXUet4alffEyJKTHzsQqrsTmIM7Ivw8WcN+L/7/oZzbZenl8/LTseiqZfXLZrgKUnAG9tqccPVvTG51Cfc4XHZukOK+2XnrKLl1/XF6Gv6oCAnA8//8RBWflqruE1Aua/GmdZ2LFunfA4A7URWOxTlZwstp3TM7Oh7QkSJiSFjpCiSgV4i6wZgqDNnYCT3q5uPCCVoqm3bk5kuFNaVl52OM60dmv0ati+YiI01DaaOpZWgrn8eW4RJJV7LF3u7g8uIKHExZIwsiWSgl8i6l6z9DEvWGgvtkm//7/qiCe/t/tJwuwL368bC3kJhXc9NL/X/OfR1AEF3J4weS6tBXb/eUYdZK3dh3PLNliZpszO4jIhIxuKDwkQy0Etk3Q0t7WhoMffoo/Jok6np6uVt1ze3Ye+xM0IdJu8cqt+vweyxtBrUJbM6S6wdwWWB/VJ2/PUUdhw5FZE+KkQUP9jng8JYCZiKxHuMsX4xazzXhunDr8SKh0aE9akIzaHQ69dg9ljadZwkdBcJSz+qQXmJN6hIEJ3cTO48qncslOj125H7qEz8VgF+U1mHY6cvoDAvC7PLipDeg9+NiBIViw8KYybQy+51GyX3sSi7Jl9oZlctchtFO0wqZWrIF/YjJ88b2qban60IvLsit9NoZ2IznUdFQtgamtvwvXf2hfVjeX79Icy9pRgL7xQfok1E8YPFB4UxGuhl97oLct0AXDjZIhZKFnj7f/SAPoYDzQLXE7pfZsK6REfpqG0T6D5O3ly36UdISuS7KWYD2ORjIRdWfzjwlWoRIjrZnhTyX1mXBPxyW/fIICMFCKeqJ4oPLD4ojPyc/zGFb6RWQ69E1r3k7iEAoLiMktDb/1rrlxT+P3DbVsO8jESua21zY00D2i51qb5PbT+09M3J0O3IqvaIRiZ6x8SuPisrP63FD+74ltAjGLuHhhNR5HCoLanS+8fcyrdMpXX3yU7HsumluHOoes6Hz5OBRVOvQ+9st+Z21x/4Cj/+sDooDCzS+Rgdl7owuuJ/cLq1Q2h5tX1RG5or65WV5k9EFb3D0isrDa/NGgG4gAd/9Sfd5eWhs4HnuO7UBby86S9CQ4Y/rDqBJ1dX6W5HxKKp1+Gfb7lGcxkzQ8N5l4TIXkau34bufFRUVOCDDz7A559/jszMTIwZMwbLly/Htdde619GkiQsXboUb7zxBs6cOYNRo0bhtddew5AhQ8ztDcWM1nN+q98yJ5f60NUlBRUITa0dWLauBikp3a+bDanaUF2PZesOBRUeoQFmdodfbaiuxzNrDgoln86bMABjB16BM9/sb1Anzlw32i51ad7NyExL9d+ZmPitAqGC5+yFr/Hgr/+EXplpQvvTeK5NPOQN4XdM7Oyzcux0+OR1gczczeFdEqLYMtSdfOvWrXj88cexa9cubNy4EZcuXcIdd9yB1tZW/zI//elP8fOf/xyvvvoq9uzZA6/Xi/Lycpw7d872xlPkKc29IX/LDL0oGRnW2T0V/f6wi3XoOozO/aHWtjOtHXj8XfPrFdmmaOT6oIIcNF/sbk/YMWxpx9kL2uupb27DrqNNAIC9x84I32kBgLMXxdpYd6pV8TiqCR0yrJcPYkRhXpbm60aHM9vx+SUiawwVHxs2bMCcOXMwZMgQDBs2DKtWrcKXX36JvXv3Aui+6/Hyyy/j2WefxYwZM1BaWoq33noLFy5cwLvvvhuRHaDosiOALFIhZpEMRzOzTTX5Pd2G3xNKLqQiMXQ5xQW8+6djptont8fIxHR6bZldViS0TZG2xeIzQkThLA2kb25uBgDk5XX31K+trUVDQwPuuOMO/zJutxvjx4/Hzp07FdfR3t6OlpaWoB9yLjsCyCIVYhbJcDSz2wwkp4FCguXOmGcvfo3H3tmHulOt+gsb1CUBJ8+J300JFPi4pbzEi15Z2o959O6MzL2lWLezqZGh4bH4jBBRONPFhyRJePrppzFu3DiUlnbHTDc0NAAACgoKgpYtKCjwvxaqoqICHo/H/9O/f3+zTaIosCOALFIhZpEMR7NrXYunleBUq33DZ9/b/SW8ufY83rBCKWZ9d+1p3UdIEoC7hvoUZyp+9FaxnA8jEfCx+IwQUTjTxce8efNw4MABvPfee2GvuVzB/wxIkhT2O9nChQvR3Nzs/zl+/LjZJlEU2BFAFqkQs0iGo1ldV5/sdP+IC7u2L0fRz7r5agD6dxEiRW3IsOgFvLykAJ8vm4JFU6/DP5UVYtHU6/D5sinC+R5GIuDNfEYC4+EZCU9kD1M5H0888QTWrl2Lbdu24aqrrvL/3uv1Aui+A+LzXe4x3tjYGHY3ROZ2u+F2u800g2LAjgCySIWYRTIczew2ASAvOw2VC2/3Pz4QaacnKw2SBDQLdBAtys9SjD83Q952y8WvIXqNVYtZN3KhT01xoaSfB/k5bv+fRcjDZdsvdWH+pEF4b/eXQcFs3m+GM3sy0/Fh1Qnk93TDm+vGyZZ2oc8IR8UQRYah4kOSJDzxxBNYs2YNtmzZguLi4qDXi4uL4fV6sXHjRtxwww0AgI6ODmzduhXLly+3r9UUM3YEkEUqxCyS4WhWtvnCvdcH9VsQec+LM65HTkaaUCZH35wMlA3oEzR8uO5UK36x6YjhoDUJ0H1UAgBPTRqEovxszWHKIoWZN9eNM60dGLd8s+ELvFJh4M3NwFOTBqMoPwt9czIUhzP3ykrzD8HV+oyYTYIlIn2GQsa+//3v491338WHH34YlO3h8XiQmZkJAFi+fDkqKiqwatUqDBo0CC+88AK2bNmCw4cPIycnR3cbDBmLD8r/8Lsx6+arUZSfjfyebkACTrW2q16gIvWtMpLhaHZu87+rG77JObncubNXZhoeGVuEeRMHAQDGLd+seydn+4KJhtNIgfCAMjljRKv4SHEB/37/DeidnY6dX5zCV2cuol+vTIy+pg9SXK6w8y1fwAHlJNbs9FS0dnQq7hugHA4m75teqBgAzbC2nu5UnG+/vO3Q8xVaEIVuR+vYEyUjI9dvQ8WHWr+NVatWYc6cOQAuh4z98pe/DAoZkzul2tl4iq3Q9MvuW97as5dGK2VSbb2RvI1uZJvyKBC1C31gkaB08da7OOu1Sem1LkkSutOS7U5Fa3t4waDU/smlPmyorse/fXBQ6I5KILULvEhhIM8PpPZ5lPXOSsO9N1yJ8hJv0LGpPNqEWSt36bZRToIloggWH9HA4iP+iMxnInqxjCQzEdyR2qae0G/w0eh3YGckemD7y0u8GPviZt1CQE3oBV60MBDlQvi5Fz0Wr8wcjunDr7StLUTxLGLx6kShjMxeqjdpWSRZnVDN7m3qCWzT9gUTbY+DV5Lf076O34Htz8lIM114AOGjZiIxDDb03Mdi5BRRMrEUMkZkJGQrlgFOTg8g02uTnXHwmhu0eXX1zW2o/CYK3qzQC7zdF3ylc28kO4SIjGPxQZaY+RYaiwCneAggi/R69NgZfhbMXFWjdoG/uTgP3lz1AsSF7s6zRsPXAo+zkewQOzFThJIFH7uQJWa+hcbiVrWTA8iitZ5Ybafsmny8v++E5pDbUFoX+I01DWi7pNzhVV5yyd3ds2jLnXVFhEbVTy71KeanqOWaWMVMEUomLD7IEpEsB1kkQr5EOTWATEu0j5fV9oaS2z96QB/NXBMJ3aN/AkfDqF3g9Trw9spKQ8WM6/3ve+2BEZj33j6hwLRfbDqCa705QducXOoz3N/GzAguZopQsmHxQZZoBWYFiuStahFOCyDTE4vjFdheq0Lbr3UXYeZNV+PqvEycbu1AXs/uxyVKF2yRDrzuHikoL/H6/9w7O104qVWt07Hc30aEmbsXsegMTRRrHGqbRCKVqQEo/6MbyCm3j+26tS0fy4bmi7oXTTM5Hz3dqfiHIV6MG5jf/TjEBZw6fznAC4Dhc+lvc0sbTp9vR152OryezLD3VqyvwcpPa4Mu2imu7hlmb7i6t1Bmh0iuS92p1rA49LzsdNwzvB9u/1ZB2D7vrj0tNMT2t/8yCikuFxrPteHIyfN49ZO/6r4nkJHsjtCsm5c3/cXwUG5milCiYM4HhYnG8+TAf4hFEk5jxWoRplVoGQlTAy4XEF/8/Tx+9ekXaO3o0t2+UuGidy5F2yyShVJe4sWuo034za46bPlLI9q+vrx0d0JrMeZNHKh5TI3mn/g8GSjx5eB/Pv+77rK9MtNwVmBOHDWi2R16BXcgrURUZopQomDxQUFiEa6VqEQD1Ywc0w3V9fiexUcdWudStM2vPXADlq07JBQpvrGmwfRnSi+hNNZE7jCYDY9TWjfvfFCiMHL95lDbBKf3PBnofp7MIX36jISGiR7Tzi4JS9Z+ZrltaufSSAjcjz+sFspC2fVFk6XPlNX8k0gRze6wEh6nNGyamSKUjFh8JLhYhGslKtGLppFj2t0Hw558DaXtGrnQn24Ve1RRebTJ0mcqFjkvetQ6+CrlblgpnpSGM8cqU4QoljjaJcHFIlwrURk9RiLLR+K4B64zMudV7Du/2radGEmuNLRXrZ/UlFKv0io0yY+sbizsjcqjTWH9jezMFLGrY3kkO6gTsfhIcJyjwj5Gj5HI8pE47oHrNLp+lwtQ6wUmX0DLrsnHq58cNdSOQHbniVi1aOp1mDO2OOjCqpW78Z876gytX17r3cN8GP/SJ6qdvs1kioSyq2M5A88o0vjYJcHxebJ95GOpx8gx7Y4Kt2dCN6Xt6p3/UHrdzxdPK8HoAX0sfaa0HjNEk9zO0MJDJHfDyA0ArycD3721GG9sqw17XCOHiG2orgdwOVPEzBw+csGkt41orYdIC4uPBMfnyfaRj6XIkRI9pqkpLn8UuBVq5zLw/FuR4upOC51c6rPlMyU/ZvAKFHORoNVOkX5Scl9atf1/atIgvDJzON6bOxpb/3UC1v65PqKdvu3qWM4O6hQtLD6SgNo/9F5PBofZGiQfS7U7ID4Tx3RyqQ+vPzTCn9+hp3dWWtiyWudSr829s/SfvnZJ3WmhoetU+ky99sAIeDLTdSdHm1zqw/YFE7Fo6nW62zciLzv42Ogdr9BOpQ0tYv1k/nlskeL+v/7QCDw5aTDuGtoPAPDv/3NEeBSRWXZ1LGcHdYoW9vlIEnY8T6ZugcdSJOHUyDp3HW1C5Renuuc7yUxHfs90WxJO5fW/uvmv+M8dtWgOCOHqksTaG9qBVOkzdaa1HcvWifcVSE1xYc7YYvxqe61tfUAW3TUE3twM1UC3wOOl1LchtHhRM6nEi2emlgivV8/jv92HF++73tSXgU01DULL6XVAjkQHdXZcJSUsPpKIkTkqSFskjmVqigtjB+Vj7KB8oeWNbn9jTYNi/HezYBqo2jBRuR0bquvx+Lv7DU+OJj/GsRq0JvPmZigem9DfqXUq1RtyHDjhn9LnwGwA2dmLX5uaRG5DdT1+LdgJVq8Dst0d1NlxldTwsQtRErASjCXSgdZqX4HyEq/wYycr7ZSJHg+jfVqsHGeZkT4V8vb0iB4bOzuos+MqaWHxQZQEzAZjiXYgtdpXYHftad3J6gDgrqE+uGC987To8Qjs5wLo95Pa9YV2AJse+Ti9uaNWt88MYCz4TuTY2NVBXa8YlQA8u6YaHZf05zKixMTHLkRJQPQZfeikbKIhV1b7Coi+v7ykAHcN9VkO4xLd3qKp18HryRTqr7Chuh7/9v5BofXqWbbukP//tR5TiO7Hd8YWCR8bOwLPRIqiptYOjK7YhBfuNdfPheIbiw+iJCD6jP61B0f4p6M30jnQal8BI+8vG9DHcudp0e15PZlCfWvM9vMQodVnRnQ/ykuMpbJa7aAuWhSdbjXXz4XiH4sPoiSglyoqd6IcfY2xYCuj6w/tKyCPhGhoaUNedppqZ8/Q91vt8Gu2vUqM9PNwoTtF1khMhhxstvSjGpSXeIPOj537EcrKMTaarKu0b5TY2OeDKAlEOmzOzPo3VNdj3PLNmLVyF576XZVm4WG1fXa0V43R/jRzbylW7LeiRa3PjFNDBI0k6zI7JDmx+CBKEnaHzYWGc5WXeIXXrzYSQomdYXiBbfZkpuO1B24wfTzkdf1RcNRGr6w0rHhoBBbeWYLXHrgBvQXzRAIpPc4wel6VZupV+n3HpS7F5fTWI5t509WGHkPpParR255ZkVovaeNjF6IkYlfYnFZ+w/YFEzXXb+QxxV1DfXhl5g22fHNXa/OiqSXonZ1u6HiYCRF7bdYIjB2Ujw3V9Vi27lDQnZ6cjB4413ZJdx1qjzNEz6vaMbh7mA9r/1wf9PuUkMdDgR1ftc4/AMPHRmvftNptNS+EOSSx45IkvamkoqulpQUejwfNzc3Izc2NdXOIKIRa50r5Mqd316DyaBNmrdwlvL1Hby3GwjutzU9jtc0i61Ij97vYvmAiNtY0mOqYGrgOs4WY1U6x8lblSfKUjqXZHBmtfbPz3EVjvcnMyPWbj12ISJgdE48ZieYGgJWf1lrKg7BzsjSjIWKB/S7k7dgdbCbCjvAz+b0rPw0vPAJfN8JKaJuVie44gV7ssfggImF2TDxmdCRElwT8prLO0HsC2TlZmtHOpYH9LswGm+Vlp/tnFFaj12/BbMhcqMAZfe2g178mUhPdcQK92GOfDyISZsfEY3rDQ5UcO31BcEljbTG6nOi6/qmsEFNKfUH9LkTf293/4it/n5Cm1g4sW1eDlBQoXqRF+i0YvdsUSfMmDMSggp5C/WsiMdFdJNdL4njng4iE2THxWODwUFGFeVmGlhdti9HlRNc1pdSHsgHBmSmi731z57GwYcdq86GIzp9i9G5TJI0dmI/pw68MOz5K7J7oLtLrJXEsPohImF0Tj/mHh+bq/+Oe4gJmlxUZbqvMzsnSrKxLJPtC7Vqs1A/BSL+FGwt7q67bCJdGG0WIHmeZnecuGuslcSw+iEiYnaFWk0t92PFvEzFtqHb099xbipHew/w/VXa22cq6RN6r1Z8itB+CkX4Le4+dsdxXQ26jmZA02cybrjbUaTZSIWpODWdLJiw+iJKYmYAlkVArvfXKr//hwFd4YFQR5t5SpHgRMDLMVmubokFcSusI/d3EbxVg/qTByM1M01yX0vrKS7x47YERirPl/vPYIqH9lPshiPZH2PHXU2hoMT+jsUzev4V3ligeSxFF+eqPz9TOn93heLJIrZfEGO5wum3bNrz00kvYu3cv6uvrsWbNGtxzzz3+1+fMmYO33nor6D2jRo3Crl3i4/qJKPKsBCxphVrprVfp9V5ZafCEzKhbkJuBG67ubdu+6AVxqbULAM5euNyu0PAtWWhkkuj68rLTsGjqdeid7cavd9Tp7qvcD0G0P8Krn/wVeSbSVN/+zs3okZqieKzkY/nq5r9i1Y7aoPOmpe5Uq+Lv9c6fXeF4oSK1XtJnOGTsj3/8I3bs2IERI0bgvvvuUyw+Tp48iVWrVvl/l56ejrw8sWdnDBkjirxYBTepBVQpEW2LHfti16y0rm+2B0B4fXI7X3vgBixbd0h3kjg5jKuzS8K45ZsNjRoSIRpoZvaYva4Stc+wr/gX0ZCxKVOm4LnnnsOMGTNUl3G73fB6vf4f0cKDiCIvlsFNagFVSkTaYse+2BHAFWjpRzVYsvYzw/u5bN0hLJoq3g9Bq9+CWaL9HcweM3l2XjOdZimxRKTPx5YtW9C3b18MHjwYc+fORWNjo+qy7e3taGlpCfohosiJZXCT0WuIXlvs2Be7ArgCt9fQ0m7qfb2z0w31Q1Drt2CWaL8ds8fMSqdZSiy2h4xNmTIF3/72t1FYWIja2losWrQIEydOxN69e+F2u8OWr6iowNKlS+1uBhGpiHVwkxlq67ZjX5wUJNV4rg3Th19pqB+C3G/hFxsP49VPjpre9rwJA/BU+bVC/XasHjOjnWaddI7IHrYXH/fff7///0tLSzFy5EgUFhZi3bp1io9qFi5ciKefftr/55aWFvTv39/uZhHRN2Id3GSG2rrt2BcnBUnJbUlNcaFsQB/h96WmuDB24BWWio+xA6/wFx5KfTDk4LIVD42wfMyMdpp10jkie0R8qK3P50NhYSGOHDmi+Lrb7UZubm7QDxFFTiyDm4wOItBrix37IhL+JUrenjfXbWh9doRamd2PwG2L9sG4sbC35W2JtJlhX4kr4sVHU1MTjh8/Dp+PvZWJnCCWwU1GAqpE2mLHvtjdcXPxtBIsuXuI8PrsCrUysx+h2xbtg7H32BnL29JrM8O+Epvh4uP8+fOoqqpCVVUVAKC2thZVVVX48ssvcf78efzwhz9EZWUl6urqsGXLFkybNg35+fm499577W47EanQC/mKVXCTWkBVr6w0fwaG0bbobbO8xKsbeObJTMd3xhahd0gehlK71K6DvoD2qrXJyn6qCTzXnsx0/PusG8JCzPpkp2PuLcXw5gb3u+udlYZHxhbBk5mOzi5JuG/FH6vr4cnsnm1XaR/vGuoL31Z2Gv7PzOHwZKYHnYvJpT7F4LXe2emYXOpF9Ylm7DhyyrYRL/LxWrPvb/j1p19gzX7xgD2yj+Gcjy1btmDChAlhv3/44YexYsUK3HPPPdi/fz/Onj0Ln8+HCRMmYNmyZcL9OJjzQWSNkfCwzi4pIgFLeutVeh2ApbYorXNjTYPhwLO87HTcM7wfyku8iu26sbA39h47g4bmizjd2oG8nm54c5XbG4n9DKTUfrUQNKWAs0A+TwZm3tQfv9ik/Ihc7T2Lpl6HI43nsWpHXVDYWK+sNFzqlHC+/ZJq23yejG9m8a3XHT3TKysNL8643lLmh9LxCmyLSMAeqTNy/TZcfEQaiw8i8xjYdJnZwLN4OVZ2BaPJXICp3I5oX0BCQ8pEiRwvOSTOyefdySIaMkZEzsTApsv0joUE9cCzeDhWdgejAeaKiFgcnSVrP7M1AC+Uk897ImHxQZQgGNh0mUgIlpEZZJ3GzmC0eNPQ0m57AJ7M6ec9kbD4IEoQDGy6zK59dOqxcmq7oiXSAXjJfnyjgcUHUYJgYNNldu2jU4+VU9sVLZEOwEv24xsNLD6IEgQDmy4TCdxKcalnVDj9WNkZjBZvvLlu0wF4epx+3hMJiw+iBMHApsv0joUL3YFnaq8Dzj5WkZzR1sg6zbzHqiV3DzEdgCfyLief90TCobZECcZIzgcQuawPJ9A7FnYfK63XRY6z2jJqv1dqv9rw14y0FKSnutDS1ql4rOT9BqCahRGqV1Ya5pQVAZDw5s5jQTkfvbPSICE4VyS0bT5PBu4a6sX7+07gdGvAci4g9MrkyeiB74wrRlF+tunPqUjOR+ikfv5cl5Y2nD7fjrzsdHg9mXH79ySSf9+Z80GU5ET/gTF68Y1HVgqGQFYKGSD8gh56nNXerxTCFfje9Qfq8eMPq3G6tcP/el52Ovp5MvDZVy1BF/sUF3Dn9T6UlxQgv6cbkIBTre2ahVJ+thtwAafOtyM/2409dU1hhUagXplpeGRsMeZNHAgAeHXzX7FqR21wANk3ywzq2xPL1oWHvN17Qz98sO8EzgQULkoBZWY+p51dEl7dfAT/ub0WzW2XA9C8uW5MH94v7FirhbbF49+TSP99Z/FBRLoYSCbOSmCZ2j+wgccZgKHAML3t6nn01mIsvLPE4LvEg7oA7f2yI5zM7OfUznC2eAoli8bfdxYfRKSps0vCuOWbVW+tu9A958j2BRPj8taynUSOlUvl27Ee+ThLkoSGlnbD71f7Vi7yvs+XTUF6D/Fuf3rHIZALQEGuG4ALDS2RG7Zq9HNqZB9E+eLg70m0/r4z4ZSINDGQTJzIsTIbiCkfZzOFByxst0sCflNZZ+g9RoLNJHSHgUWy8JC3Y+RzGolwtnj4e+LEv+8sPoiSEAPJxCXqMTh2+oKh5Z18HGL9eXbysQFif3yUsPggSkIMJBOXqMegMC/L0PJOPg6x/jw7+dgAsT8+Slh8ECUhBpKJEzlWZh+Ty8fZm+s2lZOhFZSm977ZZUWG3mMk2MyF7tEj3tzIBqEZ/ZxGIpwtHv6eOPHvO4sPoiTEQDJxIsdq7i3F/vAypde13rt4WgmW3D1EcRk1ekFpeubeUmyosykgHmwmv7bk7iFYcrf2cdNblxYzn1O7w9lcBrcfK078+87igyhJTS71YcVDI+ANiZ32ejLiZvhgtOgdq4V3lqi+/vpDI/C6znFWW7/Pk4FHby0OiwbX267Pk4Hykr5hd2RSXOaH2QLqx8Hofmkdl+7gMR96ZaYF/T70sliQ6zb1OTV6rNWuxz6Lf086uyRUHm3Ch1UnUHm0CZ3f9B6+2NGJRb8/iNm//hMW/f4gLnYoh8IZ5bS/7xxqS5TkEjnh1G5OSzjVe1/HpS78prIOx05fQGFeFmaXFRm+46F3HAJDyIzuV+hrdada8d7uL4NG//TKTMO4Qfn4f3VngkbPeHMzsORu8+FYosc6EgmnamFfV+Sk48DfWsKWLy/pi5X/dJOpbYViwqkKFh9ERMnHaPhXvIbhmQ05s7MAiRTmfBARUdzo7JKw9KMaQxdkedmlH9X4H1k4nZn9lG2sabTtEYwTsPggIqKYMhv+FW9heFZDzl5YX2Nja2KLxQcREcWU1XArp4d8yay2s67JWDCck7H4ICKimLIabuX0kC+Z1XYW9TEWDOdkLD6IiCimzIZ/xVsYntWQs2dMDpF2IhYfREQUU2bCv+IxDM9KyFl5SV9kpqfa36gYYfFBRElLLeiJIkPreJsNWjMyzNYJ51trP4depTw8tbykL15/aGTM224n5nwQUVJSC3paPM18cBWpEz3eZoPW7Np+tKjtz8WOTrywvgZ1TRdQ1CcLz9xZgq1/aXRU29UwZIyISINa0FO8Blc5XayPd6y3b0U8tZ0hY0REKrSCnuIxuMrpYn28Y719K+K57XpYfBBRUtELeoq34Cqni/XxjvX2rYjntuth8UFESUU06ClegqucLtbHO9bbtyKe266HxQcRJRXRoKd4Ca5yulgf71hv34p4brseFh9ElFT0gp7iLbjK6WJ9vGO9fSviue16WHwQUVLRCnqKx+Aqp4v18Y719q2I57brMVx8bNu2DdOmTUO/fv3gcrnw+9//Puh1SZKwZMkS9OvXD5mZmbjtttvw2Wef2dVeIiLL1IKezARXkb7JpT689sAI9M5OD/p9tI53eYkX8ycNhiczLSbbtyJRP6s9jL6htbUVw4YNwyOPPIL77rsv7PWf/vSn+PnPf44333wTgwcPxnPPPYfy8nIcPnwYOTk5tjSaiMiqyaU+lJd4LQVXkZgN1fVYtq4Gp1s7/L/Ly07DoqnXRfziqRQu1iszDY+MLcK8iYPi4nwn4mfVUsiYy+XCmjVrcM899wDovuvRr18/zJ8/HwsWLAAAtLe3o6CgAMuXL8ejjz6qu06GjBERJY5YhmTFU0BXIohZyFhtbS0aGhpwxx13+H/ndrsxfvx47Ny5085NERGRw8UyJCuRA7oSga3FR0NDAwCgoKAg6PcFBQX+10K1t7ejpaUl6IeIiOJfLEOyEjmgKxFEZLSLyxX8HEqSpLDfySoqKuDxePw//fv3j0STiIgoymIZkpXIAV2JwNbiw+v1AkDYXY7GxsawuyGyhQsXorm52f9z/PhxO5tEREQxEsuQrEQO6EoEthYfxcXF8Hq92Lhxo/93HR0d2Lp1K8aMGaP4Hrfbjdzc3KAfIiKKf7EMyUrkgK5EYLj4OH/+PKqqqlBVVQWgu5NpVVUVvvzyS7hcLsyfPx8vvPAC1qxZg+rqasyZMwdZWVl44IEH7G47ERE5WCxDsuzadmeXhMqjTfiw6gQqjzaxg6pNDA+13bJlCyZMmBD2+4cffhhvvvkmJEnC0qVL8ctf/hJnzpzBqFGj8Nprr6G0tFRo/RxqS0SUWJSyNnyeDCyeVhKTnA/Rbcey3fHIyPXbUs5HJLD4ICJKPJ1dUsxCssxsmxkhxhm5fhtOOCUiIjIqNcWFsgF94mLbehkhLnRnhJSXeOM6ZTSWOLEcERFRAGaERB6LDyIiogDMCIk8Fh9EREQBmBESeSw+iIiIAjAjJPJYfBAREQWIZT5JsmDxQUREFGJyqQ8rHhoBryf40YrXk8FhtjbgUFsiIiIFk0t9KC/xxiyfJJGx+CAiIlIRy3ySRMbHLkRERBRVLD6IiIgoqlh8EBERUVSx+CAiIqKoYvFBREREUcXig4iIiKKKxQcRERFFFYsPIiIiiioWH0RERBRVjks4lSQJANDS0hLjlhAREZEo+botX8e1OK74OHfuHACgf//+MW4JERERGXXu3Dl4PB7NZVySSIkSRV1dXfjqq6+Qk5MDl0t58p6Wlhb0798fx48fR25ubpRbGFvJvO8A95/7z/3n/nP/nbr/kiTh3Llz6NevH1JStHt1OO7OR0pKCq666iqhZXNzcx15AqIhmfcd4P5z/7n/3H/uvxPp3fGQscMpERERRRWLDyIiIoqquCw+3G43Fi9eDLfbHeumRF0y7zvA/ef+c/+5/9z/RNh/x3U4JSIiosQWl3c+iIiIKH6x+CAiIqKoYvFBREREUcXig4iIiKIqJsXHtm3bMG3aNPTr1w8ulwu///3vg16fM2cOXC5X0M/o0aODlmlvb8cTTzyB/Px8ZGdn4+6778bf/va3oGXOnDmD2bNnw+PxwOPxYPbs2Th79myE905fRUUFbrrpJuTk5KBv37645557cPjw4aBlJEnCkiVL0K9fP2RmZuK2227DZ599FrRMvB4Dkf1P5M/AihUrMHToUH9QUFlZGf74xz/6X0/kcw/o738in/tQFRUVcLlcmD9/vv93iX7+AyntfyKf/yVLloTtm9fr9b+eTOceUgysX79eevbZZ6X3339fAiCtWbMm6PWHH35Ymjx5slRfX+//aWpqClrme9/7nnTllVdKGzdulPbt2ydNmDBBGjZsmHTp0iX/MpMnT5ZKS0ulnTt3Sjt37pRKS0ulu+66Kxq7qOkf/uEfpFWrVknV1dVSVVWVNHXqVOnqq6+Wzp8/71/mxRdflHJycqT3339fOnjwoHT//fdLPp9Pamlp8S8Tr8dAZP8T+TOwdu1aad26ddLhw4elw4cPS88884yUlpYmVVdXS5KU2OdekvT3P5HPfaDdu3dLRUVF0tChQ6Unn3zS//tEP/8ytf1P5PO/ePFiaciQIUH71tjY6H89Wc69JElSTIqPoAaoFB/Tp09Xfc/Zs2eltLQ0afXq1f7fnThxQkpJSZE2bNggSZIk1dTUSACkXbt2+ZeprKyUAEiff/65rftgVWNjowRA2rp1qyRJktTV1SV5vV7pxRdf9C/T1tYmeTwe6fXXX5ckKbGOQej+S1LyfQZ69+4t/epXv0q6cy+T91+SkuPcnzt3Tho0aJC0ceNGafz48f6Lb7Kcf7X9l6TEPv+LFy+Whg0bpvhaspx7mWP7fGzZsgV9+/bF4MGDMXfuXDQ2Nvpf27t3L77++mvccccd/t/169cPpaWl2LlzJwCgsrISHo8Ho0aN8i8zevRoeDwe/zJO0dzcDADIy8sDANTW1qKhoSFo/9xuN8aPH+9veyIdg9D9lyXDZ6CzsxOrV69Ga2srysrKku7ch+6/LNHP/eOPP46pU6di0qRJQb9PlvOvtv+yRD7/R44cQb9+/VBcXIyZM2fiiy++AJA8517muInlAGDKlCn49re/jcLCQtTW1mLRokWYOHEi9u7dC7fbjYaGBqSnp6N3795B7ysoKEBDQwMAoKGhAX379g1bd9++ff3LOIEkSXj66acxbtw4lJaWAoC/fQUFBUHLFhQU4NixY/5lEuEYKO0/kPifgYMHD6KsrAxtbW3o2bMn1qxZg5KSEv8/Dol+7tX2H0j8c7969Wrs27cPe/bsCXstGf7ua+0/kNjnf9SoUXj77bcxePBgnDx5Es899xzGjBmDzz77LCnOfSBHFh/333+///9LS0sxcuRIFBYWYt26dZgxY4bq+yRJgsvl8v858P/Vlom1efPm4cCBA9i+fXvYa6HtFGl7vB0Dtf1P9M/Atddei6qqKpw9exbvv/8+Hn74YWzdutX/eqKfe7X9LykpSehzf/z4cTz55JP4+OOPkZGRobpcop5/kf1P5PM/ZcoU//9ff/31KCsrw4ABA/DWW2/5O9Um6rkP5djHLoF8Ph8KCwtx5MgRAIDX60VHRwfOnDkTtFxjY6O/avR6vTh58mTYuv7+97+HVZax8sQTT2Dt2rX45JNPcNVVV/l/L/d+Dq1SQ/cv3o+B2v4rSbTPQHp6OgYOHIiRI0eioqICw4YNwyuvvJI0515t/5Uk0rnfu3cvGhsbceONN6JHjx7o0aMHtm7din//939Hjx49/G1L1POvt/+dnZ1h70mk8x8qOzsb119/PY4cOZI0f/dlcVF8NDU14fjx4/D5fACAG2+8EWlpadi4caN/mfr6elRXV2PMmDEAgLKyMjQ3N2P37t3+Zf70pz+hubnZv0ysSJKEefPm4YMPPsDmzZtRXFwc9HpxcTG8Xm/Q/nV0dGDr1q3+tsfzMdDbfyWJ9hkIJUkS2tvbE/7cq5H3X0kinfvbb78dBw8eRFVVlf9n5MiRePDBB1FVVYVrrrkmoc+/3v6npqaGvSeRzn+o9vZ2HDp0CD6fL/n+7kerZ2ugc+fOSfv375f2798vAZB+/vOfS/v375eOHTsmnTt3TvrBD34g7dy5U6qtrZU++eQTqaysTLryyivDhhtdddVV0qZNm6R9+/ZJEydOVBxuNHToUKmyslKqrKyUrr/+ekcMN3rsscckj8cjbdmyJWjI1YULF/zLvPjii5LH45E++OAD6eDBg9KsWbMUh1zF4zHQ2/9E/wwsXLhQ2rZtm1RbWysdOHBAeuaZZ6SUlBTp448/liQpsc+9JGnvf6KfeyWhoz0S/fyHCtz/RD//P/jBD6QtW7ZIX3zxhbRr1y7prrvuknJycqS6ujpJkpLr3Mek+Pjkk08kAGE/Dz/8sHThwgXpjjvukK644gopLS1Nuvrqq6WHH35Y+vLLL4PWcfHiRWnevHlSXl6elJmZKd11111hyzQ1NUkPPviglJOTI+Xk5EgPPvigdObMmSjuqTKlfQcgrVq1yr9MV1eXtHjxYsnr9Uput1u69dZbpYMHDwatJ16Pgd7+J/pn4Dvf+Y5UWFgopaenS1dccYV0++23+wsPSUrscy9J2vuf6OdeSWjxkejnP1Tg/if6+ZdzO9LS0qR+/fpJM2bMkD777DP/68l07l2SJEnRvttCREREySsu+nwQERFR4mDxQURERFHF4oOIiIiiisUHERERRRWLDyIiIooqFh9EREQUVSw+iIiIKKpYfBAREVFUsfggIiKiqGLxQURERFHF4oOIiIiiisUHERERRdX/D/XoMZe8sZtsAAAAAElFTkSuQmCC",
=======
      "image/png": "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",
      "text/plain": [
       "<Figure size 640x480 with 1 Axes>"
      ]
     },
     "metadata": {},
     "output_type": "display_data"
    },
    {
     "data": {
      "image/png": "iVBORw0KGgoAAAANSUhEUgAAAjMAAAHFCAYAAAAHcXhbAAAAOnRFWHRTb2Z0d2FyZQBNYXRwbG90bGliIHZlcnNpb24zLjEwLjAsIGh0dHBzOi8vbWF0cGxvdGxpYi5vcmcvlHJYcgAAAAlwSFlzAAAPYQAAD2EBqD+naQAAh3ZJREFUeJzt3Xd4FNX6B/Dvpm16IEAKxSSXaog0QQhVSmgKKipSBCKaq4IF0SuiPwQsIPaCoiJFUUG9FEEwGqRDUASCYLiKmCBKAtKS0BKSzO+POMu22Z2Z3Z2d3Xw/z8Oj2Z1y5szsztkz73mPQRAEAUREREQ+KsDbBSAiIiJyBRszRERE5NPYmCEiIiKfxsYMERER+TQ2ZoiIiMinsTFDREREPo2NGSIiIvJpbMwQERGRT2NjhoiIiHwaGzO1xOLFi2EwGEz/goKCkJiYiBEjRuDQoUOqtrlp0yYYDAZs2rRJ8br5+fmYMWMGCgsLbd7LzMxEcnKyqjK5U2ZmJiIjI2UtazAYMGPGDLfte8aMGTAYDDh58qTbtrlu3Tq3llGPxOs7MzPT7vvPPPOMaRnzay8zM9Pi82E0GtGyZUtMnz4dly5dstnOtm3bMHLkSFx11VUwGo2IiIhA69at8eijj+J///ufh45Oneuvvx7XX3+97OUvX76MhIQEGAwG/Pe///VcwRRw5bvGHY4dO4YZM2YgLy/P5j3xs0rexcZMLbNo0SLk5uZi/fr1eOCBB7B69Wp0794dZ86c0bQc+fn5mDlzpt3GzLRp07By5UpNy+Oq3Nxc3HPPPd4uhkPr1q3DzJkzvV0Mj4uKisIXX3yBsrIyi9cFQcDixYsRHR1td72wsDDk5uYiNzcXq1atQufOnfHMM89g3LhxFsv93//9H3r06IEjR47g//7v/5CdnY1Vq1Zh/PjxyMnJwdVXX42qqiqPHZ+nffXVVzh+/DgAYMGCBV4ujT4cO3YMM2fOtNuYueeee5Cbm6t9ochCkLcLQNpKS0tDx44dAdT8YquqqsL06dOxatUq3HXXXV4uXY2mTZt6uwiKdenSxdtFoH/cdNNNWL58OZYtW4asrCzT6xs2bEBBQQGysrIwf/58m/UCAgIszuOgQYNQWFiIzz//HK+++ioaNWqEpUuX4vnnn8d9992Hd955x+IXeUZGBiZPnox33nnHswfoYQsWLEBISAh69eqFb7/9Fn/++ScaN27s7WK51cWLFxEaGuqWHpXGjRv7Xf34IvbM1HJiw0b8JSb68ccfMXToUMTGxiI0NBTt27fH559/7nR7P/74I0aMGIHk5GSEhYUhOTkZI0eOxJEjR0zLLF68GLfffjsAoHfv3qau/cWLFwOw/5jp0qVLmDp1KlJSUhASEoJGjRph4sSJOHv2rMVyycnJuPHGG5GdnY0OHTogLCwMrVq1wsKFCy2Wu3DhAh577DGkpKQgNDQUsbGx6NixI5YuXWpzTL/99hsGDx6MyMhINGnSBI8++ijKy8stlrF+zCQ+1svJycFdd92F2NhYREREYMiQIfj999+d1qPo6NGjGDZsGKKjoxETE4M777wTf//9t81yn332GdLT0xEREYHIyEgMGDAAe/fuNb2fmZmJt99+21RW80ctt99+O1q3bm2xvSFDhsBgMOCLL74wvbZnzx4YDAasWbPG9FpxcTHuvfdeNG7cGCEhIUhJScHMmTNRWVlpsb2Kigo899xzaNWqFYxGIxo0aIC77rrL5ljknj9HYmJicMstt9iss3DhQnTr1g0tWrSQvS2xcSNev8899xzq16+P1157ze6N0GAwYOLEiQgMDHS43d9++w133XUXmjdvjvDwcDRq1AhDhgzB/v37LZYTH68sXboUTz31FBo2bIjo6Gj069cPv/zyi8WygiDgxRdfRFJSEkJDQ9GhQwd8/fXXso8VqOmByM7OxpAhQ/Cf//wH1dXVps+ltU8//RTp6emIjIxEZGQk2rVrZ9OTk52djb59+yImJgbh4eG4+uqrMXv2bItl1H7XyF1X/Cx+++23GD9+PBo0aIDw8HCUl5fLOg+bNm1Cp06dAAB33XWX6bMjft7tPWaqrq7Giy++aLre4+LiMHbsWPz5558Wy11//fVIS0vDrl270KNHD4SHh+Nf//oXXnjhBVRXV8uqA6rBxkwtV1BQAAAWX/AbN25Et27dcPbsWbz77rv48ssv0a5dO9xxxx2SX2yiwsJCtGzZEq+//jq++eYbzJkzB0VFRejUqZMp/uOGG27ArFmzAABvv/22qWv/hhtusLtNQRBw88034+WXX8aYMWOwdu1aTJ48GR9++CH69Olj07DYt28fHn30UTzyyCP48ssv0aZNG9x9993YsmWLaZnJkydj3rx5eOihh5CdnY0lS5bg9ttvx6lTpyy2dfnyZQwdOhR9+/bFl19+ifHjx+O1117DnDlzZNXv3XffjYCAAHz66ad4/fXX8cMPP+D666+3aYRJueWWW9CsWTP897//xYwZM7Bq1SoMGDAAly9fNi0za9YsjBw5Eqmpqfj888+xZMkSlJWVoUePHsjPzwdQ8+jutttuAwBTfefm5iIxMRH9+vVDfn4+ioqKAACVlZXYvHkzwsLCkJOTY9rP+vXrERQUZIq/KC4uxnXXXYdvvvkGTz/9NL7++mvcfffdmD17tkWPSHV1NW666Sa88MILGDVqFNauXYsXXngBOTk5uP7663Hx4kWLY5Zz/uTU+86dO3Hw4EEAwNmzZ7FixQrcfffdsrcB1DQ6AKBBgwY4duwY8vPzkZGRgdDQUEXbsXbs2DHUq1cPL7zwArKzs/H2228jKCgInTt3tmmkAMCTTz6JI0eO4IMPPsD777+PQ4cOYciQIRaPs2bOnIkpU6YgIyMDq1atwv3334+srCy725OyePFiVFVVYfz48ejXrx+SkpKwcOFCCIJgsdzTTz+N0aNHo2HDhli8eDFWrlyJcePGWfxoWbBgAQYPHozq6mq8++67WLNmDR566CGLG7or3zVK1x0/fjyCg4OxZMkS/Pe//0VwcLCs89ChQwcsWrQIQM0jRvGz4+ix8v333286F6tXr8azzz6L7OxsdO3a1SYOrri4GKNHj8add96J1atXY9CgQZg6dSo+/vhjh8dPVgSqFRYtWiQAEHbu3ClcvnxZKCsrE7Kzs4WEhAShZ8+ewuXLl03LtmrVSmjfvr3Fa4IgCDfeeKOQmJgoVFVVCYIgCBs3bhQACBs3bpTcb2VlpXDu3DkhIiJCeOONN0yvf/HFF5Lrjhs3TkhKSjL9nZ2dLQAQXnzxRYvlPvvsMwGA8P7775teS0pKEkJDQ4UjR46YXrt48aIQGxsr3HvvvabX0tLShJtvvlmy3GI5AAiff/65xeuDBw8WWrZsafEaAGH69Ommv8X6vuWWWyyW2759uwBAeO655xzue/r06QIA4ZFHHrF4/ZNPPhEACB9//LEgCILwxx9/CEFBQcKDDz5osVxZWZmQkJAgDB8+3PTaxIkTBXsf+d9++00AIHz00UeCIAjCtm3bBADC448/LqSkpJiWy8jIELp27Wr6+9577xUiIyMt6loQBOHll18WAAg///yzIAiCsHTpUgGAsHz5covldu3aJQAQ3nnnHdNrcs+fFADCxIkTherqaiElJUV47LHHBEEQhLfffluIjIwUysrKhJdeekkAIBQUFJjWGzdunBARESFcvnxZuHz5svD3338Lb7zxhmAwGIROnToJgiAIO3fuFAAITzzxhM1+KysrTetevnxZqK6udlpW6/UrKiqE5s2bW5xz8TM2ePBgi+U///xzAYCQm5srCIIgnDlzRggNDZW83nr16uW0DNXV1UKzZs2ERo0aCZWVlYIgXLkOv/vuO9Nyv//+uxAYGCiMHj1acltlZWVCdHS00L17d4d14cp3jdx1xc/i2LFjndaB1HkQr9VFixbZrCPWkejgwYMCAGHChAkWy33//fcCAOHJJ580vdarVy8BgPD9999bLJuamioMGDDAaXnpCvbM1DJdunRBcHAwoqKiMHDgQNStWxdffvklgoJqwqd+++03/O9//8Po0aMB1PxKF/8NHjwYRUVFDn/pnTt3DlOmTEGzZs0QFBSEoKAgREZG4vz586ZfyUpt2LABAGxGqNx+++2IiIjAd999Z/F6u3btcNVVV5n+Dg0NRYsWLSx+NV533XX4+uuv8cQTT2DTpk02vQMig8GAIUOGWLzWpk0bi205ItajqGvXrkhKSsLGjRtVrT98+HAEBQWZ1v/mm29QWVmJsWPHWpyr0NBQ9OrVS9boj6ZNmyI5ORnr168HAOTk5OCaa67BnXfeiYKCAhw+fBjl5eXYtm0b+vXrZ1rvq6++Qu/evdGwYUOLfQ8aNAgAsHnzZtNyderUwZAhQyyWa9euHRISEmzKKOf8OSOOaFqyZAkqKyuxYMECDB8+3OHotPPnzyM4OBjBwcFo0KABJk2ahEGDBskKRq9Xr55p3eDgYCxfvtzh8pWVlZg1axZSU1MREhKCoKAghISE4NChQ3Y/J0OHDrX4u02bNgCuPP7Kzc3FpUuXJK83OTZv3ozffvsN48aNMz0mEx+rmD+yy8nJQVVVFSZOnCi5rR07dqC0tBQTJkyQjEtx5btGzbq33nqrzXaUngc5xM+m9ffVddddh6uvvtrm+yohIQHXXXedxWtKvmOoBgOAa5mPPvoIV199NcrKyvDZZ5/hvffew8iRI03P1sXYmcceewyPPfaY3W04Gi48atQofPfdd5g2bRo6deqE6OhoGAwGDB48WLLB4MypU6cQFBSEBg0aWLxuMBiQkJBg82ioXr16NtswGo0W+3/zzTfRuHFjfPbZZ5gzZw5CQ0MxYMAAvPTSS2jevLlpufDwcJtHCkaj0e5wXXsSEhLsvmZdZrnrBwUFoV69eqb1xfMlPtO3FhAg7/dK3759kZ2dDaDmcVJGRgauueYaxMfHY/369WjevDkuXrxo0Zg5fvw41qxZg+DgYLvbFK+T48eP4+zZswgJCXG4nEjO+ZPjrrvuwsyZMzFr1izs2bMHb731lsPlw8LCTI+yjEYjkpKSLEY+NWnSBADs3mQ2bdqEyspK7N69G/fdd5/Tsk2ePBlvv/02pkyZgl69eqFu3boICAjAPffcY/c4revEaDQCgGlZ8XqQut7kEONdbrnlFtNj0JiYGHTv3h3Lly/H3LlzUadOHVOck6OgVznLuPJdo2bdxMREm2WUngc5xHNhb38NGza0uX7cdb3XdmzM1DJXX321Kei3d+/eqKqqwgcffID//ve/uO2221C/fn0AwNSpUzFs2DC722jZsqXd10tKSvDVV19h+vTpeOKJJ0yvl5eX4/Tp06rLXK9ePVRWVuLvv/+2aNAIgoDi4mLJG7kjERERmDlzJmbOnInjx4+bemmGDBni1jwhxcXFdl9r1qyZ7PUbNWpk+ruyshKnTp0yfQGK5+u///2v7F/g9vTt2xcLFizADz/8gO+//x7/93//BwDo06cPcnJycOTIEURGRlqM9qlfvz7atGmD559/3u42GzZsaFquXr16psaStaioKNXldqRJkybo168fZs6ciZYtW6Jr164Olw8ICDB9Nuxp2LAhWrdujZycHFy6dMmikduuXTsANT2Tcnz88ccYO3asKXZMdPLkSdSpU0fWNsyJ14PU9eYsb1NJSYmpN0nq8/Tpp59iwoQJps/gn3/+aWrgWTNfRoor3zVq1rXXQ+Tu8wBcORdFRUU2jbljx46Zyk7uxcZMLffiiy9i+fLlePrppzFs2DC0bNkSzZs3x759+2w+4M4YDAYIgmD61Sj64IMPbPJuWP+ydKRv37548cUX8fHHH+ORRx4xvb58+XKcP38effv2VVROa/Hx8cjMzMS+ffvw+uuv48KFCwgPD3dpm6JPPvnEont7x44dOHLkiOycNJ988gmuvfZa09+ff/45KisrTUG4AwYMQFBQEA4fPmy3G92ceZ2HhYVZvNe3b18YDAZMmzYNAQEB6NmzJwCgX79++M9//oMjR46gZ8+eFr0wN954I9atW4emTZuibt26kvu98cYbsWzZMlRVVaFz586yjttdHn30UYSFhZlGz7nqqaeewqhRo0y/6NUO7RUT85lbu3Yt/vrrL9kNXXNdunRBaGio5PXmrDHz6aef4uLFi3j22WfRvXt3m/dvv/12LFy4EBMmTED//v0RGBiIefPmIT093e72unbtipiYGLz77rsYMWKE3Xpy5bvGlXXNyT0PSr6v+vTpA6CmoWTeMNy1axcOHjyIp556SnV5SRobM7Vc3bp1MXXqVDz++OP49NNPceedd+K9997DoEGDMGDAAGRmZqJRo0Y4ffo0Dh48iD179lgM1zUXHR2Nnj174qWXXkL9+vWRnJyMzZs3Y8GCBTa/ctLS0gAA77//PqKiohAaGoqUlBS7Xa4ZGRkYMGAApkyZgtLSUnTr1g0//fQTpk+fjvbt22PMmDGKj7tz58648cYb0aZNG9StWxcHDx7EkiVLkJ6e7raGDFAzdPSee+7B7bffjqNHj+Kpp55Co0aNMGHCBFnrr1ixAkFBQcjIyMDPP/+MadOmoW3bthg+fDiAmqHMzzzzDJ566in8/vvvpjio48eP44cffjD1QAHANddcAwCYM2cOBg0ahMDAQLRp0wYhISGIi4tDWloavv32W/Tu3dtUB/369cPp06dx+vRpvPrqqxZle+aZZ5CTk4OuXbvioYceQsuWLXHp0iUUFhZi3bp1ePfdd9G4cWOMGDECn3zyCQYPHoyHH34Y1113HYKDg/Hnn39i48aNuOmmm3DLLbe4q8ot9O/fH/3793fb9kaOHImff/4Zzz//PPbt24fMzEw0b94c1dXVOHr0KJYsWQLAeW/TjTfeiMWLF6NVq1Zo06YNdu/ejZdeekl1vpK6devisccew3PPPWdxvc2YMUPWY6YFCxaYtmFvpNbYsWPx6quvYt++fWjbti2efPJJPPvss7h48SJGjhyJmJgY5Ofn4+TJk5g5cyYiIyPxyiuv4J577kG/fv2QlZWF+Ph4/Pbbb9i3bx/mzp0LAKq/a1xdVyT3PDRt2hRhYWH45JNPcPXVVyMyMhINGzY09T6aa9myJf7973/jrbfeQkBAgClf0bRp09CkSROLH2TkRt6OQCZtiBH9u3btsnnv4sWLwlVXXSU0b97cNIph3759wvDhw4W4uDghODhYSEhIEPr06SO8++67pvXsjTD4888/hVtvvVWoW7euEBUVJQwcOFA4cOCAkJSUJIwbN85iv6+//rqQkpIiBAYGWowUsB7NJJZxypQpQlJSkhAcHCwkJiYK999/v3DmzBmL5ZKSkoQbbrjB5hh79eplMaLjiSeeEDp27CjUrVtXMBqNwr/+9S/hkUceEU6ePGlaRhzhYs169IIgSI9m+vbbb4UxY8YIderUEcLCwoTBgwcLhw4dstmm1D52794tDBkyRIiMjBSioqKEkSNHCsePH7dZftWqVULv3r2F6OhowWg0CklJScJtt90mrF+/3rRMeXm5cM899wgNGjQQDAaDzYieRx55RAAgPP/88xbbbt68uQBA+Omnn2z2+/fffwsPPfSQkJKSIgQHBwuxsbHCtddeKzz11FPCuXPnTMtdvnxZePnll4W2bdsKoaGhQmRkpNCqVSvh3nvvtagPuedPCv4ZzeSIo9FMcm3ZskW44447hMaNGwvBwcFCeHi4kJqaKtx///3Cjz/+6HT9M2fOCHfffbcQFxcnhIeHC927dxe2bt1qc5ziZ+yLL76wWL+goMBmdE11dbUwe/ZsoUmTJkJISIjQpk0bYc2aNU7rbt++fQIAYdKkSZLL/O9//xMAWIya++ijj4ROnTqZzmf79u1tRvusW7dO6NWrlxAREWGqozlz5tjsX813jdx1HX33yT0PglAzKq9Vq1ZCcHCwxefd3vdBVVWVMGfOHKFFixZCcHCwUL9+feHOO+8Ujh49arFcr169hNatW9uUy953IDlmEASrBAJE5LLFixfjrrvuwq5duxzGYRARkes4NJuIiIh8GhszRERE5NP4mImIiIh8GntmiIiIyKexMUNEREQ+jY0ZIiIi8ml+nzSvuroax44dQ1RUlOpsnURERKQtQRBQVlaGhg0bOp1nzu8bM8eOHZOcP4SIiIj07ejRo06zY/t9Y0ZMK3706FGLGXCJiIhIv0pLS9GkSRNZk9H6fWNGfLQUHR3NxgwREZGPkRMiwgBgIiIi8mlszBAREZFPY2OGiIiIfBobM0REROTT2JghIiIin8bGDBEREfk0NmaIiIjIp7ExQ0RERD6NjRkiIiLyaX6fAZiIyBuqqgX8UHAaJ8ouIS4qFNelxCIwgJPdEnkCGzNERG6WfaAIM9fko6jkkum1xJhQTB+SioFpiV4sGZF/4mMmIiI3yj5QhPs/3mPRkAGA4pJLuP/jPcg+UOSlkhH5LzZmiIjcpKpawMw1+RDsvCe+NnNNPqqq7S1BRGqxMUNE5CY/FJy26ZExJwAoKrmEHwpOa1coolqAjRkiIjc5USbdkFGzHBHJw8YMEZGbxEWFunU5IpKHjRkiIje5LiUWiTGhkBqAbUDNqKbrUmK1LBaR32NjhojITQIDDJg+JBUAbBo04t/Th6Qy3wyRm7ExQ0TkRgPTEjHvzg5IiLF8lJQQE4p5d3ZgnhkiD2DSPCIiNxuYloiM1ARmACbSCBszREQeEBhgQHrTet4uBlGtwMdMRERE5NPYmCEiIiKfxsYMERER+TTdNGZmz54Ng8GASZMmmV7LzMyEwWCw+NelSxfvFZKIiIh0RxcBwLt27cL777+PNm3a2Lw3cOBALFq0yPR3SEiIlkUjIiIinfN6z8y5c+cwevRozJ8/H3Xr1rV532g0IiEhwfQvNpaZM4mIiOgKrzdmJk6ciBtuuAH9+vWz+/6mTZsQFxeHFi1aICsrCydOnHC4vfLycpSWllr8I/JlVdUCcg+fwpd5fyH38ClUVQveLhIRka549THTsmXLsGfPHuzatcvu+4MGDcLtt9+OpKQkFBQUYNq0aejTpw92794No9Fod53Zs2dj5syZniw2kWayDxRh5pp8FJVcmWU5MSYU04ekMpMsEdE/DIIgeOVn3tGjR9GxY0d8++23aNu2LQDg+uuvR7t27fD666/bXaeoqAhJSUlYtmwZhg0bZneZ8vJylJeXm/4uLS1FkyZNUFJSgujoaLcfB5GnZB8owv0f74H1B1TMIcvU+ETKVVULzMzsI0pLSxETEyPr/u21npndu3fjxIkTuPbaa02vVVVVYcuWLZg7dy7Ky8sRGBhosU5iYiKSkpJw6NAhye0ajUbJXhsiX1FVLWDmmnybhgwACKhp0Mxck4+M1AR+ERPJxJ5O/+W1mJm+ffti//79yMvLM/3r2LEjRo8ejby8PJuGDACcOnUKR48eRWIiLzrybz8UnLb4wrUmACgquYQfCk5rVygiHyb2dFp/ropLLuH+j/cg+0CRl0pG7uC1npmoqCikpaVZvBYREYF69eohLS0N586dw4wZM3DrrbciMTERhYWFePLJJ1G/fn3ccsstXio1kTZOlEk3ZNQsR1SbsafTdXp/PKeLPDP2BAYGYv/+/fjoo49w9uxZJCYmonfv3vjss88QFRXl7eIReVRcVKhblyOqzZT0dHJyUFu+8HhOV42ZTZs2mf4/LCwM33zzjfcKQ+RF16XEIjEmFMUll+z+mjQASIip+XVERI6xp1M9qYEI4uM5vQxE8HqeGSKyFRhgwPQhqQCujF4SiX9PH5Kqq25eIr1iT6c6zh7PATWP5/SQ+4qNGSKdGpiWiHl3dkBCjOUXbEJMqG5+DRH5ArGnU6rpb0DNYxP2dFrypYEIunrMRESWBqYlIiM1QdeBd0R6J/Z03v/xHhgAi54G9nRK86XHc2zMEOlcYICBQYlELhJ7Oq0DWRN0FsiqlidGG/nS4zk2ZoiIqFbw155OT4028qWBCIyZISIiv2Rvklaxp/Omdo2Q3rSeXzRkPJUM0JcGIrBnhoiI/I4v5EZxlRbJAH3l8RwbM0RE5Fd8JTeKq7RKBugLj+fYmCEiIr9Rm6Yu0HK0kd4HIjBmhoiI/IYv5UZxlS+NNvI0NmaIiMhv+FJuFFcxGeAVbMwQEZHfqE29Fb402sjT2JghIiK/Udt6KzjtSQ0GABMRkd+ojVMX+MJoI08zCILg/ekuPai0tBQxMTEoKSlBdHS0t4tDREQaqA15Zvydkvs3e2aIiMjvsLeidmFjhoiI/JLec6OQ+zAAmIiIiHwaGzNERETk0/iYiaiWq6oWGFdARD6NjRmiWowjPojIH/AxE1EtJc4sbD2PjTizcPaBIi+VjIhIGTZmiGohZzMLAzUzC1dV+3UaKiLyE2zMENVCtWlmYSLyf2zMENVCtWlmYSLyfwwAJqqFatPMwmpxlBeR72BjhqgWEmcWLi65ZDduxoCaWXf9ZWZhpfxtlBcbZuTv2JghqoVq48zCcomjvKwbeeIor3l3dvCpBo2/NcyI7GHMDFEtNTAtEfPu7ICEGMtHSQkxoT53w3YXfxvlxeH3VFuwZ4aoFuPMwpaUjPLS+wSGzhpmBtQ0zDJSE2rt+Sb/wcYMUS3HmYWv8KdRXv7UMCNyho+ZiIj+4U+jvPypYUbkDBszRET/EEd5ST10MaAmeNYXRnn5U8OMyBk2ZoiI/iGO8gJg06DxtVFe/tQwI3JGN42Z2bNnw2AwYNKkSabXBEHAjBkz0LBhQ4SFheH666/Hzz//7L1CEpHf85dRXv7UMCNyRhcBwLt27cL777+PNm3aWLz+4osv4tVXX8XixYvRokULPPfcc8jIyMAvv/yCqKgoL5WWiPydv4zyEhtm1nlmEphnhvyMQRAEryZMOHfuHDp06IB33nkHzz33HNq1a4fXX38dgiCgYcOGmDRpEqZMmQIAKC8vR3x8PObMmYN7771X1vZLS0sRExODkpISREdHe/JQiIh0iRmAyRcpuX97/THTxIkTccMNN6Bfv34WrxcUFKC4uBj9+/c3vWY0GtGrVy/s2LFDcnvl5eUoLS21+EdEVJuJw+9vatcI6U3rsSFDfserj5mWLVuGPXv2YNeuXTbvFRcXAwDi4+MtXo+Pj8eRI0cktzl79mzMnDnTvQUlIvIi9qwQOea1xszRo0fx8MMP49tvv0VoqPTQQIPB8gMrCILNa+amTp2KyZMnm/4uLS1FkyZNXC8wEZEXcG4lIue89php9+7dOHHiBK699loEBQUhKCgImzdvxptvvomgoCBTj4zYQyM6ceKETW+NOaPRiOjoaIt/RES+iHMrEcnjtcZM3759sX//fuTl5Zn+dezYEaNHj0ZeXh7+9a9/ISEhATk5OaZ1KioqsHnzZnTt2tVbxSYiH1ZVLSD38Cl8mfcXcg+f0vWEkf426SWRJ3ntMVNUVBTS0tIsXouIiEC9evVMr0+aNAmzZs1C8+bN0bx5c8yaNQvh4eEYNWqUN4pMRDqiNI7E1x7XcG4lIvl0kWdGyuOPP46LFy9iwoQJOHPmDDp37oxvv/2WOWaIajmlDRPxcY11H4b4uEaPyfA4txKRfF7PM+NpzDND5F+kGiZin4x1w6SqWkD3ORskezkMqEkit21KH12NEMo9fAoj5+90utzSrC7smSG/5FN5ZoiI5FITR6LkcY2ecG4lIvnYmCEin6GmYeKrj2s4txKRfGzMEJHPUNMwiYuSzmNlTu5yWvKXSS+JPE3XAcBERObUNEzExzXFJZfsPp4SY2b0+rjGXya9JPIk9swQkc9QE0fiD49rOLcSkWNszBCRz1DbMPHHxzW+lACQyNM4NJuolnOWfE4Pkxxal+HM+XI8u/ag4gR45tupH2EEDMDJc+U+9+jG1xIAEqmh5P7NxgxRLebspqiHm6ZUGabdkIq6ESGqGll6OC61lObZIfJVbMyYYWOGyD5nN8V/90zB+1sKvHrT9MSNW+429dAjZc1XEwASqaHk/s3RTES1kJzkc/O32jZkxPcNqElOl5Ga4LGbprMyqimD3G1WVwuqHmN5GudrIrKPAcBEtZCzmyIAOIon1SJrricy98rd5oRP99osJ87jlH2gSPb+3M1XEwASeRobM0S1kLtudp68aXrixu1KeaWmS9CSLycAJPIkNmaIaiF33ew8edP0xI3b1fJ6ex4nztdEZB8bM0S1kHhTdCTAYJvLRaTFTVPOjbteRAiKSy7KzrPibJtyeesxjj8kACTyBDZmiGqhwAADhrZ1HMja9+o4AN67aTq6cQM1vSSnzlfgkc/3YeT8neg+Z4PTeBY5jQE5vPkYxx8TABK5ikOziWohZ0N8gSu5XJ75Kh/FpfrKM2OPkuHajnLXPLs23+k8Tu4Y+uzq0G93DB3X4/BzIhGHZhORQ3JGMxWVXMKhE+cAq9u61r9/zCdaLC69hGe/+hmnz1+2WU7JcG1HkzcGBAD3f7wHBlgeuTt7pNyRtE+cr8mbZSDSCz5mIqqF5MZ8vLb+VxSXllu8dry0XPMhyuKNOyE61G5DRqQkQFdq8kZPP8YRk/Z5c+i3HspA5E7smSGqhVyJ+dAqaZ49WuVZcdRz4wpPJAL0xTIQuRt7ZohqIVdH9XhriLKWeVakem5c4YlEgL5YBiJ3Y2OGqBZy16gerYco+3qeFT1k8HW1DFXVAnIPn8KXeX/JHhJP5GlszBDVUo5iQx7p11zWNrQeouzreVb0kMHXlTJkHyhC9zkbMHL+Tjy8LE/2kHgiT2PMDFEtJhUbAgDLdh11OkTZGz0gYiPMeiROgg+MxBF7lrxZr2rLIDXbuBg0zBw35E1szBD5OWe5RKSG+E4fkurxIcpqDUxLRJ9W8ViSW4gjpy8gKTYcY9KTERKk785msWfJm/WqpgwMGia9Y9I8IjfSWxIye7lEokIDce1VddGjeQOnDQC5uUi0Pm4tcqR48piUlt8TZVFShtzDpzBy/k6n21ya1cWl3DdE5pTcv9mYIXITvSUhk3osYC7AAGT1SMHUwamSyzi7kWp93FLHpSQDsJx96KWx5MmyyC3Dl3l/4eFleU6398aIdripXSOXykQkYmPGDBszpAUtbrBKyJmuwNy9PR03aKRofdzOjssd0w3o6VzqpSzsmSFvUHL/1vcDZiIf4CyeAKiJJ9ByCKuc6QrMzd9agIrKakX78MZxezpHip7OpZ7K4utD4sn/sTFD5CI9JiFTmqekWgCW5BYqWscbx+3pPC16Opd6KouvD4kn/8fGDJGL9JAIzVr9CKPidY6cvqBoeW8ct6fztOjpXOqpLIDn56wicgWHZhO5SA+J0Gyo+IGcFBuuaHlvHLen87To6VzqqSwiT81ZReQq9swQuUiP8QQnz5U7X8hMgAEYk56saB1vHLenH3fo6VzqqSzmPDFnFZGr2JghcpEe4wmU/lrP6pGiOOGcp49bag4gTz7u0NO51FNZiPTOq0Oz582bh3nz5qGwsBAA0Lp1azz99NMYNGgQACAzMxMffvihxTqdO3fGzp3OhwiKODSbtKKnPDPiEGapxzEiOXlmrLdr/YghJ7/Y7cctpy71lNTOGVfKqqfrikhLPpNnZs2aNQgMDESzZs0AAB9++CFeeukl7N27F61bt0ZmZiaOHz+ORYsWmdYJCQlBbKz8blU2ZkhLesoALOYoAWC3QXNbh0aYNayN7B4ZRzdVd8ZR6CW3irvOpTsaI3q6roi04jONGXtiY2Px0ksv4e6770ZmZibOnj2LVatWqd4eGzNUm7lyIzW/gRaePI/X1h+yWcbdDQwtkuJpSS8NMyJfpOT+rZvRTFVVVfjiiy9w/vx5pKenm17ftGkT4uLiUKdOHfTq1QvPP/884uLivFhSIt+hdvSJvUaQPe6eZFBJbhW9Z5rl5IxE2vF6Y2b//v1IT0/HpUuXEBkZiZUrVyI1teb5/aBBg3D77bcjKSkJBQUFmDZtGvr06YPdu3fDaLSfR6O8vBzl5VdGcpSWlmpyHER6JTUrthQ5czqZU9vAsPfoRG+5VVzhTw0zIr3zemOmZcuWyMvLw9mzZ7F8+XKMGzcOmzdvRmpqKu644w7TcmlpaejYsSOSkpKwdu1aDBs2zO72Zs+ejZkzZ2pVfCK/4qg3wRklDQypx18jOl0la301SQG15k8NMyK98/rQ7JCQEDRr1gwdO3bE7Nmz0bZtW7zxxht2l01MTERSUhIOHbJ9di+aOnUqSkpKTP+OHj3qqaIT+R2lczqZkzscXOz5sd5PccklvL7+V9QJD3aa8+/RL/Yh+0CRqnJqRY9J74j8ldcbM9YEQbB4TGTu1KlTOHr0KBITpQPmjEYjoqOjLf4ReZNUvhQ9Ki5V3pBRkrzNWRyJGEsi/lfK8dJLuP/jPbpu0Og16R2RP/LqY6Ynn3wSgwYNQpMmTVBWVoZly5Zh06ZNyM7Oxrlz5zBjxgzceuutSExMRGFhIZ588knUr18ft9xyizeLTSSbr+UIOa0wczBQ0/CQ+3hITs/PmQuXMTgtHrm/n8KZC5WS+9R7AK2Y9O7+j/eYGmgiJr0jci+v9swcP34cY8aMQcuWLdG3b198//33yM7ORkZGBgIDA7F//37cdNNNaNGiBcaNG4cWLVogNzcXUVFR3iw2kSyOHqfotVchNiJE1Xqvrf8V3edscHpMcnt+1h04LtmQEamZNVrrXjIxW3F8tGWMT3y0kcOyidzIqz0zCxYskHwvLCwM33zzjYalIXIfXx2WmxATpnpdsZHm6CatpufHGbkBtN7tJZOakICI3EF3MTNE/kDJsFxPU9IbIcZ5OCLV9hK3OnNNvuQ+1Pb8OCIngNZbvWTZB4pw38d7bHqkiksv4T6d9s4R+SKvD80m8kd6GZartDfCPM5Dqsnj6MmMs9wprvT8WBOzATsLoPVWL1lVtYAnVux3uMzUFft11ztH5IvYM0PkAXoYlqu2N0KM87DuoUmMCcX4bsmy9i3VSJPT8yOHkgBab/WS7fz9FM5euOxwmTMXLmPn76fcul+i2og9M0QeIN60Hd1EPTks19XeCKlpEH4oOI2F2wud7l+qkSan50eOBAWxLuvzi2Vt0929ZLmH5TVScg+fQrdm9d26b6Laho0ZIg8IDDBgaNtEvLelQHKZoW0TPfZ4wR2p9O1NgyA20opLLtltjMh59CP2/MiZ+0ncZny0Ea8Mb4eT58oVzRqdfaAIC2Q0vgBP9JIpmRCCiFzBx0xEHlBVLWD1PsfBnav3FXlsaLCnYnbEnhVAenyOnEc/A9MSsfk/vREbESxrvzOGtka3ZvVxU7tGSG9aT1ZDRuydcsZTyevS/yWvt0XuckQkjT0zRB4gJzmcJyYZFCdvPHS8TNbyanojpHpWlDz6AYDdR87g9HnHMSUAMKlfC1VDp+VOzSDAeQPMfFLM+pFGQABOnnfcS9SlaT3UCQ92GDdTJzwYXTjJJJHL2Jgh8gBvjGayN3JJitTjIHszWSuJqVHy2EzusSfXD5e9TTXbH98t2WFjyVm9So0OCwww4IVh1+C+j/dIbvuFYddwJBORG7AxQ+QBWo9mEkcuyXloJfU4SM0wbld6lTxdR3LXy0hNkHxPTr06ShY4MC0R797ZATNW/4zi0isJAxOijZgxtLXXMwDLbbwS6R0bM6R7vviF645AWbkcjVyyx97jIKmbtpysvmp5uo5c3b7cenU2OswdvVie4GvzhhE5wsYM6ZqvfuFqOcmg3NiQB3o3Q7dm9W1upN5KKufpOnJ1+3LrFXA+OszVXix380bjlciTOJqJdMsXJ2o0JwbKJlgliUuICXXrzUJubEjz+Ei7I4G8OfWCp+vIle2riWfydEZnd3DWeAUcT0lBpEfsmSFd8tWJGq1p8YjB1dgTb0+94Ok6GpiWiD6t4rEktxBHTl9AUmw4xqQnIzDAgNzDpyT3qSZWx5MZnd3FHTmIiPSGjRnSJX/6wvX0IwZXY0P0MPWCJ+vI3qPKtzb+BgAWw6atH186q1dz5nWs9xgvbzdeiTyBjRnSJX7hyudqbIjaxpCzm7YebupSsSH2cr9Yx4s4qldz5nWck1+s+xgvPTReidyNjRnSJblfpIeOn0Pu4VO6+/XrKVINBFcS2alpDDkLzJZ6f9oNV6NuhFGTBo7SUV72Hl/KmXpBrGMAugiqddaI1HKknbvooWFM+mYQBMGvo7xKS0sRExODkpISREdHe7s4JFNVtYDuczbI6uIH9Pfr1xPsNRBiI0Jwc7uGyEhNMN181H7pyx05JtXbIe7l3z1T8P6WAq+ft9zDpzBy/k5V6y7N6mLx2MtZBmAA6D5ng2SDR2wgbJvSx6M3YaXnELDfeNXTaCZfHdFIrlNy/2ZjhnRL6gvXHj1+CbuTnORt7viCl/PoyNlN22AA5A6E8eR5+zLvLzy8LE/Vum+MaIeb2jWSvbzchpN1I8mdHDUyBQCP9GuO5PoRpvPqC4/EnDWc/fXzTjWU3L/5mIl0S8nsyr40wkkpuY9LitzwOMNZIK6cwGwlP488ed5cifmoH2lUtLy3Y7zkDLd+bf0h02tio2XblD66fXzjLyMaSRvMM0O6NjAtEdum9MHSrC54oHdTh8t6Mh+KNylJ3gZ4NkeIJ27GnjpvYmyIqtucwupzNai2qlpA7uFT+DLvL+QePqX4/Cm9RsQ4npz8YqQ3radoNnKteDP/Efke9syQ7om9Bd7+9estSo7HnUPW7T1y8uQIF3efN7mjkew5eb7c+UJmXAmqlQ6WTkXdiBBZvSZK684XejZq6+ed1GFjhnxGbR1SquZ4XP2CdzQaydlNW0nMjDlPnDcljypdKYva4fFSMSFFJZcw4VPL2bYdxbOoqTu952qqrZ93UoePmchnOHtsYEDNF76ehpS6g5rHJa58wTuaRmLip3sxtG3NzdS6POLfWT1Saho1Mvfn6fNm/qjytTvaITYi2KWySD0SUjp1gtKh446m8XDlkZpeezZq6+ed1GHPDPkMLSdv1BMlj0tczREiJ+hy9b4ivD2qA55dK53Tpv1VdWX1hmh13swDm8OCAxwOS3ZUFmfDhJVMzaA0zsXRoyFXHqnptWejtn7eSR0OzSafU1vzTtg7bnPuGK6qZIjxdSmxijIAnzlfYdMAsj5vUkPD3Z1tWM015Gx4/Duj2mNwm4ZO607kytBxqSHe2QeKMGN1PopLnTeSDADio414ZXg7nDxXrrvRTKLa+nknDs0mP6fF5I16ZH7c6/OLsTLvL5w+fyUtv5xsv85u+kqCLp0N47b3/oA06fMmddMa2jYRq/cVKc427KgulF5Dch4JPbB0L+bCgMFt5N1gXekRkTpPe/84g+MyGzICgEuV1Rj9wfem1/XYSKitn3dShj0zRD7KE70R3kr+JicpoDln2YbdnVRNSTbhd2XuU2mWa3P26n/2uny8t6VA1vp1woPtzk/FZHSkJ0ru3wwAJvJRYs+HnBwhjoJ6zYNKvRF0qTQQFrgSPzF/q/1pE8TX3JVzR0mQrNx9ijEhgOvB0hWV1Zi/1XFDxgDg1dvb4pO7OyM0KNDuMmKpn1p5ACv3/Kkq5w2RN7AxQ+Tn5GSHFW/Ajm6wngq6VBoIKxLgeAi4O5OqKXkkpGSfUiOg7HFU/0tyC50OhxcAnLlQgYAAg8OYGgHAqfMVeOTzfRg5fye6z9lgdwQVkZ4wZobIxzl73KQkk2p603ouzcCthqeHBkttX8ljOrHHSm6jS8kx2YsJOXO+HM+uPSi7/o+cviBrX0dOX0D9KGVTNWg96zeRGmzMEPkwOXEwajKpahl06emhwfa2rzRoWOyxuu/jPTbvyd2nI/aDpRNl139SbLis/STFhisumy9kCybiYyYiHyU3DkZtJlUlMTmuUJvwzQDAUZGk4kvk1pu1gWmJeGdUe1X7VENJ/Y9JT3ZYLqCmrsakJ6uqb86DRHrHxgyRD1ISB6P3TKpqA2EB6WzDUvElSurNnsFtGmLuyA4Oy+SNRG4hQQHI6pHicJmsHikICQpQVd8ivWYLJmJjhshFrs54rIaSOBglQb3eOBZAOhA2MSYU9/ZMQaKdKQLeHtUB17eMx/huyagTbvnEPD7aaDfGwx0zMQ9uk4h37+xgt0zejCuZOjgV9/ZMsemhCTAA9/ZMwdTBqabXlAQem9NrtmC1vHW9k/t5NWZm3rx5mDdvHgoLCwEArVu3xtNPP41BgwYBAARBwMyZM/H+++/jzJkz6Ny5M95++220bt3ai6UmusJb2UmVxsEMTEvEv3um1AxlNvu+NhhqfrGrTT7nTo7idB4feLWdAFlH0yW4Nru0s+X0msht6uBUPNq/FZbkFuLI6QtIig3HmPRkhATZ/m4Vj2HuhkNYuL0AJRcrJbfr6jQZzijNmeQO3r7eyb282php3LgxXnjhBTRr1gwA8OGHH+Kmm27C3r170bp1a7z44ot49dVXsXjxYrRo0QLPPfccMjIy8MsvvyAqKsqbRSeSTPSmxegPpXEw2QeK7CaXqxaA9/9JtGbvfbnHYu9mBEDxDUoqq7D569kHijDx070O89IcL7VfbnfOxOwsA7K3hAQF4O4e/5K1bE5+MV5ff8jpfF+A5x6feaNR4c3PLnmG7jIAx8bG4qWXXsL48ePRsGFDTJo0CVOmTAEAlJeXIz4+HnPmzMG9994ra3vMAEyeIGZvdTRPUkJMKLZN6eORG4Cz7LHm+wfgsKxAzaMIqR52Z8di72ZUJ7xmZmrzLLPuuEE5q3dn5VZSb97uZfE0uXXpyYaFVKPCk5mIvf3ZJfl8MgNwVVUVli1bhvPnzyM9PR0FBQUoLi5G//79TcsYjUb06tULO3bskNxOeXk5SktLLf4RuZs7Yi9coSQORk5SOrXJ56RGBp29cNkmXb6z0UJyKEmwZ6/c3kgKqFdy6/Ll29p6pCHjajC2Wt7+7JJneL0xs3//fkRGRsJoNOK+++7DypUrkZqaiuLiYgBAfHy8xfLx8fGm9+yZPXs2YmJiTP+aNGni0fKTb3I18M9dsReukAritA5EdVcZrLejdBoCd9yg1ByL9Tpy683fya3Lk+fLPbJ/bzUq9PDZJffzetK8li1bIi8vD2fPnsXy5csxbtw4bN682fS+wWD5C0kQBJvXzE2dOhWTJ082/V1aWsoGDVlwxzN6d8ZeuEJOIKq7ymC9HTXTEFhnG3a1DHIUnrTNjqvXAF4tefsa9lajwtvHTZ7h9cZMSEiIKQC4Y8eO2LVrF9544w1TnExxcTESE6/cYE6cOGHTW2POaDTCaFSWrptqD3cF/om5W5zFXmiRu8VZIKqzsgI1MTOCAEXH4spNRu26co7F2uvrf0XLhEib86rXAF6tePsa9lajwtvHTZ7h9cdM1gRBQHl5OVJSUpCQkICcnBzTexUVFdi8eTO6du3qxRKSr3LnM3pfir1wVlYDYEq4puRYXLnJqF1XbcI3T8Re+DpvX8PeSubo7eMmz/BqY+bJJ5/E1q1bUVhYiP379+Opp57Cpk2bMHr0aBgMBkyaNAmzZs3CypUrceDAAWRmZiI8PByjRo3yZrHJR7n7Gb23Yy/sxf1IxQKJZY2Ptuy1FJPLTR2cqvhY1KTFd3aDqqisxoKtv+PpLw9gwdbfUVFZbbOM0oRvDOiU5uy68OQ17M1GhZrPLhPs6ZtXHzMdP34cY8aMQVFREWJiYtCmTRtkZ2cjIyMDAPD444/j4sWLmDBhgilp3rfffsscM6SKJ57Reyv2Qv1waKnbhvJjEW9G93+8BwbYf0Rlb09SN6jZ6/Ixf2uBxciq59cdRFYPy+y11mV9b/Nv2PTrSSd7Z0CnY9LXhSdpPUO79b7lXu9MsKd/ussz427MM+ObPJERNPfwKYycv9Ppckuzuug6lkIq7scescb+3TPFblI8d+TzsPdFXzc8GALk55mZvS4f7/2TvM8e63T85vuWO5O13s+rN3gjz4s93sgALJde6qg2UnL/ZmOGdMdTv4L8IWGakqRx5lxJiie3XGozAFdUVqPVtK8d5roJMAD/e3aQRVp+uXXhC+fVG5g8zjnWkXdpljSvrKzMIjnduXPnXNkckWQSNnckXPOHwD81w6EB9Unx5BJHBt3UrhHSm9ZDYIDB7mv2LMktdFg+sfxLcgstXpNbFwL0f169gcnjnGMd+Q5FjZm8vDzccMMNpr8bNmyIunXrmv7VqVMHu3btcnshqXbQIiOot4N2XeXJuA9vxZQcOW2bB0bOcnLLO75bsu7PqzcweZxzrCPfoSgA+K233kL37t0tXluyZAkaNWoEQRCwcOFCvPnmm1iyZIlbC0m1g5JfQa7EPvhywjRPJvLyVpKwpNhwVcvJLW9GaoLiMtUGTB7nHOvIdyhqzGzfvh2ZmZkWr3Xp0gX/+lfNDK1hYWEYPny42wpHtYuWv4J8NWGamqRxgLqkeFoZk56M59cddBozMyY92eI1Jj9zDevPOdaR71D0mOno0aO46qqrTH8/88wzqF+/vunvxMREHD9+3H2lo1qFv4KcU5o0zpWkeFoJCQpA36vjHC7T9+o4i+BfwD9ioLxJy/rz1RwtvMZ8h6KeGaPRiD///BNJSUkAgEceecTi/aNHjyI8XF6XMZE1/gqSR4z7mbE6H8WljvPMmOfraH9VXZt15OTzUDtstqKyGktyC3Hk9AUkxYZjTHqyTYNE3P6BvxzPbn/gr1JUVQsW+62qFhATFoLx3ZKxYu+fOHOh0vRefLQRM4a29shxeYOnyiqV56VuRDBuadcIMWEhNvWulK/naPFmLhyST1Fjpn379li1ahW6detm9/0VK1agffv2bikY1T6OkrDxV5A9lk2+0KAAPH1jKupGGG2GSOcePoVdBadRXllluQUnmRnU3oiUJMCTMyrJOlbKXrksOb5GfOkG6+mymseQ5eQXY1XeMZw+X4EF2wuxYHuhS/ty11xo3ubLcXa1haLHTBMmTMDrr7+Ot99+G9XVV9KMV1VV4a233sJbb72F+++/3+2FpNrD10cbaUG8QRSXllu8fry0HBM/3YuSixWm4dA5+cXoPmcDRs7fiQXbC3HGrNdGXEdqyLvaYfJiAjzrJwnVAvDelgLMXpdv8brSWCmpcpk7XipdRk8O/3c3rcoaGGBAycUKLNpeiNPnK9yyLy1GJ2pJbqoB8g5FjZlbb70VkydPxoMPPoi6deuiffv26NChA2JjYzFp0iQ8/PDDuO222zxVVqolBqYlYtuUPlia1QVvjGiHpVldsG1KHzZkoOwGIeemL3VTUXsjqqisxvyt0pl8AWD+1gKLOZeUxEo5KpecMvrSDVbLsnpiX8zRQlpSnDRvzpw52LFjBzIzM5GYmIiEhARkZmZi+/bteOmllzxRRqqF+CvIPrk3iJ2HT8m66ZuvY35TUXsjUpMAT8nsyUqSBrrzuLxBy7J6Yl/M0UJaUjXRZJcuXdClSxd3l4WInJD7xf9hbqHiTMHm21Z7I1KTAE9JrJSaG587jssbtCyrJ/bF0YmkJUU9MxcuXMDEiRPRqFEjxMXFYdSoUTh50vlstUTkHnK/+L/NV54iwXzbam9EahPgyY2VUnPjc8dxeYOWZfXEvpT0uBG5SlFjZvr06Vi8eDFuuOEGjBgxAjk5OQz4JdKQsxuEWrERwSguvWTKAXJdSqxpqLeUOuHBNjeiMenJcPZE0ACgbniITb4RObFSSo7f3s3Sl26wWpbVE/tijhb/p6f8QYpmzW7atCmef/55jBgxAgDwww8/oFu3brh06RICAwM9VkhXcNZs8jdiYC9gP6OvqxJjQjHthqvx5KoDFjlrrNUND8aP/5dhczMSRzPJ3ZfSYb9yjl8skb0RcFLrO1rHW7Qsq6f25UvD4Ek+Lc6rkvu3osZMSEgICgoK0KhRI9NrYWFh+PXXX9GkSRP1JfYgNmbIHznPs6KeddyKI0uzuiC9aT2bpG4b/leMBducBwOrvVE6O35nX6pyvojdmajOlW1lHyiySXbo6Phc3ZcnblC+lKCQnJPKH+TuRraS+7eiAOCqqiqEhIRYbiAoCJWVlRJrEJEnmCfx+vpAET7KPeK2bSvp7TlRdknyBvjGiPY4UXoJmw/9ja2/npQc9mtAzbDfjNQE2Tc48+Nfn19skwHY2W80Z0nQ3HlTd8+2LI9H6vhc3ZenksP56lxoZMvZMH41n2d3UNQzExAQgEGDBsFoNJpeW7NmDfr06YOIiAjTaytWrHBvKV3AnhnyNG//6sw9fAoj5+/UbH/mHunXHK+vPyT5C+3fPVNkP3ISe3mU8MQvRHdu09VtKVlfq1/LVLvJ/b5R83m25rGembFjx8JgsPySvvPOO5WXkMhP6CEeQM6cVu6OrRHnyVr6wx8OE605S6BnTukQY0/8QnTnNl3dlpL18c//6+3XMvkfvaY3UNSYWbx4sYeKQeR79DLvjLM8La42ZKRyv4zodBVeW/+rw3WVDG5QOsR45+FTshO9yf2FqCR5nLNturotpYns3F0XRPboNb2BosbM+PHjnS5jMBiwYMEC1QUi8gWeem6s9pGVo5l9W8RHYfOvf8suA3Cl52XaDal4dq392YLLzaYkcJXSYb/ZB4rwxPL9spZV8gvRnb865W7LPLDXU2VRsyyRPXJ6ghO8kN5Acc9MUlIS2rdv7zTAjsifufMXvMhTwZuLtxcoasyY5wAZmJaIAWn2A0JzD5+SvU1nlOQbkeoRk6LkF6I7f3XK3dazX/2MsOAAm3PsiV/AekgGSL5NScZuLSlqzNx3331YtmwZfv/9d4wfPx533nknYmO9n1yKSGvu/tXsrkdW9kaNjElPxvPrDsp+5JNg1YCSGoni7BcaAAQYAEGQftQVYADmjmwv+3Gc3IkmAXW/EN35q1NO/QDA6fOX7Z5jJWWpqhYQYHD8WC/AAFybVNdpuYmccdQT7K38QYoyAL/zzjsoKirClClTsGbNGjRp0gTDhw/HN998w54aqlXc+avZ07MjhwQFIKtHisNlhrRJUDxDubMMrwbAtF+p32hzR3bA4DYNne5LpGSiSUD5L0R3Zq11tC17rM+xkrLsPnJG1gSfu4+ckVESIufkZOzWkuJZs41GI0aOHImcnBzk5+ejdevWmDBhApKSknDu3DlPlJFIc87SdLsz/bvaGYuVpBKfOjgV9/a036C5t2cK3hp1raoZyh3NqfT6iHa4UFGFVolRCAuxzBCeGBOKd+/sgMFtlH3xye3pigkLUh2ALXeeKHNS50LcVt2IEJt1zEmdY7ll0esIE3sqKquxYOvvePrLA1iw9XdUyIi90lPafLpC7LVV893hbqpmzRYZDAYYDAYIgoDqavcFAxJ5k5zYFXc+N1ZzI1IbX2P9KMId3z32YnUWbDuMh5fl2Syb1igaTw1OVZ2LR26PWIDBtQNTkjxOVjbhKnnfj+vzi20e6ckpi15HmFibvS4f87cWWFyDz687iKweKZg6ONXuOnpIf0D6p7hnpry8HEuXLkVGRgZatmyJ/fv3Y+7cufjjjz8QGRnpiTISaUaMXbHuKRFjV7IPFJleU/ML3h6lNyIlZQRqftU+8OkevLelwOZRRLUAvLelALPX5csqgxTzX2gLt/+O9QftBxwf+KsUC7f/rvoXnNyJJs9cuGy3LpSQ86vT2bmYvS4f93+8ByWX5GVJX7C90G6ZnZXFFybQFOfsUnINKr3WqfZS1JiZMGECEhMTMWfOHNx44434888/8cUXX2Dw4MEICFDcLiLSFTWxK+54bqzkRqS0jNkHitB19nf46ifHX/rztxbI6u535mJFFXLyTzhcJif/BC5WVKnavqtxKO4k51zM31qgOM+PmjLrfYbqispqpwkUra9BT8eSkX9R1AJ59913ER0djZSUFGzevBlZWVkYNmyYzT8iX6Q2dsXV58ZKbkRKyij+qj1eVu60DNUCsCS3UFG57Zkls4dn1rp81XEQrsahuIucc6HmPqu2zO7qKfSEJbnOJx21vgbVfh6pdnJ5OgMifyE7yVnJRbfvW+5QRyVlfPGbXxT1Chw5fUFJke0qPCVvGz8eOYPucza4lFPnYkUVHvl8n9NlPRX06slgWrXb9tREkc44S/Yo99oyX86XgprJ+zidAdE/ZCc5W3sQYSGBbv+l685Az9PnKxQNYQaApNhwRcvbk1wvHFsPOV/uYFGZzWtKc+okxITJKpOngl49GUzryra1nqFaToCu3GvLfDlfCWomfWCgC9E/ZAeXnq/wWPChuwI9YyONEkvYF2CoSa7nqikDr1a9rtI4CG8HvcrZv9IOET0E6iohN0B3THqy07qwvga9fX7Jt7AxQ/QP89gVR7wZfCg3viYhWtmv1aweKQgJcv3rYN/Rsy6tryQOwttBr3L2n9UjxZRA0Bk9BOoqoSRAV07iRutr0Nvnl3wLGzNEZsTYldiIYIfLuTP4UGkgrFjG+GjpQE+5vUwBhpqkefZyfCgtV/aBIkz8dI+TPcojJw6iqlpATFgIxndLRp1wy/MVH220+7jK/Ji2/vo35m85rCh5G2CZ9O2vMxfx5sj2kkG3Uwen2g3KrRMebFNmdwXqapVgTmmArpi40brt4ega1HNQM+mLS0nzXDV79mysWLEC//vf/xAWFoauXbtizpw5aNmypWmZzMxMfPjhhxbrde7cGTt37tS6uFRLDExLxMXL1Xjkszyny7oafOhaQjDLm5T5lCKOkvqJbuvQGLOGXWO3R0ZpuZRO/uiMszgIe+WzJC+5nTlnydsA+0nfAgzA3d2T0adVgt1YJ6lYKABuD9TVMsGcmgDdqYNT8Wj/VliSW4gjpy8gKTYcY9KTHfYKeiuomXyLQfDipEoDBw7EiBEj0KlTJ1RWVuKpp57C/v37kZ+fj4iICAA1jZnjx49j0aJFpvVCQkJkT3BZWlqKmJgYlJSUIDo62iPHQf4n9/ApjJzvvMG8NKuL6mBLqQaA+BUt9ctTyXpqbm5Ky1VVLdiMTHLE0eST4uSJ26b0kbxZyWk4WZdVSWNLqpdATPqmdD2tqL2e1NLiM0K1m5L7t1d7ZrKzsy3+XrRoEeLi4rB792707NnT9LrRaERCQoLWxaNazJ2zJ9vjLN7AgJp4g4zUBIubutL1lP6qVVMuJZM/ipNPvr+lQNU0EHJnzTYva59W8bJn2gZqkrc92r+VRW+B3KRv1utpRe315ApPf0aIlNBVzExJSQkA2PS6bNq0CXFxcWjRogWysrJw4oR0htHy8nKUlpZa/CNSytPBh2oTgqlZT0lSPzXbl/u4oU5YsMM4koSYULw9qgNiwkIk4z2UNJzEsi7JLVQ0TN1eAkE1Sd+05I0Ec7UhQJcTXPoOr/bMmBMEAZMnT0b37t2RlpZmen3QoEG4/fbbkZSUhIKCAkybNg19+vTB7t27YTTaDj+dPXs2Zs6cqWXRyU/JTWSnhtqEYJ5OJKZm+3LzfLw9ugO6NasPwH4cxJnz5Xh2reNHYmqOS00yQOt11CR905K3Esx58jPibZzg0rfopjHzwAMP4KeffsK2bdssXr/jjjtM/5+WloaOHTsiKSkJa9eutTt1wtSpUzF58mTT36WlpWjSpInnCk5+zVPBh2oTgnk6kZia7ct93NDlX5ZxE+bJ3WpGQu21Wd86kZ6a41KTDNB6HTVJ37TkzQRzA9MS0adVvKKgXr2Tij9SmtiRtKOLq+3BBx/E6tWrsXHjRjRu3NjhsomJiUhKSsKhQ/bTjBqNRkRHR1v8I3KFq3Mv2aN0ckmxq7taEJAQbfRYIjE1icpcfdygJF+J3CHn5mUdk54sex3AfgJBNUnftOTNBHPZB4rQ66WNeHbtQXyUewTPrj2IXi9t9NkZrTnBpW/yamNGEAQ88MADWLFiBTZs2ICUFMdJlQDg1KlTOHr0KBIT2Som3yW3AZCTX4zuczZg5PydeHhZHkZ/8D0uVVabgjql1lPb4FLbMHElH4iSeA+5s2ablzUkKEDRTNv2EgiqSfqmJW/Fr8jNAOxLOMGlb/JqY2bixIn4+OOP8emnnyIqKgrFxcUoLi7GxYs1E/mdO3cOjz32GHJzc1FYWIhNmzZhyJAhqF+/Pm655RZvFp3IZc6S3wGwe6MouXAZABATZvmUWCpRnDk5AY1SDZOwkEDc2qER+rSKlzyebVP6YGlWF7wxoh0+vKsT+rRqgE++/wPTVu3HxYoqu+spjfeQqjdz1o0oqWMyZ4Dj4dVSSd8MAIa0ScDjLkzl4A5aJ5jz1x4MTnDpm7waMzNv3jwAwPXXX2/x+qJFi5CZmYnAwEDs378fH330Ec6ePYvExET07t0bn332GaKiorxQYiJPsE1+V10t4Nm1Bx3eKEovVVq94/hXt5KARjEOYtzCncj9/QwA4EJFFf675y+s2PuXZHI58ZFc1ke7kJN/ZdTh1kPAkp1/ICM1DvPHdrJYR328h2Xt1A0Pxi3tGyEjNcFuXJN5/NP6/GKs2PsXzvzTMASA+OhQtL+qrsMyiEnfnlzxE9YdKMaFiioIANb8VIwfj2zwenColgnmlPRg+FKeGbnXY/0IZfOfkWd5NWmeFpg0j/TKUZIzNR9KR8nRlCZUyz5QhEc/34fzEr0pgHQvhnVDxpp1g0ZMuucsgFhMpOdqcjhPrS9uo7YEh36Z9xceXpbndLk3RrTDTe0aeb5AbuLsehQlRIdixlCObPIkJfdvXQQAE+mNp/NLyOmiV8q6a188hpV7/8KTK/fLfhwg3qwdNWSAmiRx1vMZXayoctiQAYCc/BMWj5yUxHu4+mjDk+uL2/DFRytqeHMElSfJjcs6Xuq7cUH+iI0ZIivZB4osgm5Hzt+JTs/n4Nk1P7utYaMk+ZsSYtf+3A2/mY7hkc/ycPr8Zafr/FBwWnaGXcB+krhZ6/JlldN6ObnxHq4GZ3p6fThZ3594cwSVp12Jy5J+lOTLcUH+SDd5Zoj0QOoRwunzl7FgeyEWbC90S+IsTwcPvrb+V8XrnCi7pLiRZZ0krvCUvKRx9paTE+/hanCmq+sXl1yUtb7c5XyZo8lM/SED8MC0RESFBmP0B99LLuOrcUH+iD0zRP+Q2yvhjmGnSrretboVxEWFKm5kWSeJS64nL2mc1HLOcvq4+mjD1fVPn6+Qtb7c5Xyd1iOotHbyXLms5TiyyfvYM0P0D7m9Eu6YuE9u1txpN6TapPgPMMDpPEFKmE8IqOTxiL0kcU8OTsWSnX84XfdJlbNLK5ncsKpasOnlcXVyxNhIeSNY5C7nD7QcQaU1f40L8kdszBD9Q8mvK1e7l+V20Q9MS8SANNs5jCZ+utdUDvP1lLZxrB8HOLvZm7OXJC4sJBAZqXFORzOFhQQqLGkNufWWk18sOQzdlUcjCQ5y26hZzl+YT03hTzgzuO/gYyaif6j5deVK97LcLnrrRy+D2zSUTLb3SL/mispgnWhP7kgOR8nl5o/thIzUOLvv2cszY86VpH7Okg2KjweBmuHTcVGWvSeOkg6K5SouvYTYiGDJ8gPuC3r11xmbfem49DozuC/VoVbYM0P0DyW9EiJXu5dd66K3TbbXPC5S4THY7kdqJmRRgozkcvPHdsLFiirMWpePwlMXkFwvHE8OTnXYI6M0qZ+9egOA7nM2SA69Fh8P3tgmAX9bxUOcKCvH3j/O2M3RI1UX5tx5c/PXGZt98bj0NjO4L9ahFpg0j8iMo4Ro5qwTuWnJWdK3f/dMwftbCgA4f+zkKFHcup+OYcI/j7PkrqOWq4nsRLmHT2Hk/J0ulcW810nu9QC474birrrQG18/LnsxWHr77Ou9DpVi0jwilcRfYYlO5vABvNe97Czp2+p9RXh7lON5iKzXsc6VUfXPdApK1lHLnXP8uGNUiZgM0NnoNgOAehEheG14WyzN6oJtU/q4fCPx1/mO/OG4nI208zR/qENPYmOGyIr5hInjuyUjNiLE4n1vDjuVm/StbkSI6Rge6N3M4TbtJYrTcuZgd+7LHaNKxGSAcsp16nwFDv99zuV9ivx1xmZ/PS4tsQ4dY8wMkR3ir7D0pvXw1A2pXu9eFilJ+iYeg5pEcVrMHCx2238tM1+PnH2piXuy58jpC6gfJW949dyNhzF342FNkyn6Wl4Tfz0uLbEOHWNjhsgJPQ07VZP3Qqt1lJAbVKt0X86Gbstt4CTFhqO+wlwx4mgpV3rt/DWvib8el5ZYh47xMRORD1EzH45W68glBjHKbcgo3ZejodtvjWwPZ51qAQYgLjoUj36eJ2t/InfELfjrfEf+elxaYh06xsYMkQ9Rk/dCq3XkUDKRpSv7Mo97emNEO1OA7pC2DZHVI8Xhun2vjsNDS/eiuFReKntzrsYt6DWviav89bi0xDp0jEOziXyQmlwT2QeK8PSq/Thx7soM2nGRwZgxNA11I4x2Y4KU7sd8+Gr9SCMgACfPl5u2+0PBaUVDp+XGoSgdNjt7XT7mby2wmBYiwADc3T0ZX/1U7PKM5m+MaIeb2jVSXT5XconoYQixFOZIcV1tqkMl9282Zoh8lNKbVtZHu+xOM2AMCkB5ZbXpb+svRrn7cRYHkxgTisFpCViwvVD2MSZEGzFjaGuHX9Jqv9wrKquxJLcQR05fQFJsOMakJ2P3kTMu56kBgKVZXUxxVmrLp6ZR4gs3Oj03tnxFbalDNmbMsDFDJN2QsUdNAi45yeVcmTtKqizuTiL2Zd5feHhZnsJSWu7XPJmilknOaltCNfJ/TJpHRCYXK6pkN2QA5YGscuNgxPcNCn5AOiqLJ5KIKRkJ4ixuQcskZ0yoRrUdGzNEKrhzojdPTxo3a12+4nWUBLI6S+Zls22FhydVFk8kEZM7YuSdUe2dThDqq4kHiXwR88wQKeTOuAQtYhwKT11Qva6cBFxaJemy3o8nkog5y1MDwHRuBqQlOoxb0DLJGROqUW3HnhkiBaRypIgJ07JlZrN197YcSa4XrnpdOY9dtErSZb0fTyURc5SnxrznxdlcPVomOWNCNart2DNDJJOzuAQDauISMlITnI4scOe2nHlycCqW7PxD0TpiIKucBFzXJtVFgAHwVDiGVFmcTV2g5BisDUxLREZqgksjRjxZPm/ui0iP2DNDJJM74xK0jHEICwlERmqconUEACM6XSVr2d1HzritIaMkGZink4i5OkuylknOmFCNajs2Zohkcmdcgju2pSRweP7YTpINGmOQ/a+B19b/iu5zNmDNvmNYsPV3PP3lASzY+jsqzHLSOCujEo/0a474aMePdqyJj4SUrgd4PvDavHzOHll5e18VldUOzzGR3vExE5FM7oxLcHVbagKH54/thIsVVZi1Lh+Fpy4guV44nhycipCgAMzdcAivrT9ks05RySU8uHSvxWvPrzuIrB4pmDo4VdGxSBEfgTSPi4R1Jhr5abBs16v+p7HijszGrnDHIytP7steNmTrc0ykd0yaRyRTVbWA7nM2OI1LEBOmeWpb7k6OJpZFaQr/e3vW3OzkHEud8GCcuXBZcoTQv3um4P0tBYqPSU6yPpHYWAHA5HL/mL0uH+9tKZB8XzzHRN7ApHlEHuDOuAS12/JEcjSleWJE87cWoKKyWtaxzB52Dd618wgkNiIEmd2S8cXuPxUfk9JJK8VRYk+s2M/kcqh5tDR/q3RDBrhyjon0jo0ZIgXcGQOhZlueCBxWG/NSLQBLcgsByDsW85ms7+6WjNiIYJw6X4FF2wtx+vxlO3uooTZpnr3tCADOXnC+r9dyfvVYHI1Ii5gdR5bkFjoN3DY/x0R6xpgZIoXcGQOhdFueSI7mSszLkdNXEvLJOZbAAANKLlZg4fZCxfM0qU2ap8bcjb9h7sbfPBZHo4cJIc3PnTuWI/ImNmaIVBCH7Wq9LU8kR3OWo8SRpFjLhHzOjkXpoyFzapPmuUJ8NKXFhJCe2Jcj1ufO1eWIvImPmYhU8NYjArlzBylJjuYo5sWRAAMwJj1ZwRrq4nOkjkmsC0/y5wkhx6Qnw1lnoppzTOQNbMwQKZR9oAjd52zAyPk78fCyPIycvxPd52xw2/QDjngqOZpUzIsjWT1SECKRo0aK2kdDzpLmeZK/TggZEhSArB4pDpdRc46JvMGrV+ns2bPRqVMnREVFIS4uDjfffDN++eUXi2UEQcCMGTPQsGFDhIWF4frrr8fPP//spRJTbeeJ+ZSUJiy7kijOaPF6fLTRpUcU5gG6b4xoh6VZXZDVw/bXe4BB/ZDd+pFG5wtZ7evtUe0dJs17pF9zxeVQwx0JDLWYEFJJr+HUwam4t2eKW88xkTd4NWZm8+bNmDhxIjp16oTKyko89dRT6N+/P/Lz8xEREQEAePHFF/Hqq69i8eLFaNGiBZ577jlkZGTgl19+QVRUlDeLT7WMJ+ZTci1hmVTfjHrWMS/pTevhPwOuxpLcQhw5fQFJseEYk54s69d6VbVgEQx85nw5Zq5R9kOkWgAOnTjncJnmcZEenRtK5I4EhvUj5DXm5C7nSllE7a+qiwaRf+F4WYXptQaRIWh/VV1VZSDyBl0lzfv7778RFxeHzZs3o2fPnhAEAQ0bNsSkSZMwZcoUAEB5eTni4+MxZ84c3HvvvU63yaR55C65h09h5PydTpdbmtVFVkCv2oRl7k6a5wn2bqqueNfFpHmRxkCcK69Svf9ENyUw3P7bSYz+4Hun+/vkns7o1qy+ojKquS584Vqi2stnk+aVlJQAAGJjawL9CgoKUFxcjP79+5uWMRqN6NWrF3bs2OGVMlLt5c5HBGoTlukpgFSK1KM4V6hNmhdgAN4Z1QEv394WBqjvu3JXAsOT58pl7U/ucq6UxReuJSK5dNOYEQQBkydPRvfu3ZGWlgYAKC4uBgDEx8dbLBsfH296z1p5eTlKS0st/hG5gzuHRatNWKanAFJ7XBl67YjapHnVAlA3IkRVgLPokX7N3ZbAUG7MkNLYIjVl0fu1RKSEbvLMPPDAA/jpp5+wbds2m/cMBstfRIIg2Lwmmj17NmbOnOmRMlLt5iwfizifkvUQYuvYketSYlUnLNMigNQVaqdGkENt0jxxOeukfvUjjHj0i304XiqdXycxJhQP9LEfYKzqXKibN1PZPmQup/driUgJXTRmHnzwQaxevRpbtmxB48aNTa8nJCQAqOmhSUy88svoxIkTNr01oqlTp2Ly5Mmmv0tLS9GkSRMPlZxqE3Eo8P0f75GcMNH6cYRUQGY3mUnyrBOWeSJpnjt58sanNmme+XLWAc4zhto/n6KLl6uQk19st2dGzf5Pnpf5mEnmcq6URe/XEpESXn3MJAgCHnjgAaxYsQIbNmxASoplzoOUlBQkJCQgJyfH9FpFRQU2b96Mrl272t2m0WhEdHS0xT8id1Eyn5JU7EhRySUs3/OX0/gNewnLPJE0zxklQ309ceNzljTPlboQz2dMeLDd90suXJYccq9m/55qQDgrCwDERgSjuPSS6Rx641oi8hSv9sxMnDgRn376Kb788ktERUWZ4mBiYmIQFhYGg8GASZMmYdasWWjevDmaN2+OWbNmITw8HKNGjfJm0akWkzMHkbPYEQFAhDEQ5x2MsLGXsExN75ArlA71VTs1wpA2CVjzU7GiY3JXXWSkJmDGavtDxh0NuVezf7WPKs3Ze2zpqCyi0+cv45HP8gBcOYdaXktEnuTVodlScS+LFi1CZmYmgJrem5kzZ+K9997DmTNn0LlzZ7z99tumIGFnODSbtCTeaLb/9jfmbjzsdPkhbRKwdn+xRTBwgAFO88xoMVGh2mG74nqA89AP8zJnHyjCjNX5KC5Vdkxq60LpuZIacl9T7p9RXHrl0VBCtBEzhrZWVD/W9Wqv0ZKTX+zwWOUOiTffFwCvT3qpB1KNRPIeJfdvr/bMyGlHGQwGzJgxAzNmzPB8gYhcoCa3Sv1IIxpEhihOWObOmbvtkTts116CwIFpibimcTR++tN2JGGbRtGYOjjVbpn3/nEGx0st66645BL2/nHG4U1VTV2oOVeO44HkJzAUH21Z7z/BSaOkTngwzl64bLM96wkqxbooLrmIZ9cexOnzFTbrmPc4bZvSx6PXki/Qwyzm5BpdJc3zBPbMkBbkJm+TQw8Jy1xJEJj10S7k5J+QXCcjNQ7zx3ayeE1tAkE11J4re8fqStI5qZ4ANeUTH0+ZJ/Zzd5JHf8XEgfrls0nziHyRu3Or6CFhWXGpvB4L6+UuVlQ5bMgAQE7+CVysuBIrpDaBoBpqzpVUIKyrSefEkVU3tWuE9Kb1EBhgUH0t2csJw6HXzjFxoP9gY4bIRZ7IreLthGWnZWagtV5u1rp8WeuZLyc3geCzX/0sa0SVI0rPlaNAWE8knXP1WjpRdsk0+uzQ8TJZ69TmoddMHOg/dJFnhsiXefKXrbd+NcdGhKharvCUvGSA5svJTSC4ZOcfWLLzDwDq4xmU1meCg/14oufD1fNdePI8us/ZIKtBJGfklL9j75X/YGOGyEVKf9lKDZ11x7bdJSEmTNVyyfXCsfWQ8/WS611JBmidGFAO66BXueTW5wO9m6Fbs/oOA2E9kTPGlfNtMACvrZdR+eDQaxETB/oPPmYictG1SXWh5H6QEBOKd0Z10HXCMjEfiiMJ0UZUC4LFo58nZQbpmi83Jj1ZUf0B6uMZ5CaKeySjhSmOxdVtKTmHcpLfSVEylMNeksfaiIkD/Qd7Zsgr7I3kAOCR4aGezh+x+8gZpzEfAPBA76bo1qyBaf8BATDlG7HHE7+aL1ZUYda6fBSeuoDkeuF4cnAqwkICbZYzT8ImdWjnyqsw+oPvTX+Lj34yUuOcjmYy32dIUACyeqQ4HM1kj3k8Q7smdRQfl6uJ4jyRwFBO8jtXyOlx0iNPfYa1TkJJnsOh2aQ5qRwaACzyaLgjz4MW+SO+zPsLDy/Lc7rcGyPa4aZ2jSxekxrGbG/4sqvU7Gv2unzM31ogq7FmPpR19tcHceTURZtlkuqFYfN/+thdf+jcrXZz0ziT1igaB/6yXc/RcbnzuvDENaYmD44c9q5BvdMqQSTzzOiPkvs3GzOkKSU5NFzN86BV/gi1+Ty0zK2iJveL2nwn4U6mabB3XM7qQi1HDRp3/tr3RM+B+TblzPAth6/llNEyBwwzAOsP88yQLinNoeFKngct80eoee5eUVmN953cvN2VW0VN7hdX8p04asgAtsclJ8+MPXJuM9bHZc5enhe13Lkte9vs1rw+ZgytaQDayzVssPO6tQBDTXyXr9A6B4wnziFph40Z0oyaHBpq8zxomT9CfO4OSCe1t37u/uSKn5w2FKqFmhwsrlKT+8UTuXNE1sclJ8+MNSXxJHKPX+8czdg+qV8LWdfT7iNnPFdAN2MOGFKCAcCkGVdyNShd19X8EUq7nMUbjfVEifbylGQfKMJ/9/wlq3zfF5xG/SijS93eanK/eDqvhnluGbl5ZswlxIQiJiwI/ys+53TZHzW+gXvycYXUPFRf/XRM1vq+lC+FOWBICTZmSDOu5GpQuq4r+SNcCwa0/H1sHZJWVS3giRX7ZZUNAL7NP45v848rLIMlNblfPJ1Xwzy3jNw8M2O6XIWOybGIiwrFmfMVeOy/+2Std7CoDNkHijQJ5NQikFR8HGLOH/Ol+OMxkefwMRNpRk0ODbV5HtTmjxADDq27t8UkbdkHiuxuT1yvuNQyvf/x0nKL9XYePmV35mM5nJVBiprcL2rPldzYjTHpyaa/5eSZCTAA025sjZvaNULJxQpM/HQPLkjEwtgrlxbz66i9dtzBH/Ol+OMxkeewMUOacRRbYo8reR7UxLGoDThUsl7u7ycVHYfcMjgSFhKIjNQ4h8tY535Req6AK4nY/t0zxeFyWT1SEBJ05atHzDMjZx01gclaxFZ4e8JCNde73vnjMZHnsDFDLhMntpMzCaBUEGOd8GBTrhmRvSyl7tiXVPZTtQGHytZz7YtX7Y15/thOkg0aqeHLUvVnLjYiGHd3S8bSrC7YNqUPMlITcH3LePRt1cDmSAMM0sPNpw5Oxb09U2x6aKzXcSUw2ZOxFXoIVhXPV3y00eL1+Gijz2b7vXJM8j7DVHsxZoZcoiZGQCqIEXCcAdid+7L3a05twKGS9dKb1sPcjb/JWl5JGeSYP7aT7AzAQE3DMSYsBI8PbIXT58oRGxFSE59gAE6eK7epS2eJ3hpEGtH+KumhwVMHp+LR/q2wJLcQR05fQFJsOMakJ1v04rjSIPFkbIW+glWl+jF8meNYNCI2Zkg1qYRWciYBtBfECEAyoZcn9mVNbcChkvWuS4lFnfBg1XEzSvdpLSwkEM/efI3T5ZQ2HOUk2DtRVu70XIUEBeDuHv+S3Iaa49Zidmg9BKtKnYPjpeom5dQD6WNyfi1R7cLHTKSKljECWu1LbcChkvUCAwx4YZjzxoQULYIelQayyo1jcce5UhqYrFVshbeDVb0ds+MJ/nhM5DlszJAqWsYIaLUvtQGHStcbmJaId+/sgIRodb/SPXljVnMDURLH4uq5UhqYrFVshbeDVfUQs+Nu/nhM5DlszJAqWsYIuHNfzgKIlQYNy1nv7VHtERMWYrHPgWmJ2P5EHyzN6oKx6Umyjq9OWLDHb8xqbiBqzrEr14VUXSfGhOKdUe2xNKsL3hjRDp/c0xkv39YW5ZXVToPF3UHtteMO+orZcQ9/PCbyHMbMkCpaxgi4a19y40CUBA2bs7femfMVeHat9D7FWJ6Pco84Pb63R3dAt2b1nS7nCjU3EDXn2NXrwtk5yj5QhMe+2Kf5LMhqrx1X6SFmx9388ZjIc9gzQ6poGSPgjn0pjQNRO+mc+Xpicjdn+5R7fF3+5fnZjtXcQJTEsbjzupA6R95MXueoXJ7k7ZgdT/DHYyLPYWOGVNEyRsDVfXkjkFDJPr0db2FOzQ1EbhyL9bEoyRkkV20NGtXTNeQu/nhM5DlszPgpT9worLkrRkBOWV1JCLbz91OaBRKKx/Jazi+K9qmmLtWc44rKaizY+jue/vIAFmz9HRWV1Rbvq72ByEmwZ34s2QeK0H3OBoycvxMPL8vDyPk70X3OBpd7TZTE/GjxGRE5q3d7lJbPmzE7nuKPx0SewZgZP6TFZHciV2MElJdVWUKw7ANFeGK5vIkdXQ0kdJY0ztk+ldSlmnM8e10+5m8tgPk98fl1B5HVwzIrr3gDsd6+vRnAzZmXf31+MVbs/QtnzPLpiInOXMkZ5Izcc7g+vxiTP8/T5DMit97Nqf0Meytmx5P88ZjI/QyCn6dSLC0tRUxMDEpKShAdHe3t4nic1I1C/Njr6deMkrKqOS45idzMLc3qIiu5nj1K9+XKPtXUxex1+XhvS4HkNu1NM1BVLai6gTgqnwA4TBooJrjbNqWPqptV7uFTGDl/p+L1xH0D7v2MqKl3X/oME3mSkvs3HzP5EV+KF1BSVjXHpWRCQlcDCdVMfqh2n2rqoqKyGvO3St9QAWD+1gK7j5yUBrLKKZ+j7MeuPvKTE/MjdRju/oyoqXdf+gwT6QkbM37El5JMKSmrmuNSOiGhK4GESvflSvCimrpYklsIZ/e+aqFmOVe5MhGkObWP/JzF/AiAw7pw52dETb370meYSE/YmPEjvpRkSklZi0suKt6m3O2HhwRiUr/myEhNkLW8s/3KITd40V4AqJK6ENff9OvfstY5cvqCrOWc7dcdXMkd4ihodHy3ZFnbcMdxyK1P8+V86TNMpCcMAPYjvpRkSm4ZCk9ewIcyewzMtyl3+xcqqvDa+kNYtuuo6uBPuft6oHczdGtWX1bsib0A0Drhwaiskvd4ofDkBXSfs0FRL0lSbLjsZaW4em25a1JIqaDRHwpOY+H2Qqfru+MzIrc+zZfzpc8wkZ6wZ8aP+FKSKTllrRMejNfX/4rT5yscbsvecSmdkNCVhGpy6/2RjBayYk+kkr6dvXAZ58orHa5rXm9KGjIBBmBMerLs5aXIPa8GaJOfyDrmR8vPyJj0ZMn4HJF1vfvSZ5hIT9iY8SO+lGRKTmwDzP7rjPVxKZ2Q0JXgSnfWu5pgYnNK602U1SMFIUGufx3IqYsXhl3jtdwhWn5GQoICkNUjxeEy1vXuS59hIj3h0GwNqR3qqlT2gSLMWJ2P4lJlOSoqKquxJLcQR05fQFJsOMakJ7vlBmePWBc5+cVYlXfMovclMSYUIzo1wWvrDzndTmxEMGbdco3kcanJ/bI0qwuuTaqruC7U1rv5dXGyrBzPrj0ou6zm6oYHI7Nrsqx6EwUYIJnvxJXrVU6eFK0+D1LlU3Ou1LCXZ8ZRvYvlU5srSk29evNcyKH38pFnKLl/ezVmZsuWLXjppZewe/duFBUVYeXKlbj55ptN72dmZuLDDz+0WKdz587YuVNdHglv0jKRXQ3LNqqzNquaxF5q2auL2Ihg3NKuEfqlJuC6lFh89dMxWduSkxVVjJ34+kCRrAkdP9h6GKM/+FtlXSirdzWNLSnVAlB6UXrYs7kezevj+hYNJBtprl6vchKdiY+BvEfZuVJr6uBUPNq/laLGsdpEcWrOm/bfTcrovXykD17tmfn666+xfft2dOjQAbfeeqvdxszx48exaNEi02shISGIjZX/vFgPPTNaJsHSKqGap8unJPmZAfLq0JWEaiKputAiqZ87OUrW5+9J2/z1+Nx5DeqlLvRePvIsn0maN2jQIDz33HMYNmyY5DJGoxEJCQmmf0oaMnqgZRIsLROqebp8SgN45dShnOBKZ+zVhaeT+ikVYJA+FmcBpP6etM1fj8/d16Ae6kLv5SN90X0A8KZNmxAXF4cWLVogKysLJ06ccLh8eXk5SktLLf55k5ZJsHw9oZp5+cwDIZ2RW4dyg44dsVcXWiT1U6JaqNmnmgBSf0/a5q/H54lr0Nt1offykb7oujEzaNAgfPLJJ9iwYQNeeeUV7Nq1C3369EF5ebnkOrNnz0ZMTIzpX5MmTTQssS0tk2Cp2ZeaxF5qKS2fmPysTliw27bvKKFarxYNZO3nyOkLFgnttv8mLymdmqR+5uqGByM8JFDWsuO7JasaLeTvSdv89fjUHJfe60Lv5SN90XXSvDvuuMP0/2lpaejYsSOSkpKwdu1ayUdTU6dOxeTJk01/l5aWerVBo2USLDX7UpPYSy015RuYlogoYzBGL/jebduXCq5cvL0Am2Vky71QXqk4IZ11+eSWddoNV6N+lNFUxp2HT8mqi4zUBDx1Q6riAFJ/T9rmr8en5rj0Xhd6Lx/pi64bM9YSExORlJSEQ4ekh54ajUYYjUYNS+WYGKdRXHLJ7mMMd2U8VbuvMenJeH7dQYePmtydUE1pXXRpWs/tdWhvJI2cujAAWL7nL8WTSlqXT25dZHZLsWiAKKkLNaOFtLxevcFfj0/Ncem9LvRePtIXXT9msnbq1CkcPXoUiYm+E72uZRIsNftSk9hLy/K5sp5ScuoiPCRQcUMGUJbUz5t14e9J2/z1+NQcl97rQu/lI33xamPm3LlzyMvLQ15eHgCgoKAAeXl5+OOPP3Du3Dk89thjyM3NRWFhITZt2oQhQ4agfv36uOWWW7xZbAD2JwGUIsZpxEcrj2FQsh/zfSmJl5g6OBX39kyx+4XhzmHZastnvl5cVIjF63FRIU7rsKKyGgu2/o6nvzyABVt/dzgyS6wL6+/HAAMwpE0CzldUOTlCS46OSzymBpHKjsmV60lOXag9R9aUXrtq11HKXcenN2qOS+91offykX549THTjz/+iN69e5v+FmNdxo0bh3nz5mH//v346KOPcPbsWSQmJqJ379747LPPEBUV5a0iA3AliZPrCdXk7Edtwi2DATAvksFDP3jUlm/vH2fw9znLeZr+PleBvX+ckawPNckApZKcfX2gCGt+KlZ0rMUllxyWb/meP3HC6piOl1Vg+Z4/ZXxRey4xotpzJNJ78jZXj0+v1ByX3utC7+UjfeB0BgpplZhKy2RRWibNU0tNGd19XK4k3bO3r6yPdiEnXzrVQEZqHOaP7WTzur8kRnR1HSLybz6TNM/XaJWYSstkUVomzVNLTRk9cVxKE/k52tfFiiqHDRkAyMk/gYtWj7X8KTGiK+sQEZljY0YBrRJTaZksSsukeWqpKaMnjkvpTNyO9jVrXb6s9ayX86fEiK6sQ0Rkjo0ZBbRKTKVlsigtk+appaaMnjouqYBEpfsqPCVvv9bL+VtiRLXrEBGZ86k8M96mVWIqLZNFaZk0Ty01ZfTkcVkHJP5YeBpLdv6haF/J9cKxVTpdksVy5vwxMSKToxGRq9gzo4CciQqtJ/HTah21xqQn2wxDtuaupHlqqSmjp49LTEh3U7tGmHZja8X7elJmsK31cmquDS3Psd6vdyLyT2zMKKBVYiotk0VpmTRPLTVl1PK41OwrLCQQGalxDtfJSI1DmNVcTP6YGJHJ0YjIVRyarYJWOTS0zLthLwdJgAEO87G4oqKy2iaPi7ObqZoySg1JdjYUuapaUJzXQmpfWT2S0adVgt1tSQ3PlhqWLco+UITpX/6M42VXJl1NiDZixtDWDnPuvL+lwGLUkAHAvz1QF2qv9xmr81Fc6vnrnYj0T8n9mzEzKmiVmErLZFFSieI80SOjJpGd2jKu2POX5OtS+1LbiMz9/ZTd1xfvOIL5WwvtbuvWDo2x74+zFonz4iJDcGuHxpL7AcQEgpazx58oK3eYoK/9VXURH11k0ViIjw5F+6vqSu5H68SNShMBEhEB7JkhjWmZvK3Tczk2GYPNNYgMwa7/y7B4TW3ytqFzt+KnP0tllUvc1r97ptj0lMjZl5o61HsiOybNIyJrTJpHuqRl8rbT5yocNmSAmqkQTpstozZ527lLlbIbMubbmr/VtiHjbF9q6lDvieyYNI+IXMXGDGlGy+RtI97foXg5tcnbHvlsr+LyCYDDupDal5o61HsiOybNIyJXsTFDmtE2eZvjXhl7y6lN3vbHmYvyC6aQ9b7U1KHeE9kxaR4RuYqNGdKMtsnbQhQvpzZ521V1w+QXTCHrfampQ70nsmPSPCJyFRszpBktk7ct+3dXxcupTd722h3tFZfPADisC6l9qalDvSeyY9I8InIVGzOkGS2Tt8VGhqBBpOPemQaRIYg1W0Zt8rbI0CC0aSx/pJy4dlaPFBgU7ktNHeo9kR2T5hGRq9iYIU1NHZyKe3um2PQuBBjkDcuuqKzGgq2/4+kvD2DB1t8djnza9X8Zkg0ae8OygSsTSVo/poqLCnE4PHj1Az0kGzTBgZYHmxATinl3dsDUwamYd2cHxEcbLd6PjzY63JeaOpSaIFMsi719qVlHLS33RUT+h0nzSHPtr6qLBpHHLLLXNog0OkzeBqhLtrfr/zJw+lwFRry/AyfKKhAXFYJl/+5q0SNjrSYhnWUA8d/nKhwmpANqGjTnLlXikc/24o8zF3FV3TC8dkd7hIUEOkkeJ9UfIU1NAkG9J27Ucl9E5F+YNI80pTY5mlbJ9rRM6sdEcURE0pg0j3RJbXI0rZLtaZnUj4niiIjch40Z0oza5GhaJdvTMqkfE8UREbkPGzOkGbXJ0bRKtqdtUj8miiMichc2ZkgzapOjaZVsT9ukfkwUR0TkLmzMkGbUJkfTKtmelkn9mCiOiMh92JghzahNjqZVsj0tk/oxURwRkfuwMUOaupKUzvOJ4tTQaj/AlbqIj1aXKK6qWkDu4VP4Mu8v5B4+xZFPRFRrMWkeaa4mKV25xWsnysqdJqVTkyhODa32c4VlI0RO6qfsA0WYuSbfYkRUYkwopg9JZW4aIqp1mDSPNKVlUjq9U5s0j8n2iKg2YNI80iUtk9LpndqkeUy2R0Rki40Z0oyWSen0Tm3SPCbbIyKyxcYMaUbLpHR6pzZpHpPtERHZYmOGNKNlUjq9U5s0j8n2iIhssTFDmtEyKZ3eqU2ax2R7RES22JghzWiZlE7v1CbNY7I9IiJb/n/XIF3RMimd3olJ8xJilCXNczXZnlJMzkdEeufVpHlbtmzBSy+9hN27d6OoqAgrV67EzTffbHpfEATMnDkT77//Ps6cOYPOnTvj7bffRuvWrb1XaHKZ9knp9GtgWiIyUhPwQ8FpnCi7hLiomkdE8npWlCfbU4rJ+YjIF3j17nH+/Hm0bdsWc+fOtfv+iy++iFdffRVz587Frl27kJCQgIyMDJSVlWlcUnK3kKAA3N3jX3jmpjTc3eNftbIhIwoMMCC9aT3c1K4R0pvWc9qQEZPmFZdaZlE+XlqO+z/eg+wDRW4pl7gf66HgxSWX3LofIiJXefUOMmjQIDz33HMYNmyYzXuCIOD111/HU089hWHDhiEtLQ0ffvghLly4gE8//dQLpSXyPq2S5jE5HxH5Et3+HC4oKEBxcTH69+9ves1oNKJXr17YsWOH5Hrl5eUoLS21+EfkL7RKmsfkfETkS3TbmCkuLgYAxMfHW7weHx9ves+e2bNnIyYmxvSvSZMmHi0nkZa0SprH5HxE5Et025gRGQyW8QOCINi8Zm7q1KkoKSkx/Tt69Kini0ikGa2S5jE5HxH5Et02ZhISEgDAphfmxIkTNr015oxGI6Kjoy3+EfkLrZLmMTkfEfkS3TZmUlJSkJCQgJycHNNrFRUV2Lx5M7p27erFkhF5j1ZJ85icj4h8iVcbM+fOnUNeXh7y8vIA1AT95uXl4Y8//oDBYMCkSZMwa9YsrFy5EgcOHEBmZibCw8MxatQobxabyKvUJtvT637IPiYrJJLPIHgi05ZMmzZtQu/evW1eHzduHBYvXmxKmvfee+9ZJM1LS0uTvY/S0lLExMSgpKSEj5zIr1RVCyqT7elzP3QFkxUSKbt/e7UxowU2ZojIl4jJCq2/mMXmI3vFqLZQcv/WbcwMEVFtw2SFROqwMUNEpBNMVkikDhszREQ6wWSFROqwMUNEpBNMVkikDhszREQ6wWSFROqwMUNEpBNMVkikDhszREQ6wmSFRMoFebsARERkaWBaIjJSE5iskEgmNmaIiHQoMMCA9Kb1vF0MIp/Ax0xERETk09iYISIiIp/GxgwRERH5NDZmiIiIyKexMUNEREQ+jY0ZIiIi8mlszBAREZFPY2OGiIiIfBobM0REROTT/D4DsCAIAIDS0lIvl4SIiIjkEu/b4n3cEb9vzJSVlQEAmjRp4uWSEBERkVJlZWWIiYlxuIxBkNPk8WHV1dU4duwYoqKiYDDYn6SttLQUTZo0wdGjRxEdHa1xCfWFdXEF6+IK1oUl1scVrIsrWBdXuKMuBEFAWVkZGjZsiIAAx1Exft8zExAQgMaNG8taNjo6utZfgCLWxRWsiytYF5ZYH1ewLq5gXVzhal0465ERMQCYiIiIfBobM0REROTT2JgBYDQaMX36dBiNRm8XxetYF1ewLq5gXVhifVzBuriCdXGF1nXh9wHARERE5N/YM0NEREQ+jY0ZIiIi8mlszBAREZFPY2OGiIiIfJrfN2aSk5NhMBhs/k2cONHu8ps2bbK7/P/+9z+NS+66LVu2YMiQIWjYsCEMBgNWrVpl8b4gCJgxYwYaNmyIsLAwXH/99fj555+dbnf58uVITU2F0WhEamoqVq5c6aEjcB9HdXH58mVMmTIF11xzDSIiItCwYUOMHTsWx44dc7jNxYsX271WLl265OGjcZ2zayMzM9PmuLp06eJ0u/52bQCwe44NBgNeeuklyW364rUxe/ZsdOrUCVFRUYiLi8PNN9+MX375xWKZ2vKd4awuatN3hpzrQg/fF37fmNm1axeKiopM/3JycgAAt99+u8P1fvnlF4v1mjdvrkVx3er8+fNo27Yt5s6da/f9F198Ea+++irmzp2LXbt2ISEhARkZGab5rOzJzc3FHXfcgTFjxmDfvn0YM2YMhg8fju+//95Th+EWjuriwoUL2LNnD6ZNm4Y9e/ZgxYoV+PXXXzF06FCn242Ojra4ToqKihAaGuqJQ3ArZ9cGAAwcONDiuNatW+dwm/54bQCwOb8LFy6EwWDArbfe6nC7vnZtbN68GRMnTsTOnTuRk5ODyspK9O/fH+fPnzctU1u+M5zVRW36zpBzXQA6+L4QapmHH35YaNq0qVBdXW33/Y0bNwoAhDNnzmhbMA8DIKxcudL0d3V1tZCQkCC88MILptcuXbokxMTECO+++67kdoYPHy4MHDjQ4rUBAwYII0aMcHuZPcW6Luz54YcfBADCkSNHJJdZtGiREBMT497CeYG9+hg3bpxw0003KdpObbk2brrpJqFPnz4Ol/GHa+PEiRMCAGHz5s2CINTu7wzrurCntnxn2KsLPXxf+H3PjLmKigp8/PHHGD9+vOSkk6L27dsjMTERffv2xcaNGzUqoXYKCgpQXFyM/v37m14zGo3o1asXduzYIblebm6uxToAMGDAAIfr+KKSkhIYDAbUqVPH4XLnzp1DUlISGjdujBtvvBF79+7VpoAa2LRpE+Li4tCiRQtkZWXhxIkTDpevDdfG8ePHsXbtWtx9991Ol/X1a6OkpAQAEBsbC6B2f2dY14XUMrXhO0OqLrz9fVGrGjOrVq3C2bNnkZmZKblMYmIi3n//fSxfvhwrVqxAy5Yt0bdvX2zZskW7gmqguLgYABAfH2/xenx8vOk9qfWUruNrLl26hCeeeAKjRo1yOEFaq1atsHjxYqxevRpLly5FaGgounXrhkOHDmlYWs8YNGgQPvnkE2zYsAGvvPIKdu3ahT59+qC8vFxyndpwbXz44YeIiorCsGHDHC7n69eGIAiYPHkyunfvjrS0NAC19zvDXl1Yqy3fGVJ1oYfvC7+fNdvcggULMGjQIDRs2FBymZYtW6Jly5amv9PT03H06FG8/PLL6NmzpxbF1JR1D5UgCE57rdSs4ysuX76MESNGoLq6Gu+8847DZbt06WIR5NatWzd06NABb731Ft58801PF9Wj7rjjDtP/p6WloWPHjkhKSsLatWsd3sj9+doAgIULF2L06NFOYxx8/dp44IEH8NNPP2Hbtm0279W27wxHdQHUru8MqbrQw/dFremZOXLkCNavX4977rlH8bpdunTxmZazXAkJCQBg0wo+ceKETWvZej2l6/iKy5cvY/jw4SgoKEBOTo7iaesDAgLQqVMnv7tWgJoey6SkJIfH5s/XBgBs3boVv/zyi6rvEF+6Nh588EGsXr0aGzduROPGjU2v18bvDKm6ENWm7wxndWHOG98XtaYxs2jRIsTFxeGGG25QvO7evXuRmJjogVJ5T0pKChISEkyju4CamKLNmzeja9eukuulp6dbrAMA3377rcN1fIH4pXTo0CGsX78e9erVU7wNQRCQl5fnd9cKAJw6dQpHjx51eGz+em2IFixYgGuvvRZt27ZVvK4vXBuCIOCBBx7AihUrsGHDBqSkpFi8X5u+M5zVBVB7vjPk1IU1r3xfqAob9jFVVVXCVVddJUyZMsXmvSeeeEIYM2aM6e/XXntNWLlypfDrr78KBw4cEJ544gkBgLB8+XIti+wWZWVlwt69e4W9e/cKAIRXX31V2Lt3ryna/oUXXhBiYmKEFStWCPv37xdGjhwpJCYmCqWlpaZtjBkzRnjiiSdMf2/fvl0IDAwUXnjhBeHgwYPCCy+8IAQFBQk7d+7U/PiUcFQXly9fFoYOHSo0btxYyMvLE4qKikz/ysvLTduwrosZM2YI2dnZwuHDh4W9e/cKd911lxAUFCR8//333jhERRzVR1lZmfDoo48KO3bsEAoKCoSNGzcK6enpQqNGjWrdtSEqKSkRwsPDhXnz5tndhj9cG/fff78QExMjbNq0yeIzcOHCBdMyteU7w1ld1KbvDGd1oZfvi1rRmPnmm28EAMIvv/xi8964ceOEXr16mf6eM2eO0LRpUyE0NFSoW7eu0L17d2Ht2rUaltZ9xGHm1v/GjRsnCELNUMvp06cLCQkJgtFoFHr27Cns37/fYhu9evUyLS/64osvhJYtWwrBwcFCq1atfKKh56guCgoK7L4HQNi4caNpG9Z1MWnSJOGqq64SQkJChAYNGgj9+/cXduzYof3BqeCoPi5cuCD0799faNCggRAcHCxcddVVwrhx44Q//vjDYhu14doQvffee0JYWJhw9uxZu9vwh2tD6jOwaNEi0zK15TvDWV3Upu8MZ3Whl+8Lwz+FJSIiIvJJtSZmhoiIiPwTGzNERETk09iYISIiIp/GxgwRERH5NDZmiIiIyKexMUNEREQ+jY0ZIiIi8mlszBCRLl1//fWYNGmS1/Y/Y8YMtGvXzmv7JyL52JghIod27NiBwMBADBw40NtF8RiDwYBVq1ZZvPbYY4/hu+++806BiEgRNmaIyKGFCxfiwQcfxLZt2/DHH394uziyVVVVobq6WvX6kZGRqiYPJCLtsTFDRJLOnz+Pzz//HPfffz9uvPFGLF682OL91atXo2PHjggNDUX9+vUxbNgw03vl5eV4/PHH0aRJExiNRjRv3hwLFiwwvZ+fn4/BgwcjMjIS8fHxGDNmDE6ePClZloqKCjz++ONo1KgRIiIi0LlzZ2zatMn0/uLFi1GnTh189dVXSE1NhdFoxJEjR7Br1y5kZGSgfv36iImJQa9evbBnzx7TesnJyQCAW265BQaDwfS39WOm6upqPPPMM2jcuDGMRiPatWuH7Oxs0/uFhYUwGAxYsWIFevfujfDwcLRt2xa5ubkKapyI1GBjhogkffbZZ2jZsiVatmyJO++8E4sWLYI4ndvatWsxbNgw3HDDDdi7dy++++47dOzY0bTu2LFjsWzZMrz55ps4ePAg3n33XURGRgIAioqK0KtXL7Rr1w4//vgjsrOzcfz4cQwfPlyyLHfddRe2b9+OZcuW4aeffsLtt9+OgQMH4tChQ6ZlLly4gNmzZ+ODDz7Azz//jLi4OJSVlWHcuHHYunUrdu7ciebNm2Pw4MEoKysDAOzatQsAsGjRIhQVFZn+tvbGG2/glVdewcsvv4yffvoJAwYMwNChQy32DwBPPfUUHnvsMeTl5aFFixYYOXIkKisrVdQ+EcmmeopKIvJ7Xbt2FV5//XVBEATh8uXLQv369YWcnBxBEAQhPT1dGD16tN31fvnlFwGAaVlr06ZNE/r372/x2tGjRy1mt+/Vq5fw8MMPC4IgCL/99ptgMBiEv/76y2Kdvn37ClOnThUEQRAWLVokABDy8vIcHlNlZaUQFRUlrFmzxvQaAGHlypUWy02fPl1o27at6e+GDRsKzz//vMUynTp1EiZMmCAIwpWZlD/44APT+z///LMAQDh48KDDMhGRa9gzQ0R2/fLLL/jhhx8wYsQIAEBQUBDuuOMOLFy4EACQl5eHvn372l03Ly8PgYGB6NWrl933d+/ejY0bNyIyMtL0r1WrVgCAw4cP2yy/Z88eCIKAFi1aWKyzefNmi+VDQkLQpk0bi3VPnDiB++67Dy1atEBMTAxiYmJw7tw5RfE/paWlOHbsGLp162bxerdu3XDw4EGL18z3n5iYaCoDEXlOkLcLQET6tGDBAlRWVqJRo0am1wRBQHBwMM6cOYOwsDDJdR29B9TEnwwZMgRz5syxeU9sAFgvHxgYiN27dyMwMNDiPfHRlbhfg8Fg8X5mZib+/vtvvP7660hKSoLRaER6ejoqKiocltEe620LgmDzWnBwsM3yrgQiE5FzbMwQkY3Kykp89NFHeOWVV9C/f3+L92699VZ88sknaNOmDb777jvcddddNutfc801qK6uxubNm9GvXz+b9zt06IDly5cjOTkZQUHOv4bat2+PqqoqnDhxAj169FB0LFu3bsU777yDwYMHAwCOHj1qE2gcHByMqqoqyW1ER0ejYcOG2LZtG3r27Gl6fceOHbjuuusUlYeI3I+NGSKy8dVXX+HMmTO4++67ERMTY/HebbfdhgULFuC1115D37590bRpU4wYMQKVlZX4+uuv8fjjjyM5ORnjxo3D+PHj8eabb6Jt27Y4cuQITpw4geHDh2PixImYP38+Ro4cif/85z+oX78+fvvtNyxbtgzz58+36X1p0aIFRo8ejbFjx+KVV15B+/btcfLkSWzYsAHXXHONqaFiT7NmzbBkyRJ07NgRpaWl+M9//mPTc5ScnIzvvvsO3bp1g9FoRN26dW2285///AfTp09H06ZN0a5dOyxatAh5eXn45JNPXKhpInIHxswQkY0FCxagX79+Ng0ZoKZnJi8vD9HR0fjiiy+wevVqtGvXDn369MH3339vWm7evHm47bbbMGHCBLRq1QpZWVk4f/48AKBhw4bYvn07qqqqMGDAAKSlpeHhhx9GTEwMAgLsfy0tWrQIY8eOxaOPPoqWLVti6NCh+P7779GkSROHx7Jw4UKcOXMG7du3x5gxY/DQQw8hLi7OYplXXnkFOTk5aNKkCdq3b293Ow899BAeffRRPProo7jmmmuQnZ2N1atXo3nz5g73T0SeZxCEf8ZZEhEREfkg9swQERGRT2NjhoiIiHwaGzNERETk09iYISIiIp/GxgwRERH5NDZmiIiIyKexMUNEREQ+jY0ZIiIi8mlszBAREZFPY2OGiIiIfBobM0REROTT2JghIiIin/b/IYLmS50vxrcAAAAASUVORK5CYII=",
>>>>>>> upstream/main
      "text/plain": [
       "<Figure size 640x480 with 1 Axes>"
      ]
     },
     "metadata": {},
     "output_type": "display_data"
    }
   ],
   "source": [
    "plt.scatter(x = carfeatures['weight'], y = carfeatures['mpg'])\n",
<<<<<<< HEAD
    "plt.show()"
   ]
  },
  {
   "cell_type": "markdown",
   "metadata": {},
   "source": [
    "### Q: Is this a good plot?"
   ]
  },
  {
   "cell_type": "code",
   "execution_count": 15,
   "metadata": {},
   "outputs": [
    {
     "name": "stdout",
     "output_type": "stream",
     "text": [
      "Help on function scatter in module matplotlib.pyplot:\n",
      "\n",
      "scatter(\n",
      "    x: 'float | ArrayLike',\n",
      "    y: 'float | ArrayLike',\n",
      "    s: 'float | ArrayLike | None' = None,\n",
      "    c: 'ArrayLike | Sequence[ColorType] | ColorType | None' = None,\n",
      "    *,\n",
      "    marker: 'MarkerType | None' = None,\n",
      "    cmap: 'str | Colormap | None' = None,\n",
      "    norm: 'str | Normalize | None' = None,\n",
      "    vmin: 'float | None' = None,\n",
      "    vmax: 'float | None' = None,\n",
      "    alpha: 'float | None' = None,\n",
      "    linewidths: 'float | Sequence[float] | None' = None,\n",
      "    edgecolors: \"Literal['face', 'none'] | ColorType | Sequence[ColorType] | None\" = None,\n",
      "    colorizer: 'Colorizer | None' = None,\n",
      "    plotnonfinite: 'bool' = False,\n",
      "    data=None,\n",
      "    **kwargs\n",
      ") -> 'PathCollection'\n",
      "    A scatter plot of *y* vs. *x* with varying marker size and/or color.\n",
      "\n",
      "    Parameters\n",
      "    ----------\n",
      "    x, y : float or array-like, shape (n, )\n",
      "        The data positions.\n",
      "\n",
      "    s : float or array-like, shape (n, ), optional\n",
      "        The marker size in points**2 (typographic points are 1/72 in.).\n",
      "        Default is ``rcParams['lines.markersize'] ** 2``.\n",
      "\n",
      "        The linewidth and edgecolor can visually interact with the marker\n",
      "        size, and can lead to artifacts if the marker size is smaller than\n",
      "        the linewidth.\n",
      "\n",
      "        If the linewidth is greater than 0 and the edgecolor is anything\n",
      "        but *'none'*, then the effective size of the marker will be\n",
      "        increased by half the linewidth because the stroke will be centered\n",
      "        on the edge of the shape.\n",
      "\n",
      "        To eliminate the marker edge either set *linewidth=0* or\n",
      "        *edgecolor='none'*.\n",
      "\n",
      "    c : array-like or list of :mpltype:`color` or :mpltype:`color`, optional\n",
      "        The marker colors. Possible values:\n",
      "\n",
      "        - A scalar or sequence of n numbers to be mapped to colors using\n",
      "          *cmap* and *norm*.\n",
      "        - A 2D array in which the rows are RGB or RGBA.\n",
      "        - A sequence of colors of length n.\n",
      "        - A single color format string.\n",
      "\n",
      "        Note that *c* should not be a single numeric RGB or RGBA sequence\n",
      "        because that is indistinguishable from an array of values to be\n",
      "        colormapped. If you want to specify the same RGB or RGBA value for\n",
      "        all points, use a 2D array with a single row.  Otherwise,\n",
      "        value-matching will have precedence in case of a size matching with\n",
      "        *x* and *y*.\n",
      "\n",
      "        If you wish to specify a single color for all points\n",
      "        prefer the *color* keyword argument.\n",
      "\n",
      "        Defaults to `None`. In that case the marker color is determined\n",
      "        by the value of *color*, *facecolor* or *facecolors*. In case\n",
      "        those are not specified or `None`, the marker color is determined\n",
      "        by the next color of the ``Axes``' current \"shape and fill\" color\n",
      "        cycle. This cycle defaults to :rc:`axes.prop_cycle`.\n",
      "\n",
      "    marker : `~.markers.MarkerStyle`, default: :rc:`scatter.marker`\n",
      "        The marker style. *marker* can be either an instance of the class\n",
      "        or the text shorthand for a particular marker.\n",
      "        See :mod:`matplotlib.markers` for more information about marker\n",
      "        styles.\n",
      "\n",
      "    cmap : str or `~matplotlib.colors.Colormap`, default: :rc:`image.cmap`\n",
      "        The Colormap instance or registered colormap name used to map scalar data\n",
      "        to colors.\n",
      "\n",
      "        This parameter is ignored if *c* is RGB(A).\n",
      "\n",
      "    norm : str or `~matplotlib.colors.Normalize`, optional\n",
      "        The normalization method used to scale scalar data to the [0, 1] range\n",
      "        before mapping to colors using *cmap*. By default, a linear scaling is\n",
      "        used, mapping the lowest value to 0 and the highest to 1.\n",
      "\n",
      "        If given, this can be one of the following:\n",
      "\n",
      "        - An instance of `.Normalize` or one of its subclasses\n",
      "          (see :ref:`colormapnorms`).\n",
      "        - A scale name, i.e. one of \"linear\", \"log\", \"symlog\", \"logit\", etc.  For a\n",
      "          list of available scales, call `matplotlib.scale.get_scale_names()`.\n",
      "          In that case, a suitable `.Normalize` subclass is dynamically generated\n",
      "          and instantiated.\n",
      "\n",
      "        This parameter is ignored if *c* is RGB(A).\n",
      "\n",
      "    vmin, vmax : float, optional\n",
      "        When using scalar data and no explicit *norm*, *vmin* and *vmax* define\n",
      "        the data range that the colormap covers. By default, the colormap covers\n",
      "        the complete value range of the supplied data. It is an error to use\n",
      "        *vmin*/*vmax* when a *norm* instance is given (but using a `str` *norm*\n",
      "        name together with *vmin*/*vmax* is acceptable).\n",
      "\n",
      "        This parameter is ignored if *c* is RGB(A).\n",
      "\n",
      "    alpha : float, default: None\n",
      "        The alpha blending value, between 0 (transparent) and 1 (opaque).\n",
      "\n",
      "    linewidths : float or array-like, default: :rc:`lines.linewidth`\n",
      "        The linewidth of the marker edges. Note: The default *edgecolors*\n",
      "        is 'face'. You may want to change this as well.\n",
      "\n",
      "    edgecolors : {'face', 'none', *None*} or :mpltype:`color` or list of :mpltype:`color`, default: :rc:`scatter.edgecolors`\n",
      "        The edge color of the marker. Possible values:\n",
      "\n",
      "        - 'face': The edge color will always be the same as the face color.\n",
      "        - 'none': No patch boundary will be drawn.\n",
      "        - A color or sequence of colors.\n",
      "\n",
      "        For non-filled markers, *edgecolors* is ignored. Instead, the color\n",
      "        is determined like with 'face', i.e. from *c*, *colors*, or\n",
      "        *facecolors*.\n",
      "\n",
      "    colorizer : `~matplotlib.colorizer.Colorizer` or None, default: None\n",
      "        The Colorizer object used to map color to data. If None, a Colorizer\n",
      "        object is created from a *norm* and *cmap*.\n",
      "\n",
      "        This parameter is ignored if *c* is RGB(A).\n",
      "\n",
      "    plotnonfinite : bool, default: False\n",
      "        Whether to plot points with nonfinite *c* (i.e. ``inf``, ``-inf``\n",
      "        or ``nan``). If ``True`` the points are drawn with the *bad*\n",
      "        colormap color (see `.Colormap.set_bad`).\n",
      "\n",
      "    Returns\n",
      "    -------\n",
      "    `~matplotlib.collections.PathCollection`\n",
      "\n",
      "    Other Parameters\n",
      "    ----------------\n",
      "    data : indexable object, optional\n",
      "        If given, the following parameters also accept a string ``s``, which is\n",
      "        interpreted as ``data[s]`` if ``s`` is a key in ``data``:\n",
      "\n",
      "        *x*, *y*, *s*, *linewidths*, *edgecolors*, *c*, *facecolor*, *facecolors*, *color*\n",
      "    **kwargs : `~matplotlib.collections.PathCollection` properties\n",
      "        Properties:\n",
      "        agg_filter: a filter function, which takes a (m, n, 3) float array and a dpi value, and returns a (m, n, 3) array and two offsets from the bottom left corner of the image\n",
      "        alpha: array-like or scalar or None\n",
      "        animated: bool\n",
      "        antialiased or aa or antialiaseds: bool or list of bools\n",
      "        array: array-like or None\n",
      "        capstyle: `.CapStyle` or {'butt', 'projecting', 'round'}\n",
      "        clim: (vmin: float, vmax: float)\n",
      "        clip_box: `~matplotlib.transforms.BboxBase` or None\n",
      "        clip_on: bool\n",
      "        clip_path: Patch or (Path, Transform) or None\n",
      "        cmap: `.Colormap` or str or None\n",
      "        color: :mpltype:`color` or list of RGBA tuples\n",
      "        edgecolor or ec or edgecolors: :mpltype:`color` or list of :mpltype:`color` or 'face'\n",
      "        facecolor or facecolors or fc: :mpltype:`color` or list of :mpltype:`color`\n",
      "        figure: `~matplotlib.figure.Figure` or `~matplotlib.figure.SubFigure`\n",
      "        gid: str\n",
      "        hatch: {'/', '\\\\', '|', '-', '+', 'x', 'o', 'O', '.', '*'}\n",
      "        hatch_linewidth: unknown\n",
      "        in_layout: bool\n",
      "        joinstyle: `.JoinStyle` or {'miter', 'round', 'bevel'}\n",
      "        label: object\n",
      "        linestyle or dashes or linestyles or ls: str or tuple or list thereof\n",
      "        linewidth or linewidths or lw: float or list of floats\n",
      "        mouseover: bool\n",
      "        norm: `.Normalize` or str or None\n",
      "        offset_transform or transOffset: `.Transform`\n",
      "        offsets: (N, 2) or (2,) array-like\n",
      "        path_effects: list of `.AbstractPathEffect`\n",
      "        paths: unknown\n",
      "        picker: None or bool or float or callable\n",
      "        pickradius: float\n",
      "        rasterized: bool\n",
      "        sizes: `numpy.ndarray` or None\n",
      "        sketch_params: (scale: float, length: float, randomness: float)\n",
      "        snap: bool or None\n",
      "        transform: `~matplotlib.transforms.Transform`\n",
      "        url: str\n",
      "        urls: list of str or None\n",
      "        visible: bool\n",
      "        zorder: float\n",
      "\n",
      "    See Also\n",
      "    --------\n",
      "    plot : To plot scatter plots when markers are identical in size and\n",
      "        color.\n",
      "\n",
      "    Notes\n",
      "    -----\n",
      "\n",
      "    .. note::\n",
      "\n",
      "        This is the :ref:`pyplot wrapper <pyplot_interface>` for `.axes.Axes.scatter`.\n",
      "\n",
      "    * The `.plot` function will be faster for scatterplots where markers\n",
      "      don't vary in size or color.\n",
      "\n",
      "    * Any or all of *x*, *y*, *s*, and *c* may be masked arrays, in which\n",
      "      case all masks will be combined and only unmasked points will be\n",
      "      plotted.\n",
      "\n",
      "    * Fundamentally, scatter works with 1D arrays; *x*, *y*, *s*, and *c*\n",
      "      may be input as N-D arrays, but within scatter they will be\n",
      "      flattened. The exception is *c*, which will be flattened only if its\n",
      "      size matches the size of *x* and *y*.\n",
      "\n"
     ]
    }
   ],
   "source": [
    "# Try another scatter plot with x = \"acceleration\"\n",
    "\n",
    "help(plt.scatter)\n"
=======
    "plt.xlabel(\"Weight (pounds)\")\n",
    "plt.ylabel(\"MPG\")\n",
    "plt.title(\"Relationship between MPG and Weight\")\n",
    "plt.show()\n",
    "\n",
    "plt.scatter(x = carfeatures['acceleration'], y = carfeatures['mpg'])\n",
    "plt.xlabel(\"Acceleration\")\n",
    "plt.ylabel(\"MPG\")\n",
    "plt.title(\"Relationship between MPG and Acceleration\")\n",
    "plt.show()"
>>>>>>> upstream/main
   ]
  },
  {
   "attachments": {},
   "cell_type": "markdown",
   "metadata": {},
   "source": [
    "\n",
    "\n",
    "# <span style=\"color:darkblue\"> Pro Tips: How to be a great student for QTM 151?\n",
    " </span>\n",
    "\n",
    "<font size=\"5\"> \n",
    "\n",
    "- Ask clarifying questions, e.g.\n",
    "\n",
    "    -  Can you explain what this command is doing? --> **I don't mind repeating an explanation!**\n",
    "    -  What are the arguments of this function?\n",
    "    -  What is the output?\n",
    "    -  I get an error saying .... (be explicit), what could be the issue?"
   ]
  },
  {
   "attachments": {},
   "cell_type": "markdown",
   "metadata": {},
   "source": [
    "<font size=\"5\"> \n",
    "\n",
    "- Remember that good coders ...\n",
    "\n",
    "    -  build up their toolkit of commands over time\n",
    "    -  understand that errors are normal the first time you run a command\n",
    "    -  **learn to use online websites to interpret errors!!**, https://stackoverflow.com/questions/tagged/python\n",
    "    -  search help pages to find proper syntax, e.g. https://www.w3schools.com/python/\n"
   ]
  },
  {
   "attachments": {},
   "cell_type": "markdown",
   "metadata": {},
   "source": [
    "<font size=\"5\"> \n",
    "\n",
    "- Experiment\n",
    "\n",
    "    -  If we do analyses for variable \"A\", try it for \"B\"\n",
    "    -  Search online how to do something extra, e.g. change the color of a scatter plot\n",
    "    -  Try running the syntax deliberately wrong: helps you get more familiar with error messages\n",
    "    -  Think long term: Figuring out a puzzle today, means that you can use the code for the next time!"
   ]
  },
  {
   "attachments": {},
   "cell_type": "markdown",
   "metadata": {},
   "source": [
    "<font size=\"5\"> \n",
    "\n",
    "- Come to office hours\n",
    "\n",
    "    -  Best time for a one-on-one!\n",
    "    -  Good place to ask about topics not covered in the lecture\n"
   ]
  }
 ],
 "metadata": {
  "kernelspec": {
   "display_name": "base",
   "language": "python",
   "name": "python3"
  },
  "language_info": {
   "codemirror_mode": {
    "name": "ipython",
    "version": 3
   },
   "file_extension": ".py",
   "mimetype": "text/x-python",
   "name": "python",
   "nbconvert_exporter": "python",
   "pygments_lexer": "ipython3",
   "version": "3.13.5"
  },
  "orig_nbformat": 4
 },
 "nbformat": 4,
 "nbformat_minor": 2
}
